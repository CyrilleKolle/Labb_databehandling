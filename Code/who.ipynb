{
 "cells": [
  {
   "cell_type": "code",
   "execution_count": 2,
   "metadata": {},
   "outputs": [],
   "source": [
    "import pandas as pd\n",
    "who = pd.read_csv('../Data/who-vaccination-metadata.csv')\n"
   ]
  },
  {
   "cell_type": "code",
   "execution_count": 7,
   "metadata": {},
   "outputs": [
    {
     "data": {
      "text/plain": [
       "ISO3                     0\n",
       "VACCINE_NAME             0\n",
       "PRODUCT_NAME             1\n",
       "COMPANY_NAME            20\n",
       "AUTHORIZATION_DATE     565\n",
       "START_DATE             279\n",
       "END_DATE              1055\n",
       "COMMENT               1055\n",
       "DATA_SOURCE              0\n",
       "dtype: int64"
      ]
     },
     "execution_count": 7,
     "metadata": {},
     "output_type": "execute_result"
    }
   ],
   "source": [
    "who.isnull().sum()"
   ]
  },
  {
   "cell_type": "code",
   "execution_count": 9,
   "metadata": {},
   "outputs": [
    {
     "data": {
      "text/plain": [
       "<bound method DataFrame.value_counts of      ISO3                 VACCINE_NAME     PRODUCT_NAME     COMPANY_NAME  \\\n",
       "0     SHN        AstraZeneca - AZD1222          AZD1222      AstraZeneca   \n",
       "1     GRL          Moderna - mRNA-1273        mRNA-1273          Moderna   \n",
       "2     FRO          Moderna - mRNA-1273        mRNA-1273          Moderna   \n",
       "3     FRO  Pfizer BioNTech - Comirnaty        Comirnaty  Pfizer BioNTech   \n",
       "4     BIH        AstraZeneca - AZD1222          AZD1222      AstraZeneca   \n",
       "...   ...                          ...              ...              ...   \n",
       "1050  TKM              Unknown Vaccine  Unknown Vaccine              NaN   \n",
       "1051  UZB              Unknown Vaccine  Unknown Vaccine              NaN   \n",
       "1052  MCO            Novavax - Covavax          Covavax              NaN   \n",
       "1053  THA                SII - Covovax          Covovax              NaN   \n",
       "1054  IND                SII - Covovax          Covovax              NaN   \n",
       "\n",
       "     AUTHORIZATION_DATE  START_DATE  END_DATE  COMMENT DATA_SOURCE  \n",
       "0                   NaN         NaN       NaN      NaN        OWID  \n",
       "1                   NaN         NaN       NaN      NaN        OWID  \n",
       "2                   NaN         NaN       NaN      NaN        OWID  \n",
       "3                   NaN         NaN       NaN      NaN        OWID  \n",
       "4                   NaN         NaN       NaN      NaN        OWID  \n",
       "...                 ...         ...       ...      ...         ...  \n",
       "1050                NaN  2022-03-02       NaN      NaN   REPORTING  \n",
       "1051                NaN  2021-05-12       NaN      NaN   REPORTING  \n",
       "1052                NaN  2022-03-30       NaN      NaN   REPORTING  \n",
       "1053         2022-04-27         NaN       NaN      NaN   REPORTING  \n",
       "1054                NaN         NaN       NaN      NaN   REPORTING  \n",
       "\n",
       "[1055 rows x 9 columns]>"
      ]
     },
     "execution_count": 9,
     "metadata": {},
     "output_type": "execute_result"
    }
   ],
   "source": [
    "who.value_counts\n"
   ]
  },
  {
   "cell_type": "code",
   "execution_count": null,
   "metadata": {},
   "outputs": [],
   "source": []
  }
 ],
 "metadata": {
  "kernelspec": {
   "display_name": "Python 3.9.13 ('data-behandlin-cyrille-kolle-IH-hno8Y')",
   "language": "python",
   "name": "python3"
  },
  "language_info": {
   "codemirror_mode": {
    "name": "ipython",
    "version": 3
   },
   "file_extension": ".py",
   "mimetype": "text/x-python",
   "name": "python",
   "nbconvert_exporter": "python",
   "pygments_lexer": "ipython3",
   "version": "3.9.13"
  },
  "orig_nbformat": 4,
  "vscode": {
   "interpreter": {
    "hash": "687cb790cab5c1df02f1d8017d39b24847b850bfcb98624e1903a6099427824d"
   }
  }
 },
 "nbformat": 4,
 "nbformat_minor": 2
}
