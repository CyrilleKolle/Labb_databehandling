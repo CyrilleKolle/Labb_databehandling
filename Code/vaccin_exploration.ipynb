{
 "cells": [
  {
   "cell_type": "code",
   "execution_count": 2,
   "metadata": {},
   "outputs": [],
   "source": [
    "import pandas as pd\n",
    "import seaborn as sns\n",
    "import matplotlib.pyplot as plt\n",
    "\n",
    "# get excel file in a xls variable\n",
    "xls = pd.ExcelFile(\"../Data/Folkhalsomyndigheten_Covid19_Vaccine.xlsx\")\n"
   ]
  },
  {
   "cell_type": "code",
   "execution_count": 3,
   "metadata": {},
   "outputs": [],
   "source": [
    "vaccinationer_tidsserie = pd.read_excel(xls, 'Vaccinationer tidsserie')\n",
    "vaccinerade_tidsserie = pd.read_excel(xls, 'Vaccinerade tidsserie')\n",
    "vaccinerade_dos_3 = pd.read_excel(xls, 'Vaccinerade tidsserie dos 3')\n",
    "vaccinerade_dos_4 = pd.read_excel(xls, 'Vaccinerade tidsserie dos 4')\n",
    "vaccinerade_dos_5 = pd.read_excel(xls, 'Vaccinerade tidsserie dos 5')\n",
    "dos_1_to_3_per_age_group = pd.read_excel(xls, 'Dos 1 till 3 per åldersgrupp')\n",
    "dos_4_per_age_group = pd.read_excel(xls, 'Dos 4 per åldersgrupp')\n",
    "dos_4_18_plus = pd.read_excel(xls, 'Dos 4 18+')\n",
    "dos_5_per_age_group  = pd.read_excel(xls, 'Dos 5 per åldersgrupp')\n",
    "vaccinerade_gender  = pd.read_excel(xls, 'Vaccinerade kön')\n",
    "vaccinerade_kommun  = pd.read_excel(xls, 'Vaccinerade kommun')\n",
    "vaccinerade_kommun_dos_3  = pd.read_excel(xls, 'Vaccinerade kommun dos 3')\n",
    "vaccinerade_kommun_dos_4  = pd.read_excel(xls, 'Vaccinerade kommun dos 4')\n",
    "vaccinerade_kommun_dos_5  = pd.read_excel(xls, 'Vaccinerade kommun dos 5')\n",
    "vaccinerade_kommun_och_ålder  = pd.read_excel(xls, 'Vaccinerade kommun och ålder')\n",
    "\n"
   ]
  },
  {
   "cell_type": "code",
   "execution_count": 4,
   "metadata": {},
   "outputs": [
    {
     "data": {
      "text/html": [
       "<div>\n",
       "<style scoped>\n",
       "    .dataframe tbody tr th:only-of-type {\n",
       "        vertical-align: middle;\n",
       "    }\n",
       "\n",
       "    .dataframe tbody tr th {\n",
       "        vertical-align: top;\n",
       "    }\n",
       "\n",
       "    .dataframe thead th {\n",
       "        text-align: right;\n",
       "    }\n",
       "</style>\n",
       "<table border=\"1\" class=\"dataframe\">\n",
       "  <thead>\n",
       "    <tr style=\"text-align: right;\">\n",
       "      <th></th>\n",
       "      <th>Vecka</th>\n",
       "      <th>År</th>\n",
       "      <th>Region</th>\n",
       "      <th>Antal vaccinationer</th>\n",
       "    </tr>\n",
       "  </thead>\n",
       "  <tbody>\n",
       "    <tr>\n",
       "      <th>0</th>\n",
       "      <td>52</td>\n",
       "      <td>2020</td>\n",
       "      <td>| Sverige |</td>\n",
       "      <td>2478</td>\n",
       "    </tr>\n",
       "    <tr>\n",
       "      <th>1</th>\n",
       "      <td>52</td>\n",
       "      <td>2020</td>\n",
       "      <td>Stockholm</td>\n",
       "      <td>289</td>\n",
       "    </tr>\n",
       "    <tr>\n",
       "      <th>2</th>\n",
       "      <td>52</td>\n",
       "      <td>2020</td>\n",
       "      <td>Uppsala</td>\n",
       "      <td>9</td>\n",
       "    </tr>\n",
       "    <tr>\n",
       "      <th>3</th>\n",
       "      <td>52</td>\n",
       "      <td>2020</td>\n",
       "      <td>Södermanland</td>\n",
       "      <td>116</td>\n",
       "    </tr>\n",
       "    <tr>\n",
       "      <th>4</th>\n",
       "      <td>52</td>\n",
       "      <td>2020</td>\n",
       "      <td>Östergötland</td>\n",
       "      <td>214</td>\n",
       "    </tr>\n",
       "  </tbody>\n",
       "</table>\n",
       "</div>"
      ],
      "text/plain": [
       "   Vecka    År        Region  Antal vaccinationer\n",
       "0     52  2020   | Sverige |                 2478\n",
       "1     52  2020     Stockholm                  289\n",
       "2     52  2020       Uppsala                    9\n",
       "3     52  2020  Södermanland                  116\n",
       "4     52  2020  Östergötland                  214"
      ]
     },
     "execution_count": 4,
     "metadata": {},
     "output_type": "execute_result"
    }
   ],
   "source": [
    "vaccinationer_tidsserie.head()"
   ]
  },
  {
   "cell_type": "code",
   "execution_count": 5,
   "metadata": {},
   "outputs": [
    {
     "data": {
      "text/plain": [
       "<bound method IndexOpsMixin.value_counts of 0        | Sverige |\n",
       "1        | Sverige |\n",
       "2          Stockholm\n",
       "3          Stockholm\n",
       "4            Uppsala\n",
       "            ...     \n",
       "4219        Jämtland\n",
       "4220    Västerbotten\n",
       "4221    Västerbotten\n",
       "4222      Norrbotten\n",
       "4223      Norrbotten\n",
       "Name: Region, Length: 4224, dtype: object>"
      ]
     },
     "execution_count": 5,
     "metadata": {},
     "output_type": "execute_result"
    }
   ],
   "source": [
    "vaccinerade_tidsserie['Region'].value_counts"
   ]
  },
  {
   "cell_type": "code",
   "execution_count": 6,
   "metadata": {},
   "outputs": [
    {
     "data": {
      "text/html": [
       "<div>\n",
       "<style scoped>\n",
       "    .dataframe tbody tr th:only-of-type {\n",
       "        vertical-align: middle;\n",
       "    }\n",
       "\n",
       "    .dataframe tbody tr th {\n",
       "        vertical-align: top;\n",
       "    }\n",
       "\n",
       "    .dataframe thead th {\n",
       "        text-align: right;\n",
       "    }\n",
       "</style>\n",
       "<table border=\"1\" class=\"dataframe\">\n",
       "  <thead>\n",
       "    <tr style=\"text-align: right;\">\n",
       "      <th></th>\n",
       "      <th>Län</th>\n",
       "      <th>Län_namn</th>\n",
       "      <th>Kommun</th>\n",
       "      <th>Kommun_namn</th>\n",
       "      <th>Ålder</th>\n",
       "      <th>Befolkning</th>\n",
       "      <th>Antal minst 1 dos</th>\n",
       "      <th>Antal minst 2 doser</th>\n",
       "      <th>Antal 3 doser</th>\n",
       "      <th>Antal 4 doser</th>\n",
       "      <th>Andel minst 1 dos</th>\n",
       "      <th>Andel minst 2 doser</th>\n",
       "      <th>Andel 3 doser</th>\n",
       "      <th>Andel 4 doser</th>\n",
       "    </tr>\n",
       "  </thead>\n",
       "  <tbody>\n",
       "    <tr>\n",
       "      <th>0</th>\n",
       "      <td>1</td>\n",
       "      <td>Stockholms län</td>\n",
       "      <td>114</td>\n",
       "      <td>Upplands Väsby</td>\n",
       "      <td>12-15</td>\n",
       "      <td>2422</td>\n",
       "      <td>1206</td>\n",
       "      <td>1046</td>\n",
       "      <td>NaN</td>\n",
       "      <td>NaN</td>\n",
       "      <td>0.497936</td>\n",
       "      <td>0.431874</td>\n",
       "      <td>NaN</td>\n",
       "      <td>NaN</td>\n",
       "    </tr>\n",
       "    <tr>\n",
       "      <th>1</th>\n",
       "      <td>1</td>\n",
       "      <td>Stockholms län</td>\n",
       "      <td>114</td>\n",
       "      <td>Upplands Väsby</td>\n",
       "      <td>16-17</td>\n",
       "      <td>1203</td>\n",
       "      <td>839</td>\n",
       "      <td>755</td>\n",
       "      <td>NaN</td>\n",
       "      <td>NaN</td>\n",
       "      <td>0.697423</td>\n",
       "      <td>0.627598</td>\n",
       "      <td>NaN</td>\n",
       "      <td>NaN</td>\n",
       "    </tr>\n",
       "    <tr>\n",
       "      <th>2</th>\n",
       "      <td>1</td>\n",
       "      <td>Stockholms län</td>\n",
       "      <td>114</td>\n",
       "      <td>Upplands Väsby</td>\n",
       "      <td>18-29</td>\n",
       "      <td>6692</td>\n",
       "      <td>4887</td>\n",
       "      <td>4469</td>\n",
       "      <td>1959.0</td>\n",
       "      <td>NaN</td>\n",
       "      <td>0.730275</td>\n",
       "      <td>0.667812</td>\n",
       "      <td>0.292738</td>\n",
       "      <td>NaN</td>\n",
       "    </tr>\n",
       "  </tbody>\n",
       "</table>\n",
       "</div>"
      ],
      "text/plain": [
       "   Län        Län_namn  Kommun     Kommun_namn  Ålder  Befolkning  \\\n",
       "0    1  Stockholms län     114  Upplands Väsby  12-15        2422   \n",
       "1    1  Stockholms län     114  Upplands Väsby  16-17        1203   \n",
       "2    1  Stockholms län     114  Upplands Väsby  18-29        6692   \n",
       "\n",
       "   Antal minst 1 dos  Antal minst 2 doser  Antal 3 doser  Antal 4 doser  \\\n",
       "0               1206                 1046            NaN            NaN   \n",
       "1                839                  755            NaN            NaN   \n",
       "2               4887                 4469         1959.0            NaN   \n",
       "\n",
       "   Andel minst 1 dos  Andel minst 2 doser  Andel 3 doser  Andel 4 doser  \n",
       "0           0.497936             0.431874            NaN            NaN  \n",
       "1           0.697423             0.627598            NaN            NaN  \n",
       "2           0.730275             0.667812       0.292738            NaN  "
      ]
     },
     "execution_count": 6,
     "metadata": {},
     "output_type": "execute_result"
    }
   ],
   "source": [
    "vaccinerade_kommun_och_ålder.head(3)"
   ]
  },
  {
   "cell_type": "markdown",
   "metadata": {},
   "source": [
    "## 2.a"
   ]
  },
  {
   "cell_type": "code",
   "execution_count": 7,
   "metadata": {},
   "outputs": [
    {
     "data": {
      "text/plain": [
       "21"
      ]
     },
     "execution_count": 7,
     "metadata": {},
     "output_type": "execute_result"
    }
   ],
   "source": [
    "vaccinerade_kommun_och_ålder['Län'].nunique()"
   ]
  },
  {
   "cell_type": "markdown",
   "metadata": {},
   "source": [
    "## 2.b"
   ]
  },
  {
   "cell_type": "code",
   "execution_count": 8,
   "metadata": {},
   "outputs": [
    {
     "data": {
      "text/plain": [
       "290"
      ]
     },
     "execution_count": 8,
     "metadata": {},
     "output_type": "execute_result"
    }
   ],
   "source": [
    "vaccinerade_kommun_och_ålder['Kommun'].nunique()"
   ]
  },
  {
   "cell_type": "code",
   "execution_count": 9,
   "metadata": {},
   "outputs": [
    {
     "data": {
      "text/plain": [
       "9092790"
      ]
     },
     "execution_count": 9,
     "metadata": {},
     "output_type": "execute_result"
    }
   ],
   "source": [
    "vaccinerade_kommun_och_ålder['Befolkning'].sum()"
   ]
  },
  {
   "cell_type": "code",
   "execution_count": 10,
   "metadata": {},
   "outputs": [
    {
     "data": {
      "text/plain": [
       "0    12\n",
       "1    16\n",
       "2    18\n",
       "3    30\n",
       "4    40\n",
       "Name: Ålder, dtype: int32"
      ]
     },
     "execution_count": 10,
     "metadata": {},
     "output_type": "execute_result"
    }
   ],
   "source": [
    "vaccinerade_kommun_och_ålder[\"Ålder\"] =  vaccinerade_kommun_och_ålder[\"Ålder\"].str[:2].astype(int)\n",
    "vaccinerade_kommun_och_ålder[\"Ålder\"].head()"
   ]
  },
  {
   "cell_type": "markdown",
   "metadata": {},
   "source": [
    "## 2. d)"
   ]
  },
  {
   "cell_type": "code",
   "execution_count": 11,
   "metadata": {},
   "outputs": [
    {
     "data": {
      "text/plain": [
       "2221320"
      ]
     },
     "execution_count": 11,
     "metadata": {},
     "output_type": "execute_result"
    }
   ],
   "source": [
    "import numpy as np\n",
    "\n",
    "#https://stackoverflow.com/questions/28236305/how-do-i-sum-values-in-a-column-that-match-a-given-condition-using-pandas\n",
    "np.where(vaccinerade_kommun_och_ålder[\"Ålder\"] <= 18, vaccinerade_kommun_och_ålder['Befolkning'], 0).sum()"
   ]
  },
  {
   "cell_type": "code",
   "execution_count": 12,
   "metadata": {},
   "outputs": [
    {
     "data": {
      "text/plain": [
       "2221320"
      ]
     },
     "execution_count": 12,
     "metadata": {},
     "output_type": "execute_result"
    }
   ],
   "source": [
    "vaccinerade_kommun_och_ålder[vaccinerade_kommun_och_ålder['Ålder']<=18]['Befolkning'].sum()"
   ]
  },
  {
   "cell_type": "markdown",
   "metadata": {},
   "source": [
    "## 2. e)"
   ]
  },
  {
   "cell_type": "code",
   "execution_count": 13,
   "metadata": {},
   "outputs": [
    {
     "data": {
      "text/plain": [
       "Län_namn\n",
       "Blekinge län             42.822781\n",
       "Dalarnas län            128.333151\n",
       "Gotlands län              8.903401\n",
       "Gävleborgs län           85.168444\n",
       "Hallands län             51.554289\n",
       "Jämtlands län            68.874393\n",
       "Jönköpings län          111.805788\n",
       "Kalmar län              102.155113\n",
       "Kronobergs län           65.998583\n",
       "Norrbottens län         121.847453\n",
       "Skåne län               275.836219\n",
       "Stockholms län          217.325754\n",
       "Södermanlands län        77.212242\n",
       "Uppsala län              70.593700\n",
       "Värmlands län           140.934303\n",
       "Västerbottens län       133.165914\n",
       "Västernorrlands län      61.058683\n",
       "Västmanlands län         83.648946\n",
       "Västra Götalands län    421.116158\n",
       "Örebro län              102.865782\n",
       "Östergötlands län       114.310106\n",
       "Name: Andel minst 1 dos, dtype: float64"
      ]
     },
     "execution_count": 13,
     "metadata": {},
     "output_type": "execute_result"
    }
   ],
   "source": [
    "dos_1 = vaccinerade_kommun_och_ålder.groupby('Län_namn')['Andel minst 1 dos'].sum()\n",
    "dos_1"
   ]
  },
  {
   "cell_type": "markdown",
   "metadata": {},
   "source": [
    "### minst dos 1"
   ]
  },
  {
   "cell_type": "code",
   "execution_count": 14,
   "metadata": {},
   "outputs": [
    {
     "data": {
      "application/vnd.plotly.v1+json": {
       "config": {
        "plotlyServerURL": "https://plot.ly"
       },
       "data": [
        {
         "alignmentgroup": "True",
         "hovertemplate": "x=%{x}<br>y=%{y}<extra></extra>",
         "legendgroup": "",
         "marker": {
          "color": "#636efa",
          "pattern": {
           "shape": ""
          }
         },
         "name": "",
         "offsetgroup": "",
         "orientation": "v",
         "showlegend": false,
         "textposition": "auto",
         "type": "bar",
         "x": [
          "Blekinge län",
          "Dalarnas län",
          "Gotlands län",
          "Gävleborgs län",
          "Hallands län",
          "Jämtlands län",
          "Jönköpings län",
          "Kalmar län",
          "Kronobergs län",
          "Norrbottens län",
          "Skåne län",
          "Stockholms län",
          "Södermanlands län",
          "Uppsala län",
          "Värmlands län",
          "Västerbottens län",
          "Västernorrlands län",
          "Västmanlands län",
          "Västra Götalands län",
          "Örebro län",
          "Östergötlands län"
         ],
         "xaxis": "x",
         "y": [
          42.822781042188886,
          128.33315108674782,
          8.90340084510786,
          85.16844384648172,
          51.55428907806314,
          68.87439257643959,
          111.80578809491442,
          102.15511306762706,
          65.99858260446551,
          121.84745251195278,
          275.8362190836552,
          217.32575360819925,
          77.21224179138265,
          70.59370012200351,
          140.93430290204898,
          133.16591415756565,
          61.05868316286209,
          83.64894610815031,
          421.1161575735435,
          102.8657823715532,
          114.31010555847796
         ],
         "yaxis": "y"
        }
       ],
       "layout": {
        "barmode": "relative",
        "legend": {
         "tracegroupgap": 0
        },
        "margin": {
         "t": 60
        },
        "template": {
         "data": {
          "bar": [
           {
            "error_x": {
             "color": "#2a3f5f"
            },
            "error_y": {
             "color": "#2a3f5f"
            },
            "marker": {
             "line": {
              "color": "#E5ECF6",
              "width": 0.5
             },
             "pattern": {
              "fillmode": "overlay",
              "size": 10,
              "solidity": 0.2
             }
            },
            "type": "bar"
           }
          ],
          "barpolar": [
           {
            "marker": {
             "line": {
              "color": "#E5ECF6",
              "width": 0.5
             },
             "pattern": {
              "fillmode": "overlay",
              "size": 10,
              "solidity": 0.2
             }
            },
            "type": "barpolar"
           }
          ],
          "carpet": [
           {
            "aaxis": {
             "endlinecolor": "#2a3f5f",
             "gridcolor": "white",
             "linecolor": "white",
             "minorgridcolor": "white",
             "startlinecolor": "#2a3f5f"
            },
            "baxis": {
             "endlinecolor": "#2a3f5f",
             "gridcolor": "white",
             "linecolor": "white",
             "minorgridcolor": "white",
             "startlinecolor": "#2a3f5f"
            },
            "type": "carpet"
           }
          ],
          "choropleth": [
           {
            "colorbar": {
             "outlinewidth": 0,
             "ticks": ""
            },
            "type": "choropleth"
           }
          ],
          "contour": [
           {
            "colorbar": {
             "outlinewidth": 0,
             "ticks": ""
            },
            "colorscale": [
             [
              0,
              "#0d0887"
             ],
             [
              0.1111111111111111,
              "#46039f"
             ],
             [
              0.2222222222222222,
              "#7201a8"
             ],
             [
              0.3333333333333333,
              "#9c179e"
             ],
             [
              0.4444444444444444,
              "#bd3786"
             ],
             [
              0.5555555555555556,
              "#d8576b"
             ],
             [
              0.6666666666666666,
              "#ed7953"
             ],
             [
              0.7777777777777778,
              "#fb9f3a"
             ],
             [
              0.8888888888888888,
              "#fdca26"
             ],
             [
              1,
              "#f0f921"
             ]
            ],
            "type": "contour"
           }
          ],
          "contourcarpet": [
           {
            "colorbar": {
             "outlinewidth": 0,
             "ticks": ""
            },
            "type": "contourcarpet"
           }
          ],
          "heatmap": [
           {
            "colorbar": {
             "outlinewidth": 0,
             "ticks": ""
            },
            "colorscale": [
             [
              0,
              "#0d0887"
             ],
             [
              0.1111111111111111,
              "#46039f"
             ],
             [
              0.2222222222222222,
              "#7201a8"
             ],
             [
              0.3333333333333333,
              "#9c179e"
             ],
             [
              0.4444444444444444,
              "#bd3786"
             ],
             [
              0.5555555555555556,
              "#d8576b"
             ],
             [
              0.6666666666666666,
              "#ed7953"
             ],
             [
              0.7777777777777778,
              "#fb9f3a"
             ],
             [
              0.8888888888888888,
              "#fdca26"
             ],
             [
              1,
              "#f0f921"
             ]
            ],
            "type": "heatmap"
           }
          ],
          "heatmapgl": [
           {
            "colorbar": {
             "outlinewidth": 0,
             "ticks": ""
            },
            "colorscale": [
             [
              0,
              "#0d0887"
             ],
             [
              0.1111111111111111,
              "#46039f"
             ],
             [
              0.2222222222222222,
              "#7201a8"
             ],
             [
              0.3333333333333333,
              "#9c179e"
             ],
             [
              0.4444444444444444,
              "#bd3786"
             ],
             [
              0.5555555555555556,
              "#d8576b"
             ],
             [
              0.6666666666666666,
              "#ed7953"
             ],
             [
              0.7777777777777778,
              "#fb9f3a"
             ],
             [
              0.8888888888888888,
              "#fdca26"
             ],
             [
              1,
              "#f0f921"
             ]
            ],
            "type": "heatmapgl"
           }
          ],
          "histogram": [
           {
            "marker": {
             "pattern": {
              "fillmode": "overlay",
              "size": 10,
              "solidity": 0.2
             }
            },
            "type": "histogram"
           }
          ],
          "histogram2d": [
           {
            "colorbar": {
             "outlinewidth": 0,
             "ticks": ""
            },
            "colorscale": [
             [
              0,
              "#0d0887"
             ],
             [
              0.1111111111111111,
              "#46039f"
             ],
             [
              0.2222222222222222,
              "#7201a8"
             ],
             [
              0.3333333333333333,
              "#9c179e"
             ],
             [
              0.4444444444444444,
              "#bd3786"
             ],
             [
              0.5555555555555556,
              "#d8576b"
             ],
             [
              0.6666666666666666,
              "#ed7953"
             ],
             [
              0.7777777777777778,
              "#fb9f3a"
             ],
             [
              0.8888888888888888,
              "#fdca26"
             ],
             [
              1,
              "#f0f921"
             ]
            ],
            "type": "histogram2d"
           }
          ],
          "histogram2dcontour": [
           {
            "colorbar": {
             "outlinewidth": 0,
             "ticks": ""
            },
            "colorscale": [
             [
              0,
              "#0d0887"
             ],
             [
              0.1111111111111111,
              "#46039f"
             ],
             [
              0.2222222222222222,
              "#7201a8"
             ],
             [
              0.3333333333333333,
              "#9c179e"
             ],
             [
              0.4444444444444444,
              "#bd3786"
             ],
             [
              0.5555555555555556,
              "#d8576b"
             ],
             [
              0.6666666666666666,
              "#ed7953"
             ],
             [
              0.7777777777777778,
              "#fb9f3a"
             ],
             [
              0.8888888888888888,
              "#fdca26"
             ],
             [
              1,
              "#f0f921"
             ]
            ],
            "type": "histogram2dcontour"
           }
          ],
          "mesh3d": [
           {
            "colorbar": {
             "outlinewidth": 0,
             "ticks": ""
            },
            "type": "mesh3d"
           }
          ],
          "parcoords": [
           {
            "line": {
             "colorbar": {
              "outlinewidth": 0,
              "ticks": ""
             }
            },
            "type": "parcoords"
           }
          ],
          "pie": [
           {
            "automargin": true,
            "type": "pie"
           }
          ],
          "scatter": [
           {
            "fillpattern": {
             "fillmode": "overlay",
             "size": 10,
             "solidity": 0.2
            },
            "type": "scatter"
           }
          ],
          "scatter3d": [
           {
            "line": {
             "colorbar": {
              "outlinewidth": 0,
              "ticks": ""
             }
            },
            "marker": {
             "colorbar": {
              "outlinewidth": 0,
              "ticks": ""
             }
            },
            "type": "scatter3d"
           }
          ],
          "scattercarpet": [
           {
            "marker": {
             "colorbar": {
              "outlinewidth": 0,
              "ticks": ""
             }
            },
            "type": "scattercarpet"
           }
          ],
          "scattergeo": [
           {
            "marker": {
             "colorbar": {
              "outlinewidth": 0,
              "ticks": ""
             }
            },
            "type": "scattergeo"
           }
          ],
          "scattergl": [
           {
            "marker": {
             "colorbar": {
              "outlinewidth": 0,
              "ticks": ""
             }
            },
            "type": "scattergl"
           }
          ],
          "scattermapbox": [
           {
            "marker": {
             "colorbar": {
              "outlinewidth": 0,
              "ticks": ""
             }
            },
            "type": "scattermapbox"
           }
          ],
          "scatterpolar": [
           {
            "marker": {
             "colorbar": {
              "outlinewidth": 0,
              "ticks": ""
             }
            },
            "type": "scatterpolar"
           }
          ],
          "scatterpolargl": [
           {
            "marker": {
             "colorbar": {
              "outlinewidth": 0,
              "ticks": ""
             }
            },
            "type": "scatterpolargl"
           }
          ],
          "scatterternary": [
           {
            "marker": {
             "colorbar": {
              "outlinewidth": 0,
              "ticks": ""
             }
            },
            "type": "scatterternary"
           }
          ],
          "surface": [
           {
            "colorbar": {
             "outlinewidth": 0,
             "ticks": ""
            },
            "colorscale": [
             [
              0,
              "#0d0887"
             ],
             [
              0.1111111111111111,
              "#46039f"
             ],
             [
              0.2222222222222222,
              "#7201a8"
             ],
             [
              0.3333333333333333,
              "#9c179e"
             ],
             [
              0.4444444444444444,
              "#bd3786"
             ],
             [
              0.5555555555555556,
              "#d8576b"
             ],
             [
              0.6666666666666666,
              "#ed7953"
             ],
             [
              0.7777777777777778,
              "#fb9f3a"
             ],
             [
              0.8888888888888888,
              "#fdca26"
             ],
             [
              1,
              "#f0f921"
             ]
            ],
            "type": "surface"
           }
          ],
          "table": [
           {
            "cells": {
             "fill": {
              "color": "#EBF0F8"
             },
             "line": {
              "color": "white"
             }
            },
            "header": {
             "fill": {
              "color": "#C8D4E3"
             },
             "line": {
              "color": "white"
             }
            },
            "type": "table"
           }
          ]
         },
         "layout": {
          "annotationdefaults": {
           "arrowcolor": "#2a3f5f",
           "arrowhead": 0,
           "arrowwidth": 1
          },
          "autotypenumbers": "strict",
          "coloraxis": {
           "colorbar": {
            "outlinewidth": 0,
            "ticks": ""
           }
          },
          "colorscale": {
           "diverging": [
            [
             0,
             "#8e0152"
            ],
            [
             0.1,
             "#c51b7d"
            ],
            [
             0.2,
             "#de77ae"
            ],
            [
             0.3,
             "#f1b6da"
            ],
            [
             0.4,
             "#fde0ef"
            ],
            [
             0.5,
             "#f7f7f7"
            ],
            [
             0.6,
             "#e6f5d0"
            ],
            [
             0.7,
             "#b8e186"
            ],
            [
             0.8,
             "#7fbc41"
            ],
            [
             0.9,
             "#4d9221"
            ],
            [
             1,
             "#276419"
            ]
           ],
           "sequential": [
            [
             0,
             "#0d0887"
            ],
            [
             0.1111111111111111,
             "#46039f"
            ],
            [
             0.2222222222222222,
             "#7201a8"
            ],
            [
             0.3333333333333333,
             "#9c179e"
            ],
            [
             0.4444444444444444,
             "#bd3786"
            ],
            [
             0.5555555555555556,
             "#d8576b"
            ],
            [
             0.6666666666666666,
             "#ed7953"
            ],
            [
             0.7777777777777778,
             "#fb9f3a"
            ],
            [
             0.8888888888888888,
             "#fdca26"
            ],
            [
             1,
             "#f0f921"
            ]
           ],
           "sequentialminus": [
            [
             0,
             "#0d0887"
            ],
            [
             0.1111111111111111,
             "#46039f"
            ],
            [
             0.2222222222222222,
             "#7201a8"
            ],
            [
             0.3333333333333333,
             "#9c179e"
            ],
            [
             0.4444444444444444,
             "#bd3786"
            ],
            [
             0.5555555555555556,
             "#d8576b"
            ],
            [
             0.6666666666666666,
             "#ed7953"
            ],
            [
             0.7777777777777778,
             "#fb9f3a"
            ],
            [
             0.8888888888888888,
             "#fdca26"
            ],
            [
             1,
             "#f0f921"
            ]
           ]
          },
          "colorway": [
           "#636efa",
           "#EF553B",
           "#00cc96",
           "#ab63fa",
           "#FFA15A",
           "#19d3f3",
           "#FF6692",
           "#B6E880",
           "#FF97FF",
           "#FECB52"
          ],
          "font": {
           "color": "#2a3f5f"
          },
          "geo": {
           "bgcolor": "white",
           "lakecolor": "white",
           "landcolor": "#E5ECF6",
           "showlakes": true,
           "showland": true,
           "subunitcolor": "white"
          },
          "hoverlabel": {
           "align": "left"
          },
          "hovermode": "closest",
          "mapbox": {
           "style": "light"
          },
          "paper_bgcolor": "white",
          "plot_bgcolor": "#E5ECF6",
          "polar": {
           "angularaxis": {
            "gridcolor": "white",
            "linecolor": "white",
            "ticks": ""
           },
           "bgcolor": "#E5ECF6",
           "radialaxis": {
            "gridcolor": "white",
            "linecolor": "white",
            "ticks": ""
           }
          },
          "scene": {
           "xaxis": {
            "backgroundcolor": "#E5ECF6",
            "gridcolor": "white",
            "gridwidth": 2,
            "linecolor": "white",
            "showbackground": true,
            "ticks": "",
            "zerolinecolor": "white"
           },
           "yaxis": {
            "backgroundcolor": "#E5ECF6",
            "gridcolor": "white",
            "gridwidth": 2,
            "linecolor": "white",
            "showbackground": true,
            "ticks": "",
            "zerolinecolor": "white"
           },
           "zaxis": {
            "backgroundcolor": "#E5ECF6",
            "gridcolor": "white",
            "gridwidth": 2,
            "linecolor": "white",
            "showbackground": true,
            "ticks": "",
            "zerolinecolor": "white"
           }
          },
          "shapedefaults": {
           "line": {
            "color": "#2a3f5f"
           }
          },
          "ternary": {
           "aaxis": {
            "gridcolor": "white",
            "linecolor": "white",
            "ticks": ""
           },
           "baxis": {
            "gridcolor": "white",
            "linecolor": "white",
            "ticks": ""
           },
           "bgcolor": "#E5ECF6",
           "caxis": {
            "gridcolor": "white",
            "linecolor": "white",
            "ticks": ""
           }
          },
          "title": {
           "x": 0.05
          },
          "xaxis": {
           "automargin": true,
           "gridcolor": "white",
           "linecolor": "white",
           "ticks": "",
           "title": {
            "standoff": 15
           },
           "zerolinecolor": "white",
           "zerolinewidth": 2
          },
          "yaxis": {
           "automargin": true,
           "gridcolor": "white",
           "linecolor": "white",
           "ticks": "",
           "title": {
            "standoff": 15
           },
           "zerolinecolor": "white",
           "zerolinewidth": 2
          }
         }
        },
        "xaxis": {
         "anchor": "y",
         "domain": [
          0,
          1
         ],
         "title": {
          "text": "x"
         }
        },
        "yaxis": {
         "anchor": "x",
         "domain": [
          0,
          1
         ],
         "title": {
          "text": "y"
         }
        }
       }
      }
     },
     "metadata": {},
     "output_type": "display_data"
    }
   ],
   "source": [
    "import plotly_express as px\n",
    "import matplotlib.pyplot as plt\n",
    "\n",
    "dfg = vaccinerade_kommun_och_ålder.groupby('Län_namn')['Andel minst 1 dos'].sum() \n",
    "\n",
    "fig = px.bar(x=dfg.index, y=dfg)\n",
    "fig.show()\n",
    "\n"
   ]
  },
  {
   "cell_type": "markdown",
   "metadata": {},
   "source": [
    "### minst dos 2"
   ]
  },
  {
   "cell_type": "code",
   "execution_count": 15,
   "metadata": {},
   "outputs": [
    {
     "data": {
      "application/vnd.plotly.v1+json": {
       "config": {
        "plotlyServerURL": "https://plot.ly"
       },
       "data": [
        {
         "alignmentgroup": "True",
         "hovertemplate": "x=%{x}<br>y=%{y}<extra></extra>",
         "legendgroup": "",
         "marker": {
          "color": "#636efa",
          "pattern": {
           "shape": ""
          }
         },
         "name": "",
         "offsetgroup": "",
         "orientation": "v",
         "showlegend": false,
         "textposition": "auto",
         "type": "bar",
         "x": [
          "Blekinge län",
          "Dalarnas län",
          "Gotlands län",
          "Gävleborgs län",
          "Hallands län",
          "Jämtlands län",
          "Jönköpings län",
          "Kalmar län",
          "Kronobergs län",
          "Norrbottens län",
          "Skåne län",
          "Stockholms län",
          "Södermanlands län",
          "Uppsala län",
          "Värmlands län",
          "Västerbottens län",
          "Västernorrlands län",
          "Västmanlands län",
          "Västra Götalands län",
          "Örebro län",
          "Östergötlands län"
         ],
         "xaxis": "x",
         "y": [
          42.09963170122262,
          126.2015284993717,
          8.73411209568083,
          82.88867830043593,
          50.652912048377914,
          67.51726266984801,
          110.07227416402935,
          100.73569794987533,
          64.81579076290535,
          119.7527589570102,
          270.3009284620907,
          209.54341017478242,
          75.01024841330235,
          69.16992368591949,
          139.00548954562063,
          131.14894996474894,
          59.52100122103542,
          81.4118147978376,
          411.44704150874554,
          101.21303844726248,
          112.91999231459326
         ],
         "yaxis": "y"
        }
       ],
       "layout": {
        "barmode": "relative",
        "legend": {
         "tracegroupgap": 0
        },
        "margin": {
         "t": 60
        },
        "template": {
         "data": {
          "bar": [
           {
            "error_x": {
             "color": "#2a3f5f"
            },
            "error_y": {
             "color": "#2a3f5f"
            },
            "marker": {
             "line": {
              "color": "#E5ECF6",
              "width": 0.5
             },
             "pattern": {
              "fillmode": "overlay",
              "size": 10,
              "solidity": 0.2
             }
            },
            "type": "bar"
           }
          ],
          "barpolar": [
           {
            "marker": {
             "line": {
              "color": "#E5ECF6",
              "width": 0.5
             },
             "pattern": {
              "fillmode": "overlay",
              "size": 10,
              "solidity": 0.2
             }
            },
            "type": "barpolar"
           }
          ],
          "carpet": [
           {
            "aaxis": {
             "endlinecolor": "#2a3f5f",
             "gridcolor": "white",
             "linecolor": "white",
             "minorgridcolor": "white",
             "startlinecolor": "#2a3f5f"
            },
            "baxis": {
             "endlinecolor": "#2a3f5f",
             "gridcolor": "white",
             "linecolor": "white",
             "minorgridcolor": "white",
             "startlinecolor": "#2a3f5f"
            },
            "type": "carpet"
           }
          ],
          "choropleth": [
           {
            "colorbar": {
             "outlinewidth": 0,
             "ticks": ""
            },
            "type": "choropleth"
           }
          ],
          "contour": [
           {
            "colorbar": {
             "outlinewidth": 0,
             "ticks": ""
            },
            "colorscale": [
             [
              0,
              "#0d0887"
             ],
             [
              0.1111111111111111,
              "#46039f"
             ],
             [
              0.2222222222222222,
              "#7201a8"
             ],
             [
              0.3333333333333333,
              "#9c179e"
             ],
             [
              0.4444444444444444,
              "#bd3786"
             ],
             [
              0.5555555555555556,
              "#d8576b"
             ],
             [
              0.6666666666666666,
              "#ed7953"
             ],
             [
              0.7777777777777778,
              "#fb9f3a"
             ],
             [
              0.8888888888888888,
              "#fdca26"
             ],
             [
              1,
              "#f0f921"
             ]
            ],
            "type": "contour"
           }
          ],
          "contourcarpet": [
           {
            "colorbar": {
             "outlinewidth": 0,
             "ticks": ""
            },
            "type": "contourcarpet"
           }
          ],
          "heatmap": [
           {
            "colorbar": {
             "outlinewidth": 0,
             "ticks": ""
            },
            "colorscale": [
             [
              0,
              "#0d0887"
             ],
             [
              0.1111111111111111,
              "#46039f"
             ],
             [
              0.2222222222222222,
              "#7201a8"
             ],
             [
              0.3333333333333333,
              "#9c179e"
             ],
             [
              0.4444444444444444,
              "#bd3786"
             ],
             [
              0.5555555555555556,
              "#d8576b"
             ],
             [
              0.6666666666666666,
              "#ed7953"
             ],
             [
              0.7777777777777778,
              "#fb9f3a"
             ],
             [
              0.8888888888888888,
              "#fdca26"
             ],
             [
              1,
              "#f0f921"
             ]
            ],
            "type": "heatmap"
           }
          ],
          "heatmapgl": [
           {
            "colorbar": {
             "outlinewidth": 0,
             "ticks": ""
            },
            "colorscale": [
             [
              0,
              "#0d0887"
             ],
             [
              0.1111111111111111,
              "#46039f"
             ],
             [
              0.2222222222222222,
              "#7201a8"
             ],
             [
              0.3333333333333333,
              "#9c179e"
             ],
             [
              0.4444444444444444,
              "#bd3786"
             ],
             [
              0.5555555555555556,
              "#d8576b"
             ],
             [
              0.6666666666666666,
              "#ed7953"
             ],
             [
              0.7777777777777778,
              "#fb9f3a"
             ],
             [
              0.8888888888888888,
              "#fdca26"
             ],
             [
              1,
              "#f0f921"
             ]
            ],
            "type": "heatmapgl"
           }
          ],
          "histogram": [
           {
            "marker": {
             "pattern": {
              "fillmode": "overlay",
              "size": 10,
              "solidity": 0.2
             }
            },
            "type": "histogram"
           }
          ],
          "histogram2d": [
           {
            "colorbar": {
             "outlinewidth": 0,
             "ticks": ""
            },
            "colorscale": [
             [
              0,
              "#0d0887"
             ],
             [
              0.1111111111111111,
              "#46039f"
             ],
             [
              0.2222222222222222,
              "#7201a8"
             ],
             [
              0.3333333333333333,
              "#9c179e"
             ],
             [
              0.4444444444444444,
              "#bd3786"
             ],
             [
              0.5555555555555556,
              "#d8576b"
             ],
             [
              0.6666666666666666,
              "#ed7953"
             ],
             [
              0.7777777777777778,
              "#fb9f3a"
             ],
             [
              0.8888888888888888,
              "#fdca26"
             ],
             [
              1,
              "#f0f921"
             ]
            ],
            "type": "histogram2d"
           }
          ],
          "histogram2dcontour": [
           {
            "colorbar": {
             "outlinewidth": 0,
             "ticks": ""
            },
            "colorscale": [
             [
              0,
              "#0d0887"
             ],
             [
              0.1111111111111111,
              "#46039f"
             ],
             [
              0.2222222222222222,
              "#7201a8"
             ],
             [
              0.3333333333333333,
              "#9c179e"
             ],
             [
              0.4444444444444444,
              "#bd3786"
             ],
             [
              0.5555555555555556,
              "#d8576b"
             ],
             [
              0.6666666666666666,
              "#ed7953"
             ],
             [
              0.7777777777777778,
              "#fb9f3a"
             ],
             [
              0.8888888888888888,
              "#fdca26"
             ],
             [
              1,
              "#f0f921"
             ]
            ],
            "type": "histogram2dcontour"
           }
          ],
          "mesh3d": [
           {
            "colorbar": {
             "outlinewidth": 0,
             "ticks": ""
            },
            "type": "mesh3d"
           }
          ],
          "parcoords": [
           {
            "line": {
             "colorbar": {
              "outlinewidth": 0,
              "ticks": ""
             }
            },
            "type": "parcoords"
           }
          ],
          "pie": [
           {
            "automargin": true,
            "type": "pie"
           }
          ],
          "scatter": [
           {
            "fillpattern": {
             "fillmode": "overlay",
             "size": 10,
             "solidity": 0.2
            },
            "type": "scatter"
           }
          ],
          "scatter3d": [
           {
            "line": {
             "colorbar": {
              "outlinewidth": 0,
              "ticks": ""
             }
            },
            "marker": {
             "colorbar": {
              "outlinewidth": 0,
              "ticks": ""
             }
            },
            "type": "scatter3d"
           }
          ],
          "scattercarpet": [
           {
            "marker": {
             "colorbar": {
              "outlinewidth": 0,
              "ticks": ""
             }
            },
            "type": "scattercarpet"
           }
          ],
          "scattergeo": [
           {
            "marker": {
             "colorbar": {
              "outlinewidth": 0,
              "ticks": ""
             }
            },
            "type": "scattergeo"
           }
          ],
          "scattergl": [
           {
            "marker": {
             "colorbar": {
              "outlinewidth": 0,
              "ticks": ""
             }
            },
            "type": "scattergl"
           }
          ],
          "scattermapbox": [
           {
            "marker": {
             "colorbar": {
              "outlinewidth": 0,
              "ticks": ""
             }
            },
            "type": "scattermapbox"
           }
          ],
          "scatterpolar": [
           {
            "marker": {
             "colorbar": {
              "outlinewidth": 0,
              "ticks": ""
             }
            },
            "type": "scatterpolar"
           }
          ],
          "scatterpolargl": [
           {
            "marker": {
             "colorbar": {
              "outlinewidth": 0,
              "ticks": ""
             }
            },
            "type": "scatterpolargl"
           }
          ],
          "scatterternary": [
           {
            "marker": {
             "colorbar": {
              "outlinewidth": 0,
              "ticks": ""
             }
            },
            "type": "scatterternary"
           }
          ],
          "surface": [
           {
            "colorbar": {
             "outlinewidth": 0,
             "ticks": ""
            },
            "colorscale": [
             [
              0,
              "#0d0887"
             ],
             [
              0.1111111111111111,
              "#46039f"
             ],
             [
              0.2222222222222222,
              "#7201a8"
             ],
             [
              0.3333333333333333,
              "#9c179e"
             ],
             [
              0.4444444444444444,
              "#bd3786"
             ],
             [
              0.5555555555555556,
              "#d8576b"
             ],
             [
              0.6666666666666666,
              "#ed7953"
             ],
             [
              0.7777777777777778,
              "#fb9f3a"
             ],
             [
              0.8888888888888888,
              "#fdca26"
             ],
             [
              1,
              "#f0f921"
             ]
            ],
            "type": "surface"
           }
          ],
          "table": [
           {
            "cells": {
             "fill": {
              "color": "#EBF0F8"
             },
             "line": {
              "color": "white"
             }
            },
            "header": {
             "fill": {
              "color": "#C8D4E3"
             },
             "line": {
              "color": "white"
             }
            },
            "type": "table"
           }
          ]
         },
         "layout": {
          "annotationdefaults": {
           "arrowcolor": "#2a3f5f",
           "arrowhead": 0,
           "arrowwidth": 1
          },
          "autotypenumbers": "strict",
          "coloraxis": {
           "colorbar": {
            "outlinewidth": 0,
            "ticks": ""
           }
          },
          "colorscale": {
           "diverging": [
            [
             0,
             "#8e0152"
            ],
            [
             0.1,
             "#c51b7d"
            ],
            [
             0.2,
             "#de77ae"
            ],
            [
             0.3,
             "#f1b6da"
            ],
            [
             0.4,
             "#fde0ef"
            ],
            [
             0.5,
             "#f7f7f7"
            ],
            [
             0.6,
             "#e6f5d0"
            ],
            [
             0.7,
             "#b8e186"
            ],
            [
             0.8,
             "#7fbc41"
            ],
            [
             0.9,
             "#4d9221"
            ],
            [
             1,
             "#276419"
            ]
           ],
           "sequential": [
            [
             0,
             "#0d0887"
            ],
            [
             0.1111111111111111,
             "#46039f"
            ],
            [
             0.2222222222222222,
             "#7201a8"
            ],
            [
             0.3333333333333333,
             "#9c179e"
            ],
            [
             0.4444444444444444,
             "#bd3786"
            ],
            [
             0.5555555555555556,
             "#d8576b"
            ],
            [
             0.6666666666666666,
             "#ed7953"
            ],
            [
             0.7777777777777778,
             "#fb9f3a"
            ],
            [
             0.8888888888888888,
             "#fdca26"
            ],
            [
             1,
             "#f0f921"
            ]
           ],
           "sequentialminus": [
            [
             0,
             "#0d0887"
            ],
            [
             0.1111111111111111,
             "#46039f"
            ],
            [
             0.2222222222222222,
             "#7201a8"
            ],
            [
             0.3333333333333333,
             "#9c179e"
            ],
            [
             0.4444444444444444,
             "#bd3786"
            ],
            [
             0.5555555555555556,
             "#d8576b"
            ],
            [
             0.6666666666666666,
             "#ed7953"
            ],
            [
             0.7777777777777778,
             "#fb9f3a"
            ],
            [
             0.8888888888888888,
             "#fdca26"
            ],
            [
             1,
             "#f0f921"
            ]
           ]
          },
          "colorway": [
           "#636efa",
           "#EF553B",
           "#00cc96",
           "#ab63fa",
           "#FFA15A",
           "#19d3f3",
           "#FF6692",
           "#B6E880",
           "#FF97FF",
           "#FECB52"
          ],
          "font": {
           "color": "#2a3f5f"
          },
          "geo": {
           "bgcolor": "white",
           "lakecolor": "white",
           "landcolor": "#E5ECF6",
           "showlakes": true,
           "showland": true,
           "subunitcolor": "white"
          },
          "hoverlabel": {
           "align": "left"
          },
          "hovermode": "closest",
          "mapbox": {
           "style": "light"
          },
          "paper_bgcolor": "white",
          "plot_bgcolor": "#E5ECF6",
          "polar": {
           "angularaxis": {
            "gridcolor": "white",
            "linecolor": "white",
            "ticks": ""
           },
           "bgcolor": "#E5ECF6",
           "radialaxis": {
            "gridcolor": "white",
            "linecolor": "white",
            "ticks": ""
           }
          },
          "scene": {
           "xaxis": {
            "backgroundcolor": "#E5ECF6",
            "gridcolor": "white",
            "gridwidth": 2,
            "linecolor": "white",
            "showbackground": true,
            "ticks": "",
            "zerolinecolor": "white"
           },
           "yaxis": {
            "backgroundcolor": "#E5ECF6",
            "gridcolor": "white",
            "gridwidth": 2,
            "linecolor": "white",
            "showbackground": true,
            "ticks": "",
            "zerolinecolor": "white"
           },
           "zaxis": {
            "backgroundcolor": "#E5ECF6",
            "gridcolor": "white",
            "gridwidth": 2,
            "linecolor": "white",
            "showbackground": true,
            "ticks": "",
            "zerolinecolor": "white"
           }
          },
          "shapedefaults": {
           "line": {
            "color": "#2a3f5f"
           }
          },
          "ternary": {
           "aaxis": {
            "gridcolor": "white",
            "linecolor": "white",
            "ticks": ""
           },
           "baxis": {
            "gridcolor": "white",
            "linecolor": "white",
            "ticks": ""
           },
           "bgcolor": "#E5ECF6",
           "caxis": {
            "gridcolor": "white",
            "linecolor": "white",
            "ticks": ""
           }
          },
          "title": {
           "x": 0.05
          },
          "xaxis": {
           "automargin": true,
           "gridcolor": "white",
           "linecolor": "white",
           "ticks": "",
           "title": {
            "standoff": 15
           },
           "zerolinecolor": "white",
           "zerolinewidth": 2
          },
          "yaxis": {
           "automargin": true,
           "gridcolor": "white",
           "linecolor": "white",
           "ticks": "",
           "title": {
            "standoff": 15
           },
           "zerolinecolor": "white",
           "zerolinewidth": 2
          }
         }
        },
        "xaxis": {
         "anchor": "y",
         "domain": [
          0,
          1
         ],
         "title": {
          "text": "x"
         }
        },
        "yaxis": {
         "anchor": "x",
         "domain": [
          0,
          1
         ],
         "title": {
          "text": "y"
         }
        }
       }
      }
     },
     "metadata": {},
     "output_type": "display_data"
    }
   ],
   "source": [
    "import plotly_express as px\n",
    "import matplotlib.pyplot as plt\n",
    "\n",
    "dfg = vaccinerade_kommun_och_ålder.groupby('Län_namn')['Andel minst 2 doser'].sum() \n",
    "\n",
    "fig = px.bar(x=dfg.index, y=dfg)\n",
    "fig.show()"
   ]
  },
  {
   "cell_type": "markdown",
   "metadata": {},
   "source": [
    "### minst 3 doser"
   ]
  },
  {
   "cell_type": "code",
   "execution_count": 16,
   "metadata": {},
   "outputs": [
    {
     "data": {
      "application/vnd.plotly.v1+json": {
       "config": {
        "plotlyServerURL": "https://plot.ly"
       },
       "data": [
        {
         "alignmentgroup": "True",
         "hovertemplate": "x=%{x}<br>y=%{y}<extra></extra>",
         "legendgroup": "",
         "marker": {
          "color": "#636efa",
          "pattern": {
           "shape": ""
          }
         },
         "name": "",
         "offsetgroup": "",
         "orientation": "v",
         "showlegend": false,
         "textposition": "auto",
         "type": "bar",
         "x": [
          "Blekinge län",
          "Dalarnas län",
          "Gotlands län",
          "Gävleborgs län",
          "Hallands län",
          "Jämtlands län",
          "Jönköpings län",
          "Kalmar län",
          "Kronobergs län",
          "Norrbottens län",
          "Skåne län",
          "Stockholms län",
          "Södermanlands län",
          "Uppsala län",
          "Värmlands län",
          "Västerbottens län",
          "Västernorrlands län",
          "Västmanlands län",
          "Västra Götalands län",
          "Örebro län",
          "Östergötlands län"
         ],
         "xaxis": "x",
         "y": [
          29.796100316384944,
          89.2128019595572,
          6.2246827777487885,
          57.95783492163471,
          35.961009955968926,
          46.27611160790948,
          77.96856286407032,
          72.36255540872504,
          44.520603247880445,
          84.31860222103796,
          184.35930003008184,
          147.76338939545766,
          52.29423159029996,
          49.11851638980958,
          98.56295052579013,
          92.78084049745101,
          42.00509138735125,
          57.739256886028585,
          283.17509409751506,
          71.90040528593791,
          81.08930301636127
         ],
         "yaxis": "y"
        }
       ],
       "layout": {
        "barmode": "relative",
        "legend": {
         "tracegroupgap": 0
        },
        "margin": {
         "t": 60
        },
        "template": {
         "data": {
          "bar": [
           {
            "error_x": {
             "color": "#2a3f5f"
            },
            "error_y": {
             "color": "#2a3f5f"
            },
            "marker": {
             "line": {
              "color": "#E5ECF6",
              "width": 0.5
             },
             "pattern": {
              "fillmode": "overlay",
              "size": 10,
              "solidity": 0.2
             }
            },
            "type": "bar"
           }
          ],
          "barpolar": [
           {
            "marker": {
             "line": {
              "color": "#E5ECF6",
              "width": 0.5
             },
             "pattern": {
              "fillmode": "overlay",
              "size": 10,
              "solidity": 0.2
             }
            },
            "type": "barpolar"
           }
          ],
          "carpet": [
           {
            "aaxis": {
             "endlinecolor": "#2a3f5f",
             "gridcolor": "white",
             "linecolor": "white",
             "minorgridcolor": "white",
             "startlinecolor": "#2a3f5f"
            },
            "baxis": {
             "endlinecolor": "#2a3f5f",
             "gridcolor": "white",
             "linecolor": "white",
             "minorgridcolor": "white",
             "startlinecolor": "#2a3f5f"
            },
            "type": "carpet"
           }
          ],
          "choropleth": [
           {
            "colorbar": {
             "outlinewidth": 0,
             "ticks": ""
            },
            "type": "choropleth"
           }
          ],
          "contour": [
           {
            "colorbar": {
             "outlinewidth": 0,
             "ticks": ""
            },
            "colorscale": [
             [
              0,
              "#0d0887"
             ],
             [
              0.1111111111111111,
              "#46039f"
             ],
             [
              0.2222222222222222,
              "#7201a8"
             ],
             [
              0.3333333333333333,
              "#9c179e"
             ],
             [
              0.4444444444444444,
              "#bd3786"
             ],
             [
              0.5555555555555556,
              "#d8576b"
             ],
             [
              0.6666666666666666,
              "#ed7953"
             ],
             [
              0.7777777777777778,
              "#fb9f3a"
             ],
             [
              0.8888888888888888,
              "#fdca26"
             ],
             [
              1,
              "#f0f921"
             ]
            ],
            "type": "contour"
           }
          ],
          "contourcarpet": [
           {
            "colorbar": {
             "outlinewidth": 0,
             "ticks": ""
            },
            "type": "contourcarpet"
           }
          ],
          "heatmap": [
           {
            "colorbar": {
             "outlinewidth": 0,
             "ticks": ""
            },
            "colorscale": [
             [
              0,
              "#0d0887"
             ],
             [
              0.1111111111111111,
              "#46039f"
             ],
             [
              0.2222222222222222,
              "#7201a8"
             ],
             [
              0.3333333333333333,
              "#9c179e"
             ],
             [
              0.4444444444444444,
              "#bd3786"
             ],
             [
              0.5555555555555556,
              "#d8576b"
             ],
             [
              0.6666666666666666,
              "#ed7953"
             ],
             [
              0.7777777777777778,
              "#fb9f3a"
             ],
             [
              0.8888888888888888,
              "#fdca26"
             ],
             [
              1,
              "#f0f921"
             ]
            ],
            "type": "heatmap"
           }
          ],
          "heatmapgl": [
           {
            "colorbar": {
             "outlinewidth": 0,
             "ticks": ""
            },
            "colorscale": [
             [
              0,
              "#0d0887"
             ],
             [
              0.1111111111111111,
              "#46039f"
             ],
             [
              0.2222222222222222,
              "#7201a8"
             ],
             [
              0.3333333333333333,
              "#9c179e"
             ],
             [
              0.4444444444444444,
              "#bd3786"
             ],
             [
              0.5555555555555556,
              "#d8576b"
             ],
             [
              0.6666666666666666,
              "#ed7953"
             ],
             [
              0.7777777777777778,
              "#fb9f3a"
             ],
             [
              0.8888888888888888,
              "#fdca26"
             ],
             [
              1,
              "#f0f921"
             ]
            ],
            "type": "heatmapgl"
           }
          ],
          "histogram": [
           {
            "marker": {
             "pattern": {
              "fillmode": "overlay",
              "size": 10,
              "solidity": 0.2
             }
            },
            "type": "histogram"
           }
          ],
          "histogram2d": [
           {
            "colorbar": {
             "outlinewidth": 0,
             "ticks": ""
            },
            "colorscale": [
             [
              0,
              "#0d0887"
             ],
             [
              0.1111111111111111,
              "#46039f"
             ],
             [
              0.2222222222222222,
              "#7201a8"
             ],
             [
              0.3333333333333333,
              "#9c179e"
             ],
             [
              0.4444444444444444,
              "#bd3786"
             ],
             [
              0.5555555555555556,
              "#d8576b"
             ],
             [
              0.6666666666666666,
              "#ed7953"
             ],
             [
              0.7777777777777778,
              "#fb9f3a"
             ],
             [
              0.8888888888888888,
              "#fdca26"
             ],
             [
              1,
              "#f0f921"
             ]
            ],
            "type": "histogram2d"
           }
          ],
          "histogram2dcontour": [
           {
            "colorbar": {
             "outlinewidth": 0,
             "ticks": ""
            },
            "colorscale": [
             [
              0,
              "#0d0887"
             ],
             [
              0.1111111111111111,
              "#46039f"
             ],
             [
              0.2222222222222222,
              "#7201a8"
             ],
             [
              0.3333333333333333,
              "#9c179e"
             ],
             [
              0.4444444444444444,
              "#bd3786"
             ],
             [
              0.5555555555555556,
              "#d8576b"
             ],
             [
              0.6666666666666666,
              "#ed7953"
             ],
             [
              0.7777777777777778,
              "#fb9f3a"
             ],
             [
              0.8888888888888888,
              "#fdca26"
             ],
             [
              1,
              "#f0f921"
             ]
            ],
            "type": "histogram2dcontour"
           }
          ],
          "mesh3d": [
           {
            "colorbar": {
             "outlinewidth": 0,
             "ticks": ""
            },
            "type": "mesh3d"
           }
          ],
          "parcoords": [
           {
            "line": {
             "colorbar": {
              "outlinewidth": 0,
              "ticks": ""
             }
            },
            "type": "parcoords"
           }
          ],
          "pie": [
           {
            "automargin": true,
            "type": "pie"
           }
          ],
          "scatter": [
           {
            "fillpattern": {
             "fillmode": "overlay",
             "size": 10,
             "solidity": 0.2
            },
            "type": "scatter"
           }
          ],
          "scatter3d": [
           {
            "line": {
             "colorbar": {
              "outlinewidth": 0,
              "ticks": ""
             }
            },
            "marker": {
             "colorbar": {
              "outlinewidth": 0,
              "ticks": ""
             }
            },
            "type": "scatter3d"
           }
          ],
          "scattercarpet": [
           {
            "marker": {
             "colorbar": {
              "outlinewidth": 0,
              "ticks": ""
             }
            },
            "type": "scattercarpet"
           }
          ],
          "scattergeo": [
           {
            "marker": {
             "colorbar": {
              "outlinewidth": 0,
              "ticks": ""
             }
            },
            "type": "scattergeo"
           }
          ],
          "scattergl": [
           {
            "marker": {
             "colorbar": {
              "outlinewidth": 0,
              "ticks": ""
             }
            },
            "type": "scattergl"
           }
          ],
          "scattermapbox": [
           {
            "marker": {
             "colorbar": {
              "outlinewidth": 0,
              "ticks": ""
             }
            },
            "type": "scattermapbox"
           }
          ],
          "scatterpolar": [
           {
            "marker": {
             "colorbar": {
              "outlinewidth": 0,
              "ticks": ""
             }
            },
            "type": "scatterpolar"
           }
          ],
          "scatterpolargl": [
           {
            "marker": {
             "colorbar": {
              "outlinewidth": 0,
              "ticks": ""
             }
            },
            "type": "scatterpolargl"
           }
          ],
          "scatterternary": [
           {
            "marker": {
             "colorbar": {
              "outlinewidth": 0,
              "ticks": ""
             }
            },
            "type": "scatterternary"
           }
          ],
          "surface": [
           {
            "colorbar": {
             "outlinewidth": 0,
             "ticks": ""
            },
            "colorscale": [
             [
              0,
              "#0d0887"
             ],
             [
              0.1111111111111111,
              "#46039f"
             ],
             [
              0.2222222222222222,
              "#7201a8"
             ],
             [
              0.3333333333333333,
              "#9c179e"
             ],
             [
              0.4444444444444444,
              "#bd3786"
             ],
             [
              0.5555555555555556,
              "#d8576b"
             ],
             [
              0.6666666666666666,
              "#ed7953"
             ],
             [
              0.7777777777777778,
              "#fb9f3a"
             ],
             [
              0.8888888888888888,
              "#fdca26"
             ],
             [
              1,
              "#f0f921"
             ]
            ],
            "type": "surface"
           }
          ],
          "table": [
           {
            "cells": {
             "fill": {
              "color": "#EBF0F8"
             },
             "line": {
              "color": "white"
             }
            },
            "header": {
             "fill": {
              "color": "#C8D4E3"
             },
             "line": {
              "color": "white"
             }
            },
            "type": "table"
           }
          ]
         },
         "layout": {
          "annotationdefaults": {
           "arrowcolor": "#2a3f5f",
           "arrowhead": 0,
           "arrowwidth": 1
          },
          "autotypenumbers": "strict",
          "coloraxis": {
           "colorbar": {
            "outlinewidth": 0,
            "ticks": ""
           }
          },
          "colorscale": {
           "diverging": [
            [
             0,
             "#8e0152"
            ],
            [
             0.1,
             "#c51b7d"
            ],
            [
             0.2,
             "#de77ae"
            ],
            [
             0.3,
             "#f1b6da"
            ],
            [
             0.4,
             "#fde0ef"
            ],
            [
             0.5,
             "#f7f7f7"
            ],
            [
             0.6,
             "#e6f5d0"
            ],
            [
             0.7,
             "#b8e186"
            ],
            [
             0.8,
             "#7fbc41"
            ],
            [
             0.9,
             "#4d9221"
            ],
            [
             1,
             "#276419"
            ]
           ],
           "sequential": [
            [
             0,
             "#0d0887"
            ],
            [
             0.1111111111111111,
             "#46039f"
            ],
            [
             0.2222222222222222,
             "#7201a8"
            ],
            [
             0.3333333333333333,
             "#9c179e"
            ],
            [
             0.4444444444444444,
             "#bd3786"
            ],
            [
             0.5555555555555556,
             "#d8576b"
            ],
            [
             0.6666666666666666,
             "#ed7953"
            ],
            [
             0.7777777777777778,
             "#fb9f3a"
            ],
            [
             0.8888888888888888,
             "#fdca26"
            ],
            [
             1,
             "#f0f921"
            ]
           ],
           "sequentialminus": [
            [
             0,
             "#0d0887"
            ],
            [
             0.1111111111111111,
             "#46039f"
            ],
            [
             0.2222222222222222,
             "#7201a8"
            ],
            [
             0.3333333333333333,
             "#9c179e"
            ],
            [
             0.4444444444444444,
             "#bd3786"
            ],
            [
             0.5555555555555556,
             "#d8576b"
            ],
            [
             0.6666666666666666,
             "#ed7953"
            ],
            [
             0.7777777777777778,
             "#fb9f3a"
            ],
            [
             0.8888888888888888,
             "#fdca26"
            ],
            [
             1,
             "#f0f921"
            ]
           ]
          },
          "colorway": [
           "#636efa",
           "#EF553B",
           "#00cc96",
           "#ab63fa",
           "#FFA15A",
           "#19d3f3",
           "#FF6692",
           "#B6E880",
           "#FF97FF",
           "#FECB52"
          ],
          "font": {
           "color": "#2a3f5f"
          },
          "geo": {
           "bgcolor": "white",
           "lakecolor": "white",
           "landcolor": "#E5ECF6",
           "showlakes": true,
           "showland": true,
           "subunitcolor": "white"
          },
          "hoverlabel": {
           "align": "left"
          },
          "hovermode": "closest",
          "mapbox": {
           "style": "light"
          },
          "paper_bgcolor": "white",
          "plot_bgcolor": "#E5ECF6",
          "polar": {
           "angularaxis": {
            "gridcolor": "white",
            "linecolor": "white",
            "ticks": ""
           },
           "bgcolor": "#E5ECF6",
           "radialaxis": {
            "gridcolor": "white",
            "linecolor": "white",
            "ticks": ""
           }
          },
          "scene": {
           "xaxis": {
            "backgroundcolor": "#E5ECF6",
            "gridcolor": "white",
            "gridwidth": 2,
            "linecolor": "white",
            "showbackground": true,
            "ticks": "",
            "zerolinecolor": "white"
           },
           "yaxis": {
            "backgroundcolor": "#E5ECF6",
            "gridcolor": "white",
            "gridwidth": 2,
            "linecolor": "white",
            "showbackground": true,
            "ticks": "",
            "zerolinecolor": "white"
           },
           "zaxis": {
            "backgroundcolor": "#E5ECF6",
            "gridcolor": "white",
            "gridwidth": 2,
            "linecolor": "white",
            "showbackground": true,
            "ticks": "",
            "zerolinecolor": "white"
           }
          },
          "shapedefaults": {
           "line": {
            "color": "#2a3f5f"
           }
          },
          "ternary": {
           "aaxis": {
            "gridcolor": "white",
            "linecolor": "white",
            "ticks": ""
           },
           "baxis": {
            "gridcolor": "white",
            "linecolor": "white",
            "ticks": ""
           },
           "bgcolor": "#E5ECF6",
           "caxis": {
            "gridcolor": "white",
            "linecolor": "white",
            "ticks": ""
           }
          },
          "title": {
           "x": 0.05
          },
          "xaxis": {
           "automargin": true,
           "gridcolor": "white",
           "linecolor": "white",
           "ticks": "",
           "title": {
            "standoff": 15
           },
           "zerolinecolor": "white",
           "zerolinewidth": 2
          },
          "yaxis": {
           "automargin": true,
           "gridcolor": "white",
           "linecolor": "white",
           "ticks": "",
           "title": {
            "standoff": 15
           },
           "zerolinecolor": "white",
           "zerolinewidth": 2
          }
         }
        },
        "xaxis": {
         "anchor": "y",
         "domain": [
          0,
          1
         ],
         "title": {
          "text": "x"
         }
        },
        "yaxis": {
         "anchor": "x",
         "domain": [
          0,
          1
         ],
         "title": {
          "text": "y"
         }
        }
       }
      }
     },
     "metadata": {},
     "output_type": "display_data"
    }
   ],
   "source": [
    "import plotly_express as px\n",
    "import matplotlib.pyplot as plt\n",
    "\n",
    "dfg = vaccinerade_kommun_och_ålder.groupby('Län_namn')['Andel 3 doser'].sum() \n",
    "\n",
    "fig = px.bar(x=dfg.index, y=dfg)\n",
    "fig.show()"
   ]
  },
  {
   "cell_type": "markdown",
   "metadata": {},
   "source": []
  },
  {
   "cell_type": "code",
   "execution_count": 17,
   "metadata": {},
   "outputs": [
    {
     "data": {
      "text/html": [
       "<div>\n",
       "<style scoped>\n",
       "    .dataframe tbody tr th:only-of-type {\n",
       "        vertical-align: middle;\n",
       "    }\n",
       "\n",
       "    .dataframe tbody tr th {\n",
       "        vertical-align: top;\n",
       "    }\n",
       "\n",
       "    .dataframe thead th {\n",
       "        text-align: right;\n",
       "    }\n",
       "</style>\n",
       "<table border=\"1\" class=\"dataframe\">\n",
       "  <thead>\n",
       "    <tr style=\"text-align: right;\">\n",
       "      <th></th>\n",
       "      <th>Län</th>\n",
       "      <th>Län_namn</th>\n",
       "      <th>Kommun</th>\n",
       "      <th>Kommun_namn</th>\n",
       "      <th>Ålder</th>\n",
       "      <th>Befolkning</th>\n",
       "      <th>Antal minst 1 dos</th>\n",
       "      <th>Antal minst 2 doser</th>\n",
       "      <th>Antal 3 doser</th>\n",
       "      <th>Antal 4 doser</th>\n",
       "      <th>Andel minst 1 dos</th>\n",
       "      <th>Andel minst 2 doser</th>\n",
       "      <th>Andel 3 doser</th>\n",
       "      <th>Andel 4 doser</th>\n",
       "    </tr>\n",
       "  </thead>\n",
       "  <tbody>\n",
       "    <tr>\n",
       "      <th>2899</th>\n",
       "      <td>25</td>\n",
       "      <td>Norrbottens län</td>\n",
       "      <td>2584</td>\n",
       "      <td>Kiruna</td>\n",
       "      <td>90</td>\n",
       "      <td>219</td>\n",
       "      <td>206</td>\n",
       "      <td>206</td>\n",
       "      <td>200.0</td>\n",
       "      <td>172.0</td>\n",
       "      <td>0.940639</td>\n",
       "      <td>0.940639</td>\n",
       "      <td>0.913242</td>\n",
       "      <td>0.785388</td>\n",
       "    </tr>\n",
       "  </tbody>\n",
       "</table>\n",
       "</div>"
      ],
      "text/plain": [
       "      Län         Län_namn  Kommun Kommun_namn  Ålder  Befolkning  \\\n",
       "2899   25  Norrbottens län    2584      Kiruna     90         219   \n",
       "\n",
       "      Antal minst 1 dos  Antal minst 2 doser  Antal 3 doser  Antal 4 doser  \\\n",
       "2899                206                  206          200.0          172.0   \n",
       "\n",
       "      Andel minst 1 dos  Andel minst 2 doser  Andel 3 doser  Andel 4 doser  \n",
       "2899           0.940639             0.940639       0.913242       0.785388  "
      ]
     },
     "execution_count": 17,
     "metadata": {},
     "output_type": "execute_result"
    }
   ],
   "source": [
    "vaccinerade_kommun_och_ålder.tail(1)"
   ]
  },
  {
   "cell_type": "code",
   "execution_count": 18,
   "metadata": {},
   "outputs": [
    {
     "data": {
      "text/html": [
       "<div>\n",
       "<style scoped>\n",
       "    .dataframe tbody tr th:only-of-type {\n",
       "        vertical-align: middle;\n",
       "    }\n",
       "\n",
       "    .dataframe tbody tr th {\n",
       "        vertical-align: top;\n",
       "    }\n",
       "\n",
       "    .dataframe thead th {\n",
       "        text-align: right;\n",
       "    }\n",
       "</style>\n",
       "<table border=\"1\" class=\"dataframe\">\n",
       "  <thead>\n",
       "    <tr style=\"text-align: right;\">\n",
       "      <th></th>\n",
       "      <th>Län</th>\n",
       "      <th>Län_namn</th>\n",
       "      <th>Kommun</th>\n",
       "      <th>Kommun_namn</th>\n",
       "      <th>Ålder</th>\n",
       "      <th>Befolkning</th>\n",
       "      <th>Antal minst 1 dos</th>\n",
       "      <th>Antal minst 2 doser</th>\n",
       "      <th>Antal 3 doser</th>\n",
       "      <th>Antal 4 doser</th>\n",
       "      <th>Andel minst 1 dos</th>\n",
       "      <th>Andel minst 2 doser</th>\n",
       "      <th>Andel 3 doser</th>\n",
       "      <th>Andel 4 doser</th>\n",
       "    </tr>\n",
       "  </thead>\n",
       "  <tbody>\n",
       "    <tr>\n",
       "      <th>0</th>\n",
       "      <td>1</td>\n",
       "      <td>Stockholms län</td>\n",
       "      <td>114</td>\n",
       "      <td>Upplands Väsby</td>\n",
       "      <td>12</td>\n",
       "      <td>2422</td>\n",
       "      <td>1206</td>\n",
       "      <td>1046</td>\n",
       "      <td>NaN</td>\n",
       "      <td>NaN</td>\n",
       "      <td>0.497936</td>\n",
       "      <td>0.431874</td>\n",
       "      <td>NaN</td>\n",
       "      <td>NaN</td>\n",
       "    </tr>\n",
       "    <tr>\n",
       "      <th>1</th>\n",
       "      <td>1</td>\n",
       "      <td>Stockholms län</td>\n",
       "      <td>114</td>\n",
       "      <td>Upplands Väsby</td>\n",
       "      <td>16</td>\n",
       "      <td>1203</td>\n",
       "      <td>839</td>\n",
       "      <td>755</td>\n",
       "      <td>NaN</td>\n",
       "      <td>NaN</td>\n",
       "      <td>0.697423</td>\n",
       "      <td>0.627598</td>\n",
       "      <td>NaN</td>\n",
       "      <td>NaN</td>\n",
       "    </tr>\n",
       "    <tr>\n",
       "      <th>2</th>\n",
       "      <td>1</td>\n",
       "      <td>Stockholms län</td>\n",
       "      <td>114</td>\n",
       "      <td>Upplands Väsby</td>\n",
       "      <td>18</td>\n",
       "      <td>6692</td>\n",
       "      <td>4887</td>\n",
       "      <td>4469</td>\n",
       "      <td>1959.0</td>\n",
       "      <td>NaN</td>\n",
       "      <td>0.730275</td>\n",
       "      <td>0.667812</td>\n",
       "      <td>0.292738</td>\n",
       "      <td>NaN</td>\n",
       "    </tr>\n",
       "    <tr>\n",
       "      <th>3</th>\n",
       "      <td>1</td>\n",
       "      <td>Stockholms län</td>\n",
       "      <td>114</td>\n",
       "      <td>Upplands Väsby</td>\n",
       "      <td>30</td>\n",
       "      <td>7332</td>\n",
       "      <td>5542</td>\n",
       "      <td>5240</td>\n",
       "      <td>2878.0</td>\n",
       "      <td>NaN</td>\n",
       "      <td>0.755865</td>\n",
       "      <td>0.714675</td>\n",
       "      <td>0.392526</td>\n",
       "      <td>NaN</td>\n",
       "    </tr>\n",
       "    <tr>\n",
       "      <th>4</th>\n",
       "      <td>1</td>\n",
       "      <td>Stockholms län</td>\n",
       "      <td>114</td>\n",
       "      <td>Upplands Väsby</td>\n",
       "      <td>40</td>\n",
       "      <td>6946</td>\n",
       "      <td>5592</td>\n",
       "      <td>5429</td>\n",
       "      <td>3719.0</td>\n",
       "      <td>NaN</td>\n",
       "      <td>0.805068</td>\n",
       "      <td>0.781601</td>\n",
       "      <td>0.535416</td>\n",
       "      <td>NaN</td>\n",
       "    </tr>\n",
       "  </tbody>\n",
       "</table>\n",
       "</div>"
      ],
      "text/plain": [
       "   Län        Län_namn  Kommun     Kommun_namn  Ålder  Befolkning  \\\n",
       "0    1  Stockholms län     114  Upplands Väsby     12        2422   \n",
       "1    1  Stockholms län     114  Upplands Väsby     16        1203   \n",
       "2    1  Stockholms län     114  Upplands Väsby     18        6692   \n",
       "3    1  Stockholms län     114  Upplands Väsby     30        7332   \n",
       "4    1  Stockholms län     114  Upplands Väsby     40        6946   \n",
       "\n",
       "   Antal minst 1 dos  Antal minst 2 doser  Antal 3 doser  Antal 4 doser  \\\n",
       "0               1206                 1046            NaN            NaN   \n",
       "1                839                  755            NaN            NaN   \n",
       "2               4887                 4469         1959.0            NaN   \n",
       "3               5542                 5240         2878.0            NaN   \n",
       "4               5592                 5429         3719.0            NaN   \n",
       "\n",
       "   Andel minst 1 dos  Andel minst 2 doser  Andel 3 doser  Andel 4 doser  \n",
       "0           0.497936             0.431874            NaN            NaN  \n",
       "1           0.697423             0.627598            NaN            NaN  \n",
       "2           0.730275             0.667812       0.292738            NaN  \n",
       "3           0.755865             0.714675       0.392526            NaN  \n",
       "4           0.805068             0.781601       0.535416            NaN  "
      ]
     },
     "execution_count": 18,
     "metadata": {},
     "output_type": "execute_result"
    }
   ],
   "source": [
    "stockholm_län =vaccinerade_kommun_och_ålder[vaccinerade_kommun_och_ålder[\"Län_namn\"] == \"Stockholms län\"]\n",
    "stockholm_län.head()"
   ]
  },
  {
   "cell_type": "code",
   "execution_count": 19,
   "metadata": {},
   "outputs": [
    {
     "data": {
      "text/html": [
       "<div>\n",
       "<style scoped>\n",
       "    .dataframe tbody tr th:only-of-type {\n",
       "        vertical-align: middle;\n",
       "    }\n",
       "\n",
       "    .dataframe tbody tr th {\n",
       "        vertical-align: top;\n",
       "    }\n",
       "\n",
       "    .dataframe thead th {\n",
       "        text-align: right;\n",
       "    }\n",
       "</style>\n",
       "<table border=\"1\" class=\"dataframe\">\n",
       "  <thead>\n",
       "    <tr style=\"text-align: right;\">\n",
       "      <th></th>\n",
       "      <th>Län</th>\n",
       "      <th>Län_namn</th>\n",
       "      <th>Kommun</th>\n",
       "      <th>Kommun_namn</th>\n",
       "      <th>Ålder</th>\n",
       "      <th>Befolkning</th>\n",
       "      <th>Antal minst 1 dos</th>\n",
       "      <th>Antal minst 2 doser</th>\n",
       "      <th>Antal 3 doser</th>\n",
       "      <th>Antal 4 doser</th>\n",
       "      <th>Andel minst 1 dos</th>\n",
       "      <th>Andel minst 2 doser</th>\n",
       "      <th>Andel 3 doser</th>\n",
       "      <th>Andel 4 doser</th>\n",
       "    </tr>\n",
       "  </thead>\n",
       "  <tbody>\n",
       "    <tr>\n",
       "      <th>1340</th>\n",
       "      <td>14</td>\n",
       "      <td>Västra Götalands län</td>\n",
       "      <td>1401</td>\n",
       "      <td>Härryda</td>\n",
       "      <td>12</td>\n",
       "      <td>2641</td>\n",
       "      <td>1615</td>\n",
       "      <td>1508</td>\n",
       "      <td>NaN</td>\n",
       "      <td>NaN</td>\n",
       "      <td>0.611511</td>\n",
       "      <td>0.570996</td>\n",
       "      <td>NaN</td>\n",
       "      <td>NaN</td>\n",
       "    </tr>\n",
       "    <tr>\n",
       "      <th>1341</th>\n",
       "      <td>14</td>\n",
       "      <td>Västra Götalands län</td>\n",
       "      <td>1401</td>\n",
       "      <td>Härryda</td>\n",
       "      <td>16</td>\n",
       "      <td>1123</td>\n",
       "      <td>988</td>\n",
       "      <td>945</td>\n",
       "      <td>NaN</td>\n",
       "      <td>NaN</td>\n",
       "      <td>0.879786</td>\n",
       "      <td>0.841496</td>\n",
       "      <td>NaN</td>\n",
       "      <td>NaN</td>\n",
       "    </tr>\n",
       "    <tr>\n",
       "      <th>1342</th>\n",
       "      <td>14</td>\n",
       "      <td>Västra Götalands län</td>\n",
       "      <td>1401</td>\n",
       "      <td>Härryda</td>\n",
       "      <td>18</td>\n",
       "      <td>4446</td>\n",
       "      <td>3645</td>\n",
       "      <td>3480</td>\n",
       "      <td>1617.0</td>\n",
       "      <td>NaN</td>\n",
       "      <td>0.819838</td>\n",
       "      <td>0.782726</td>\n",
       "      <td>0.363698</td>\n",
       "      <td>NaN</td>\n",
       "    </tr>\n",
       "    <tr>\n",
       "      <th>1343</th>\n",
       "      <td>14</td>\n",
       "      <td>Västra Götalands län</td>\n",
       "      <td>1401</td>\n",
       "      <td>Härryda</td>\n",
       "      <td>30</td>\n",
       "      <td>4844</td>\n",
       "      <td>4106</td>\n",
       "      <td>3985</td>\n",
       "      <td>2299.0</td>\n",
       "      <td>NaN</td>\n",
       "      <td>0.847647</td>\n",
       "      <td>0.822667</td>\n",
       "      <td>0.474608</td>\n",
       "      <td>NaN</td>\n",
       "    </tr>\n",
       "    <tr>\n",
       "      <th>1344</th>\n",
       "      <td>14</td>\n",
       "      <td>Västra Götalands län</td>\n",
       "      <td>1401</td>\n",
       "      <td>Härryda</td>\n",
       "      <td>40</td>\n",
       "      <td>6078</td>\n",
       "      <td>5502</td>\n",
       "      <td>5439</td>\n",
       "      <td>4007.0</td>\n",
       "      <td>NaN</td>\n",
       "      <td>0.905232</td>\n",
       "      <td>0.894867</td>\n",
       "      <td>0.659263</td>\n",
       "      <td>NaN</td>\n",
       "    </tr>\n",
       "  </tbody>\n",
       "</table>\n",
       "</div>"
      ],
      "text/plain": [
       "      Län              Län_namn  Kommun Kommun_namn  Ålder  Befolkning  \\\n",
       "1340   14  Västra Götalands län    1401     Härryda     12        2641   \n",
       "1341   14  Västra Götalands län    1401     Härryda     16        1123   \n",
       "1342   14  Västra Götalands län    1401     Härryda     18        4446   \n",
       "1343   14  Västra Götalands län    1401     Härryda     30        4844   \n",
       "1344   14  Västra Götalands län    1401     Härryda     40        6078   \n",
       "\n",
       "      Antal minst 1 dos  Antal minst 2 doser  Antal 3 doser  Antal 4 doser  \\\n",
       "1340               1615                 1508            NaN            NaN   \n",
       "1341                988                  945            NaN            NaN   \n",
       "1342               3645                 3480         1617.0            NaN   \n",
       "1343               4106                 3985         2299.0            NaN   \n",
       "1344               5502                 5439         4007.0            NaN   \n",
       "\n",
       "      Andel minst 1 dos  Andel minst 2 doser  Andel 3 doser  Andel 4 doser  \n",
       "1340           0.611511             0.570996            NaN            NaN  \n",
       "1341           0.879786             0.841496            NaN            NaN  \n",
       "1342           0.819838             0.782726       0.363698            NaN  \n",
       "1343           0.847647             0.822667       0.474608            NaN  \n",
       "1344           0.905232             0.894867       0.659263            NaN  "
      ]
     },
     "execution_count": 19,
     "metadata": {},
     "output_type": "execute_result"
    }
   ],
   "source": [
    "västra_götaland_län =vaccinerade_kommun_och_ålder[vaccinerade_kommun_och_ålder[\"Län_namn\"] == \"Västra Götalands län\"]\n",
    "västra_götaland_län.head()\n"
   ]
  },
  {
   "cell_type": "code",
   "execution_count": 20,
   "metadata": {},
   "outputs": [
    {
     "name": "stderr",
     "output_type": "stream",
     "text": [
      "C:\\Users\\CYRILLE\\AppData\\Local\\Temp\\ipykernel_14892\\4057759334.py:1: SettingWithCopyWarning:\n",
      "\n",
      "\n",
      "A value is trying to be set on a copy of a slice from a DataFrame\n",
      "\n",
      "See the caveats in the documentation: https://pandas.pydata.org/pandas-docs/stable/user_guide/indexing.html#returning-a-view-versus-a-copy\n",
      "\n"
     ]
    }
   ],
   "source": [
    "västra_götaland_län['Andel 3 doser'].fillna(0, inplace=True)"
   ]
  },
  {
   "cell_type": "code",
   "execution_count": 21,
   "metadata": {},
   "outputs": [
    {
     "name": "stderr",
     "output_type": "stream",
     "text": [
      "C:\\Users\\CYRILLE\\AppData\\Local\\Temp\\ipykernel_14892\\4203142793.py:1: SettingWithCopyWarning:\n",
      "\n",
      "\n",
      "A value is trying to be set on a copy of a slice from a DataFrame\n",
      "\n",
      "See the caveats in the documentation: https://pandas.pydata.org/pandas-docs/stable/user_guide/indexing.html#returning-a-view-versus-a-copy\n",
      "\n"
     ]
    }
   ],
   "source": [
    "västra_götaland_län['Andel 4 doser'].fillna(0, inplace=True)"
   ]
  },
  {
   "cell_type": "code",
   "execution_count": 22,
   "metadata": {},
   "outputs": [
    {
     "data": {
      "text/plain": [
       "Län                      0\n",
       "Län_namn                 0\n",
       "Kommun                   0\n",
       "Kommun_namn              0\n",
       "Ålder                    0\n",
       "Befolkning               0\n",
       "Antal minst 1 dos        0\n",
       "Antal minst 2 doser      0\n",
       "Antal 3 doser           98\n",
       "Antal 4 doser          343\n",
       "Andel minst 1 dos        0\n",
       "Andel minst 2 doser      0\n",
       "Andel 3 doser            0\n",
       "Andel 4 doser            0\n",
       "dtype: int64"
      ]
     },
     "execution_count": 22,
     "metadata": {},
     "output_type": "execute_result"
    }
   ],
   "source": [
    "västra_götaland_län.isnull().sum()"
   ]
  },
  {
   "cell_type": "code",
   "execution_count": 23,
   "metadata": {},
   "outputs": [
    {
     "name": "stderr",
     "output_type": "stream",
     "text": [
      "C:\\Users\\CYRILLE\\AppData\\Local\\Temp\\ipykernel_14892\\71766071.py:1: SettingWithCopyWarning:\n",
      "\n",
      "\n",
      "A value is trying to be set on a copy of a slice from a DataFrame\n",
      "\n",
      "See the caveats in the documentation: https://pandas.pydata.org/pandas-docs/stable/user_guide/indexing.html#returning-a-view-versus-a-copy\n",
      "\n"
     ]
    }
   ],
   "source": [
    "stockholm_län['Andel 3 doser'].fillna(0, inplace=True)"
   ]
  },
  {
   "cell_type": "code",
   "execution_count": 24,
   "metadata": {},
   "outputs": [
    {
     "name": "stderr",
     "output_type": "stream",
     "text": [
      "C:\\Users\\CYRILLE\\AppData\\Local\\Temp\\ipykernel_14892\\1147220974.py:1: SettingWithCopyWarning:\n",
      "\n",
      "\n",
      "A value is trying to be set on a copy of a slice from a DataFrame\n",
      "\n",
      "See the caveats in the documentation: https://pandas.pydata.org/pandas-docs/stable/user_guide/indexing.html#returning-a-view-versus-a-copy\n",
      "\n"
     ]
    }
   ],
   "source": [
    "stockholm_län['Andel 4 doser'].fillna(0, inplace=True)"
   ]
  },
  {
   "cell_type": "code",
   "execution_count": 25,
   "metadata": {},
   "outputs": [
    {
     "data": {
      "text/plain": [
       "Län                      0\n",
       "Län_namn                 0\n",
       "Kommun                   0\n",
       "Kommun_namn              0\n",
       "Ålder                    0\n",
       "Befolkning               0\n",
       "Antal minst 1 dos        0\n",
       "Antal minst 2 doser      0\n",
       "Antal 3 doser           52\n",
       "Antal 4 doser          182\n",
       "Andel minst 1 dos        0\n",
       "Andel minst 2 doser      0\n",
       "Andel 3 doser            0\n",
       "Andel 4 doser            0\n",
       "dtype: int64"
      ]
     },
     "execution_count": 25,
     "metadata": {},
     "output_type": "execute_result"
    }
   ],
   "source": [
    "stockholm_län.isnull().sum()"
   ]
  },
  {
   "cell_type": "code",
   "execution_count": 27,
   "metadata": {},
   "outputs": [
    {
     "data": {
      "text/html": [
       "<div>\n",
       "<style scoped>\n",
       "    .dataframe tbody tr th:only-of-type {\n",
       "        vertical-align: middle;\n",
       "    }\n",
       "\n",
       "    .dataframe tbody tr th {\n",
       "        vertical-align: top;\n",
       "    }\n",
       "\n",
       "    .dataframe thead th {\n",
       "        text-align: right;\n",
       "    }\n",
       "</style>\n",
       "<table border=\"1\" class=\"dataframe\">\n",
       "  <thead>\n",
       "    <tr style=\"text-align: right;\">\n",
       "      <th></th>\n",
       "      <th>Län</th>\n",
       "      <th>Län_namn</th>\n",
       "      <th>Kommun</th>\n",
       "      <th>Kommun_namn</th>\n",
       "      <th>Ålder</th>\n",
       "      <th>Befolkning</th>\n",
       "      <th>Antal minst 1 dos</th>\n",
       "      <th>Antal minst 2 doser</th>\n",
       "      <th>Antal 3 doser</th>\n",
       "      <th>Antal 4 doser</th>\n",
       "      <th>Andel minst 1 dos</th>\n",
       "      <th>Andel minst 2 doser</th>\n",
       "      <th>Andel 3 doser</th>\n",
       "      <th>Andel 4 doser</th>\n",
       "    </tr>\n",
       "  </thead>\n",
       "  <tbody>\n",
       "    <tr>\n",
       "      <th>1340</th>\n",
       "      <td>14</td>\n",
       "      <td>Västra Götalands län</td>\n",
       "      <td>1401</td>\n",
       "      <td>Härryda</td>\n",
       "      <td>12</td>\n",
       "      <td>2641</td>\n",
       "      <td>1615</td>\n",
       "      <td>1508</td>\n",
       "      <td>NaN</td>\n",
       "      <td>NaN</td>\n",
       "      <td>0.611511</td>\n",
       "      <td>0.570996</td>\n",
       "      <td>0.000000</td>\n",
       "      <td>0.0</td>\n",
       "    </tr>\n",
       "    <tr>\n",
       "      <th>1341</th>\n",
       "      <td>14</td>\n",
       "      <td>Västra Götalands län</td>\n",
       "      <td>1401</td>\n",
       "      <td>Härryda</td>\n",
       "      <td>16</td>\n",
       "      <td>1123</td>\n",
       "      <td>988</td>\n",
       "      <td>945</td>\n",
       "      <td>NaN</td>\n",
       "      <td>NaN</td>\n",
       "      <td>0.879786</td>\n",
       "      <td>0.841496</td>\n",
       "      <td>0.000000</td>\n",
       "      <td>0.0</td>\n",
       "    </tr>\n",
       "    <tr>\n",
       "      <th>1342</th>\n",
       "      <td>14</td>\n",
       "      <td>Västra Götalands län</td>\n",
       "      <td>1401</td>\n",
       "      <td>Härryda</td>\n",
       "      <td>18</td>\n",
       "      <td>4446</td>\n",
       "      <td>3645</td>\n",
       "      <td>3480</td>\n",
       "      <td>1617.0</td>\n",
       "      <td>NaN</td>\n",
       "      <td>0.819838</td>\n",
       "      <td>0.782726</td>\n",
       "      <td>0.363698</td>\n",
       "      <td>0.0</td>\n",
       "    </tr>\n",
       "    <tr>\n",
       "      <th>1343</th>\n",
       "      <td>14</td>\n",
       "      <td>Västra Götalands län</td>\n",
       "      <td>1401</td>\n",
       "      <td>Härryda</td>\n",
       "      <td>30</td>\n",
       "      <td>4844</td>\n",
       "      <td>4106</td>\n",
       "      <td>3985</td>\n",
       "      <td>2299.0</td>\n",
       "      <td>NaN</td>\n",
       "      <td>0.847647</td>\n",
       "      <td>0.822667</td>\n",
       "      <td>0.474608</td>\n",
       "      <td>0.0</td>\n",
       "    </tr>\n",
       "    <tr>\n",
       "      <th>1344</th>\n",
       "      <td>14</td>\n",
       "      <td>Västra Götalands län</td>\n",
       "      <td>1401</td>\n",
       "      <td>Härryda</td>\n",
       "      <td>40</td>\n",
       "      <td>6078</td>\n",
       "      <td>5502</td>\n",
       "      <td>5439</td>\n",
       "      <td>4007.0</td>\n",
       "      <td>NaN</td>\n",
       "      <td>0.905232</td>\n",
       "      <td>0.894867</td>\n",
       "      <td>0.659263</td>\n",
       "      <td>0.0</td>\n",
       "    </tr>\n",
       "  </tbody>\n",
       "</table>\n",
       "</div>"
      ],
      "text/plain": [
       "      Län              Län_namn  Kommun Kommun_namn  Ålder  Befolkning  \\\n",
       "1340   14  Västra Götalands län    1401     Härryda     12        2641   \n",
       "1341   14  Västra Götalands län    1401     Härryda     16        1123   \n",
       "1342   14  Västra Götalands län    1401     Härryda     18        4446   \n",
       "1343   14  Västra Götalands län    1401     Härryda     30        4844   \n",
       "1344   14  Västra Götalands län    1401     Härryda     40        6078   \n",
       "\n",
       "      Antal minst 1 dos  Antal minst 2 doser  Antal 3 doser  Antal 4 doser  \\\n",
       "1340               1615                 1508            NaN            NaN   \n",
       "1341                988                  945            NaN            NaN   \n",
       "1342               3645                 3480         1617.0            NaN   \n",
       "1343               4106                 3985         2299.0            NaN   \n",
       "1344               5502                 5439         4007.0            NaN   \n",
       "\n",
       "      Andel minst 1 dos  Andel minst 2 doser  Andel 3 doser  Andel 4 doser  \n",
       "1340           0.611511             0.570996       0.000000            0.0  \n",
       "1341           0.879786             0.841496       0.000000            0.0  \n",
       "1342           0.819838             0.782726       0.363698            0.0  \n",
       "1343           0.847647             0.822667       0.474608            0.0  \n",
       "1344           0.905232             0.894867       0.659263            0.0  "
      ]
     },
     "execution_count": 27,
     "metadata": {},
     "output_type": "execute_result"
    }
   ],
   "source": [
    "västra_götaland_län.head()"
   ]
  },
  {
   "cell_type": "code",
   "execution_count": 117,
   "metadata": {},
   "outputs": [],
   "source": [
    "import plotly_express as px\n",
    "from plotly.subplots import make_subplots\n",
    "import plotly.graph_objects as go\n",
    "\n",
    "def plotter(df: pd.DataFrame):\n",
    "    columns = ['Andel minst 1 dos', 'Andel minst 2 doser', 'Andel 3 doser', 'Andel 4 doser']\n",
    "    fig = make_subplots(rows=1, cols=1)\n",
    "    for i, col in enumerate(columns):\n",
    "        fig.add_trace(\n",
    "            go.Box(y=df[col],\n",
    "            name=col, showlegend=True),\n",
    "            \n",
    "        )\n",
    "    fig.update_traces(boxpoints='all', jitter=.5)\n",
    "    fig.show()\n",
    "    "
   ]
  },
  {
   "cell_type": "code",
   "execution_count": 118,
   "metadata": {},
   "outputs": [
    {
     "data": {
      "application/vnd.plotly.v1+json": {
       "config": {
        "plotlyServerURL": "https://plot.ly"
       },
       "data": [
        {
         "boxpoints": "all",
         "jitter": 0.5,
         "name": "Andel minst 1 dos",
         "showlegend": true,
         "type": "box",
         "y": [
          0.49793559042113955,
          0.6974231088944306,
          0.7302749551703527,
          0.7558647026732133,
          0.8050676648430751,
          0.8913455464308275,
          0.8992484734617191,
          0.9495861550037622,
          0.9612202688728024,
          0.9792284866468842,
          0.5670934091986723,
          0.8293885601577909,
          0.8014251781472684,
          0.8404106392907139,
          0.8908470722001137,
          0.9129303442754203,
          0.9300155520995335,
          0.963787250094304,
          0.9737960339943342,
          0.9504132231404959,
          0.5563088512241054,
          0.8066860465116279,
          0.8206839032527106,
          0.8440799090466136,
          0.8667062490722873,
          0.9251217814892136,
          0.9419197517180226,
          0.9678330797652684,
          0.9743341404358353,
          0.9865229110512129,
          0.5802034428794992,
          0.8213751868460388,
          0.8025164113785558,
          0.8349106203995794,
          0.8943519526995488,
          0.9172100935639353,
          0.9394126103922776,
          0.9558279370952821,
          0.9766606822262118,
          0.9551282051282052,
          0.4811012599160056,
          0.6725118483412322,
          0.7389008879289657,
          0.7463625341012428,
          0.8253954607977991,
          0.8807438748401063,
          0.9143932267168391,
          0.9479868400438666,
          0.9560731132075472,
          0.9408528198074277,
          0.5656970912738215,
          0.7949561403508771,
          0.7886317222600409,
          0.80128,
          0.8689748811948405,
          0.9061065197428834,
          0.9288389513108615,
          0.9582338902147971,
          0.9782082324455206,
          1,
          0.48425557933353713,
          0.7025820847943895,
          0.7332317073170732,
          0.731376168641696,
          0.8151824817518248,
          0.8707798225870516,
          0.8921803311390385,
          0.9278984559015965,
          0.9452251218812733,
          0.9538670284938942,
          0.34714339765418084,
          0.537842190016103,
          0.5951807228915663,
          0.6339059215771544,
          0.7251099416047869,
          0.8172547750080932,
          0.8404218333526481,
          0.9061662198391421,
          0.9195599862495702,
          0.8975332068311196,
          0.4890310786106033,
          0.7185840707964601,
          0.7557497700091996,
          0.7511291779584462,
          0.8439086294416244,
          0.9026915113871635,
          0.9107276819204801,
          0.9504132231404959,
          0.9789964994165694,
          0.9375,
          0.43698492462311556,
          0.6611323967645807,
          0.7227605437434647,
          0.7241717310331307,
          0.7872685697425684,
          0.8597000082870639,
          0.8841222879684418,
          0.9334534867600166,
          0.9490196078431372,
          0.9491525423728814,
          0.5376234252638747,
          0.7721954576737784,
          0.7787301587301587,
          0.7970095888184625,
          0.8704424268626604,
          0.9090416158329945,
          0.9131111111111111,
          0.964771011575239,
          0.9767970882620565,
          0.990990990990991,
          0.46932698034544373,
          0.7059585492227979,
          0.7397531952401939,
          0.7307452771434503,
          0.8032,
          0.8778886554621849,
          0.9046210720887246,
          0.9406504065040651,
          0.9503042596348884,
          0.9344262295081968,
          0.5507649513212796,
          0.7932960893854749,
          0.8144927536231884,
          0.8306666666666667,
          0.8867235079171741,
          0.9330518697225573,
          0.9403846153846154,
          0.9655172413793104,
          0.9748427672955975,
          0.9433962264150944,
          0.6241199182375653,
          0.8573433115060805,
          0.8678190663492392,
          0.8617208592557812,
          0.9201470726878477,
          0.9436382361202135,
          0.9548139397519196,
          0.9707845172771763,
          0.9721854304635762,
          0.9682539682539683,
          0.6729014598540146,
          0.8794979079497908,
          0.842647732478241,
          0.8530884808013356,
          0.9173309041220679,
          0.9378716424031167,
          0.9498562759501756,
          0.9695465077788812,
          0.9835436094349973,
          0.9769673704414588,
          0.6016313932980599,
          0.8060170633138751,
          0.7801745269144034,
          0.7945085863975939,
          0.868866017276236,
          0.9167369111173551,
          0.92303265717163,
          0.955189514700673,
          0.9685577580314423,
          0.9609984399375975,
          0.5385051497684966,
          0.7398082149633353,
          0.8170520114594682,
          0.8196359686693429,
          0.8498957558255181,
          0.8896863721014553,
          0.9123597371726335,
          0.9389668801962655,
          0.9511795859412614,
          0.9470918009810791,
          0.33444619010212095,
          0.49625836943678614,
          0.6097323284823285,
          0.6329801151229723,
          0.708934353841625,
          0.8170866083890399,
          0.8644050935137286,
          0.9316250663834307,
          0.9460834181078331,
          0.9355670103092784,
          0.6086681429927239,
          0.8271400132714002,
          0.829058561897702,
          0.8448443579766537,
          0.8992194384993075,
          0.9199841028018811,
          0.9301415236374586,
          0.962876254180602,
          0.974559686888454,
          0.9676113360323887,
          0.4725069897483691,
          0.6627155172413793,
          0.7890707808267577,
          0.774018944519621,
          0.8092114071495515,
          0.8740079365079365,
          0.9052183173588925,
          0.9298816568047338,
          0.95695618754804,
          0.9351851851851852,
          0.5338743824982357,
          0.7508250825082509,
          0.8248021847209579,
          0.8021478948493268,
          0.8456286575633978,
          0.8988528568277079,
          0.9106300305301138,
          0.9325573979591837,
          0.9473125884016973,
          0.9458438287153652,
          0.6132616487455197,
          0.8591851322373124,
          0.8385505273902688,
          0.8407176858293666,
          0.9023373529849635,
          0.9270581113801453,
          0.9468107209640557,
          0.9650465356773527,
          0.9768555466879489,
          0.9737931034482759,
          0.6410614525139665,
          0.8316062176165803,
          0.8352490421455939,
          0.8360814742967992,
          0.9136191677175284,
          0.9206266318537859,
          0.9496810772501771,
          0.960429242119383,
          0.9776119402985075,
          0.9805825242718447,
          0.5369052079430499,
          0.7519260400616333,
          0.8138297872340425,
          0.8174210726511981,
          0.8644757888614222,
          0.9201203982403334,
          0.945381984036488,
          0.9693122861242963,
          0.9847403396505046,
          0.98,
          0.443033381712627,
          0.65390625,
          0.6994783086216365,
          0.6971222093173313,
          0.7910614525139665,
          0.8679721109627652,
          0.8988361683079678,
          0.9498834498834499,
          0.9696647152740819,
          0.9264214046822743,
          0.4796573875802998,
          0.6859375,
          0.7309160305343512,
          0.7459954233409611,
          0.8061051441492368,
          0.8962515114873035,
          0.9242741694103562,
          0.9553005134400483,
          0.9725490196078431,
          0.9964028776978417
         ]
        },
        {
         "boxpoints": "all",
         "jitter": 0.5,
         "name": "Andel minst 2 doser",
         "showlegend": true,
         "type": "box",
         "y": [
          0.4318744838976053,
          0.6275976724854531,
          0.6678123132098027,
          0.7146753955264593,
          0.7816009213936078,
          0.877763739734681,
          0.8891498356035697,
          0.9425633308251818,
          0.9596690796277145,
          0.9703264094955489,
          0.5068752963489805,
          0.757396449704142,
          0.7574821852731591,
          0.8163789080727951,
          0.8724654159560357,
          0.9017213771016813,
          0.9228615863141524,
          0.9588834402112411,
          0.9709631728045326,
          0.9504132231404959,
          0.4783427495291902,
          0.7369186046511628,
          0.7748123436196831,
          0.8120838070488875,
          0.8491910345851269,
          0.9135699373695199,
          0.9334958989137664,
          0.9613127580960661,
          0.9704600484261501,
          0.9838274932614556,
          0.52660406885759,
          0.7556053811659192,
          0.7450765864332604,
          0.7946021731510691,
          0.8759919091333437,
          0.903742557414233,
          0.9309919901417129,
          0.9472710453283997,
          0.9718731298623579,
          0.9391025641025641,
          0.4139057396173588,
          0.6,
          0.6788256939444844,
          0.6992270384965141,
          0.796681568088033,
          0.8676571878382368,
          0.9035075930654481,
          0.9401535328215572,
          0.9528301886792453,
          0.938101788170564,
          0.5015045135406219,
          0.7291666666666666,
          0.7358747447243023,
          0.76256,
          0.8531341932563928,
          0.8971533516988063,
          0.923391215526047,
          0.951073985680191,
          0.9733656174334141,
          0.9954337899543378,
          0.4176092937939468,
          0.62958240357029,
          0.6771341463414634,
          0.6917167867563866,
          0.7922335766423357,
          0.8542301072421554,
          0.8782166367444644,
          0.9186076943208584,
          0.9394895325494694,
          0.9484396200814111,
          0.29644343548997354,
          0.4573268921095008,
          0.5287435456110154,
          0.5850547220410234,
          0.6936774565640546,
          0.7949174490126254,
          0.8229227025147757,
          0.8946976467083706,
          0.9116534891715367,
          0.8918406072106262,
          0.42687385740402195,
          0.6513274336283186,
          0.6936522539098436,
          0.7073170731707317,
          0.823181049069374,
          0.8898550724637682,
          0.8934733683420856,
          0.9455922865013774,
          0.9766627771295215,
          0.9375,
          0.3658291457286432,
          0.5644955300127714,
          0.6551411641686999,
          0.6778409462196955,
          0.7593862949030021,
          0.8442031988066628,
          0.872534516765286,
          0.9245806183280189,
          0.9444947209653092,
          0.9453860640301318,
          0.45965270684371806,
          0.6944253269098417,
          0.7250793650793651,
          0.7601170160897124,
          0.8492578181294135,
          0.8991459943066287,
          0.9035555555555556,
          0.9582284851534978,
          0.9713375796178344,
          0.9887387387387387,
          0.4050029779630733,
          0.6139896373056994,
          0.6725429704715734,
          0.6890180610338384,
          0.7785142857142857,
          0.864233193277311,
          0.8913123844731978,
          0.9333333333333333,
          0.947261663286004,
          0.9180327868852459,
          0.46453407510431155,
          0.6899441340782123,
          0.755072463768116,
          0.794,
          0.8739342265529841,
          0.9240048250904704,
          0.9326923076923077,
          0.962474645030426,
          0.9748427672955975,
          0.9433962264150944,
          0.5491710197592551,
          0.8007483629560337,
          0.8285891729634614,
          0.8330789998826154,
          0.9063825775431319,
          0.9345566894485535,
          0.9434435912581217,
          0.9639626279104256,
          0.9687417218543046,
          0.9621489621489622,
          0.6053832116788321,
          0.8292887029288702,
          0.80439761795694,
          0.8160267111853089,
          0.9034388521976771,
          0.9267992618412959,
          0.9374001916320664,
          0.9606090698444224,
          0.9797037849698299,
          0.9750479846449136,
          0.5399029982363316,
          0.7400089806915132,
          0.7309540150995195,
          0.7568642670030077,
          0.8480977761440912,
          0.9042802285286129,
          0.9129621637174508,
          0.9486362026213249,
          0.963773069036227,
          0.9547581903276131,
          0.4741094207691581,
          0.6753499820522024,
          0.7661501835935923,
          0.7842574085582635,
          0.8261221903800676,
          0.8734775944756662,
          0.8988862015632623,
          0.9294261959929127,
          0.944406997271706,
          0.9409016584910068,
          0.27808326787117044,
          0.42418274911382436,
          0.545997920997921,
          0.5830062794348508,
          0.6789814542243156,
          0.7998236979357967,
          0.8526661360923199,
          0.9233935209771641,
          0.9422685656154629,
          0.9304123711340206,
          0.5344827586206896,
          0.7571333775713338,
          0.7808747220163084,
          0.8073929961089494,
          0.8792647614251542,
          0.9085911108167185,
          0.9215095854662251,
          0.9556298773690078,
          0.9691780821917808,
          0.9635627530364372,
          0.4217148182665424,
          0.5948275862068966,
          0.7378400659521847,
          0.7317320703653586,
          0.7831034944437006,
          0.857308201058201,
          0.8894568690095846,
          0.9207100591715977,
          0.9492697924673328,
          0.9259259259259259,
          0.4654199011997177,
          0.6740924092409241,
          0.7713745536026889,
          0.7617546484291515,
          0.8240822840929243,
          0.884844473858372,
          0.897307799056342,
          0.923469387755102,
          0.9416548797736917,
          0.9433249370277078,
          0.5577060931899641,
          0.8155825589706933,
          0.7968696835658388,
          0.8059318930794581,
          0.8828345987792169,
          0.9163135593220338,
          0.9343444836900062,
          0.9584281282316442,
          0.9708699122106943,
          0.9682758620689655,
          0.5824022346368715,
          0.7746113989637305,
          0.789272030651341,
          0.8128031037827352,
          0.8978562421185372,
          0.9133159268929504,
          0.9433026222537207,
          0.9564050972501676,
          0.9757462686567164,
          0.9805825242718447,
          0.4664668415136755,
          0.6587057010785824,
          0.7587765957446808,
          0.7740585774058577,
          0.8403373564054093,
          0.9076175040518638,
          0.9369441277080958,
          0.9657798874047908,
          0.9810484863401427,
          0.9788888888888889,
          0.38243831640058057,
          0.575,
          0.6333058758923669,
          0.6510517486127242,
          0.7607541899441341,
          0.85106067349058,
          0.8856311548791406,
          0.9408508158508159,
          0.9654071314529005,
          0.9130434782608695,
          0.38187009279086365,
          0.575,
          0.6423118865866958,
          0.6926010678871091,
          0.7758620689655172,
          0.8781136638452237,
          0.9108051481592337,
          0.9438236182422229,
          0.9640522875816994,
          0.9820143884892086
         ]
        },
        {
         "boxpoints": "all",
         "jitter": 0.5,
         "name": "Andel 3 doser",
         "showlegend": true,
         "type": "box",
         "y": [
          0,
          0,
          0.2927375971309026,
          0.39252591380250956,
          0.5354160668010366,
          0.7162034112444725,
          0.7832315641146078,
          0.8989214948582894,
          0.9317476732161324,
          0.9465875370919882,
          0,
          0,
          0.39216152019002376,
          0.5286980867942137,
          0.6829638051923441,
          0.7706164931945556,
          0.8367029548989113,
          0.92832893247831,
          0.9398016997167139,
          0.9214876033057852,
          0,
          0,
          0.3969974979149291,
          0.5028422933246711,
          0.6526643906783435,
          0.7944328462073765,
          0.871647084903569,
          0.9376222560312976,
          0.9520581113801453,
          0.9514824797843666,
          0,
          0,
          0.34573304157549234,
          0.5026288117770767,
          0.669985996576941,
          0.7720442302239864,
          0.8568494557403984,
          0.9125809435707678,
          0.9539198084979055,
          0.9134615384615384,
          0,
          0,
          0.29021678265738743,
          0.3654895422855411,
          0.5225240715268226,
          0.6762766899537538,
          0.7947856470904449,
          0.8944070186432712,
          0.9257075471698113,
          0.9037138927097662,
          0,
          0,
          0.34138869979577946,
          0.46848,
          0.6334012219959266,
          0.758494031221304,
          0.8542730677562138,
          0.9196499602227526,
          0.9539951573849879,
          0.9726027397260274,
          0,
          0,
          0.3125609756097561,
          0.39111534567974754,
          0.5575474452554745,
          0.6924400900304515,
          0.77508477957311,
          0.8641716828055482,
          0.9073702322913679,
          0.903663500678426,
          0,
          0,
          0.19283993115318415,
          0.25389577444371964,
          0.39182467017518563,
          0.5521204273227581,
          0.6682118437825936,
          0.8139708072683944,
          0.856651770367824,
          0.8273244781783681,
          0,
          0,
          0.296688132474701,
          0.3712737127371274,
          0.5795262267343486,
          0.7507246376811594,
          0.7989497374343586,
          0.9035812672176309,
          0.9498249708284714,
          0.9097222222222222,
          0,
          0,
          0.2872777971418613,
          0.363196758805463,
          0.5125765287305452,
          0.6719980111046656,
          0.7679980276134122,
          0.8803549147372799,
          0.9131221719457013,
          0.9209039548022598,
          0,
          0,
          0.33174603174603173,
          0.4446611409068747,
          0.6258826920305519,
          0.7644028737969364,
          0.8131111111111111,
          0.9219929542023151,
          0.9454049135577798,
          0.9617117117117117,
          0,
          0,
          0.26862053768179817,
          0.3294581689848453,
          0.49897142857142857,
          0.6691176470588235,
          0.7918669131238447,
          0.8963414634146342,
          0.9148073022312373,
          0.8688524590163934,
          0,
          0,
          0.3289855072463768,
          0.4573333333333333,
          0.6382460414129111,
          0.7738238841978287,
          0.8519230769230769,
          0.9350912778904665,
          0.9538784067085954,
          0.9433962264150944,
          0,
          0,
          0.46434116551081667,
          0.565794107289588,
          0.7264070896577731,
          0.8279187342009175,
          0.8883638511518015,
          0.9399377131840427,
          0.9528476821192053,
          0.9352869352869353,
          0,
          0,
          0.4615208428767751,
          0.547245409015025,
          0.7340013664313368,
          0.8281730572072996,
          0.8738422229319707,
          0.9344587884806356,
          0.9621503017004936,
          0.9539347408829175,
          0,
          0,
          0.3761153054221002,
          0.4840399728339963,
          0.6400477853335784,
          0.7733445724454435,
          0.8328298086606244,
          0.9121501948281969,
          0.9425837320574163,
          0.9344773790951638,
          0,
          0,
          0.42858680009146055,
          0.5226777746051475,
          0.6099794458482823,
          0.7200257099065543,
          0.8076751403925803,
          0.8842169824178819,
          0.9139784946236559,
          0.9153235225414623,
          0,
          0,
          0.1910732848232848,
          0.24862637362637363,
          0.35663821018545777,
          0.5511643282156762,
          0.6776760843613211,
          0.8425385023898035,
          0.8929298067141404,
          0.8891752577319587,
          0,
          0,
          0.40355819125277986,
          0.5177181767648694,
          0.6833060556464812,
          0.785387825395774,
          0.8509485094850948,
          0.9231884057971015,
          0.9478962818003914,
          0.9342105263157895,
          0,
          0,
          0.3837003886468025,
          0.4369079837618403,
          0.5316642120765832,
          0.6722883597883598,
          0.777422790202343,
          0.8621301775147929,
          0.9108378170637971,
          0.9012345679012346,
          0,
          0,
          0.44135564736363,
          0.5029386621072879,
          0.6049831530413193,
          0.7305316567394662,
          0.8102969747432694,
          0.8786670918367347,
          0.9123055162659123,
          0.9130982367758187,
          0,
          0,
          0.41510717931269137,
          0.5292932991578176,
          0.6869138008039303,
          0.7857142857142857,
          0.874714315395803,
          0.9338159255429163,
          0.9521149241819633,
          0.9489655172413793,
          0,
          0,
          0.3954022988505747,
          0.5092143549951503,
          0.7118537200504413,
          0.8046997389033943,
          0.8858965272856131,
          0.926224010731053,
          0.9720149253731343,
          0.9611650485436893,
          0,
          0,
          0.38018617021276596,
          0.4717890199061747,
          0.6329794968736367,
          0.7803889789303079,
          0.8753705815279361,
          0.9366375979688707,
          0.9618508491262614,
          0.9611111111111111,
          0,
          0,
          0.2343492586490939,
          0.3122983610788489,
          0.46145251396648046,
          0.6582109479305741,
          0.7735004476275739,
          0.8921911421911422,
          0.9377328366152209,
          0.8896321070234113,
          0,
          0,
          0.27835332606324975,
          0.3747775235189423,
          0.5387224420576597,
          0.7301088270858525,
          0.827596527985633,
          0.8979160374509212,
          0.9313725490196079,
          0.9424460431654677
         ]
        },
        {
         "boxpoints": "all",
         "jitter": 0.5,
         "name": "Andel 4 doser",
         "showlegend": true,
         "type": "box",
         "y": [
          0,
          0,
          0,
          0,
          0,
          0,
          0,
          0.7652370203160271,
          0.8360910031023785,
          0.8219584569732937,
          0,
          0,
          0,
          0,
          0,
          0,
          0,
          0.8249717087891362,
          0.8477337110481586,
          0.8057851239669421,
          0,
          0,
          0,
          0,
          0,
          0,
          0,
          0.8376439904368616,
          0.8799031476997579,
          0.8517520215633423,
          0,
          0,
          0,
          0,
          0,
          0,
          0,
          0.8066604995374653,
          0.8539796529024536,
          0.7788461538461539,
          0,
          0,
          0,
          0,
          0,
          0,
          0,
          0.7519974933416889,
          0.8222287735849056,
          0.796423658872077,
          0,
          0,
          0,
          0,
          0,
          0,
          0,
          0.807478122513922,
          0.8910411622276029,
          0.9223744292237442,
          0,
          0,
          0,
          0,
          0,
          0,
          0,
          0.7189217482334468,
          0.7938055635216519,
          0.7924016282225237,
          0,
          0,
          0,
          0,
          0,
          0,
          0,
          0.6364313375037236,
          0.7019594362323822,
          0.6793168880455408,
          0,
          0,
          0,
          0,
          0,
          0,
          0,
          0.7892561983471075,
          0.8716452742123687,
          0.8333333333333334,
          0,
          0,
          0,
          0,
          0,
          0,
          0,
          0.7465686954110634,
          0.8102564102564103,
          0.815442561205273,
          0,
          0,
          0,
          0,
          0,
          0,
          0,
          0.8120281831907398,
          0.8448589626933576,
          0.8355855855855856,
          0,
          0,
          0,
          0,
          0,
          0,
          0,
          0.7715447154471544,
          0.8184584178498986,
          0.8142076502732241,
          0,
          0,
          0,
          0,
          0,
          0,
          0,
          0.7971602434077079,
          0.8176100628930818,
          0.8490566037735849,
          0,
          0,
          0,
          0,
          0,
          0,
          0,
          0.8462108853625983,
          0.8781456953642384,
          0.8522588522588522,
          0,
          0,
          0,
          0,
          0,
          0,
          0,
          0.8242303872889771,
          0.8782227098189797,
          0.7754318618042226,
          0,
          0,
          0,
          0,
          0,
          0,
          0,
          0.7888770811193766,
          0.8578263841421736,
          0.84399375975039,
          0,
          0,
          0,
          0,
          0,
          0,
          0,
          0.7569033664985689,
          0.8138340555288076,
          0.8109086661994861,
          0,
          0,
          0,
          0,
          0,
          0,
          0,
          0.6262612851832182,
          0.7321973550356052,
          0.7422680412371134,
          0,
          0,
          0,
          0,
          0,
          0,
          0,
          0.8202898550724638,
          0.8598336594911937,
          0.8451417004048583,
          0,
          0,
          0,
          0,
          0,
          0,
          0,
          0.7109467455621302,
          0.8039969254419678,
          0.7746913580246914,
          0,
          0,
          0,
          0,
          0,
          0,
          0,
          0.7413903061224489,
          0.791018387553041,
          0.8035264483627204,
          0,
          0,
          0,
          0,
          0,
          0,
          0,
          0.8179937952430196,
          0.8687150837988827,
          0.8675862068965517,
          0,
          0,
          0,
          0,
          0,
          0,
          0,
          0.8276324614352784,
          0.8638059701492538,
          0.8349514563106796,
          0,
          0,
          0,
          0,
          0,
          0,
          0,
          0.8300033116237996,
          0.8700467634752646,
          0.8866666666666667,
          0,
          0,
          0,
          0,
          0,
          0,
          0,
          0.7462121212121212,
          0.8435337945715806,
          0.782608695652174,
          0,
          0,
          0,
          0,
          0,
          0,
          0,
          0.721836303231652,
          0.8,
          0.7949640287769785
         ]
        }
       ],
       "layout": {
        "template": {
         "data": {
          "bar": [
           {
            "error_x": {
             "color": "#2a3f5f"
            },
            "error_y": {
             "color": "#2a3f5f"
            },
            "marker": {
             "line": {
              "color": "#E5ECF6",
              "width": 0.5
             },
             "pattern": {
              "fillmode": "overlay",
              "size": 10,
              "solidity": 0.2
             }
            },
            "type": "bar"
           }
          ],
          "barpolar": [
           {
            "marker": {
             "line": {
              "color": "#E5ECF6",
              "width": 0.5
             },
             "pattern": {
              "fillmode": "overlay",
              "size": 10,
              "solidity": 0.2
             }
            },
            "type": "barpolar"
           }
          ],
          "carpet": [
           {
            "aaxis": {
             "endlinecolor": "#2a3f5f",
             "gridcolor": "white",
             "linecolor": "white",
             "minorgridcolor": "white",
             "startlinecolor": "#2a3f5f"
            },
            "baxis": {
             "endlinecolor": "#2a3f5f",
             "gridcolor": "white",
             "linecolor": "white",
             "minorgridcolor": "white",
             "startlinecolor": "#2a3f5f"
            },
            "type": "carpet"
           }
          ],
          "choropleth": [
           {
            "colorbar": {
             "outlinewidth": 0,
             "ticks": ""
            },
            "type": "choropleth"
           }
          ],
          "contour": [
           {
            "colorbar": {
             "outlinewidth": 0,
             "ticks": ""
            },
            "colorscale": [
             [
              0,
              "#0d0887"
             ],
             [
              0.1111111111111111,
              "#46039f"
             ],
             [
              0.2222222222222222,
              "#7201a8"
             ],
             [
              0.3333333333333333,
              "#9c179e"
             ],
             [
              0.4444444444444444,
              "#bd3786"
             ],
             [
              0.5555555555555556,
              "#d8576b"
             ],
             [
              0.6666666666666666,
              "#ed7953"
             ],
             [
              0.7777777777777778,
              "#fb9f3a"
             ],
             [
              0.8888888888888888,
              "#fdca26"
             ],
             [
              1,
              "#f0f921"
             ]
            ],
            "type": "contour"
           }
          ],
          "contourcarpet": [
           {
            "colorbar": {
             "outlinewidth": 0,
             "ticks": ""
            },
            "type": "contourcarpet"
           }
          ],
          "heatmap": [
           {
            "colorbar": {
             "outlinewidth": 0,
             "ticks": ""
            },
            "colorscale": [
             [
              0,
              "#0d0887"
             ],
             [
              0.1111111111111111,
              "#46039f"
             ],
             [
              0.2222222222222222,
              "#7201a8"
             ],
             [
              0.3333333333333333,
              "#9c179e"
             ],
             [
              0.4444444444444444,
              "#bd3786"
             ],
             [
              0.5555555555555556,
              "#d8576b"
             ],
             [
              0.6666666666666666,
              "#ed7953"
             ],
             [
              0.7777777777777778,
              "#fb9f3a"
             ],
             [
              0.8888888888888888,
              "#fdca26"
             ],
             [
              1,
              "#f0f921"
             ]
            ],
            "type": "heatmap"
           }
          ],
          "heatmapgl": [
           {
            "colorbar": {
             "outlinewidth": 0,
             "ticks": ""
            },
            "colorscale": [
             [
              0,
              "#0d0887"
             ],
             [
              0.1111111111111111,
              "#46039f"
             ],
             [
              0.2222222222222222,
              "#7201a8"
             ],
             [
              0.3333333333333333,
              "#9c179e"
             ],
             [
              0.4444444444444444,
              "#bd3786"
             ],
             [
              0.5555555555555556,
              "#d8576b"
             ],
             [
              0.6666666666666666,
              "#ed7953"
             ],
             [
              0.7777777777777778,
              "#fb9f3a"
             ],
             [
              0.8888888888888888,
              "#fdca26"
             ],
             [
              1,
              "#f0f921"
             ]
            ],
            "type": "heatmapgl"
           }
          ],
          "histogram": [
           {
            "marker": {
             "pattern": {
              "fillmode": "overlay",
              "size": 10,
              "solidity": 0.2
             }
            },
            "type": "histogram"
           }
          ],
          "histogram2d": [
           {
            "colorbar": {
             "outlinewidth": 0,
             "ticks": ""
            },
            "colorscale": [
             [
              0,
              "#0d0887"
             ],
             [
              0.1111111111111111,
              "#46039f"
             ],
             [
              0.2222222222222222,
              "#7201a8"
             ],
             [
              0.3333333333333333,
              "#9c179e"
             ],
             [
              0.4444444444444444,
              "#bd3786"
             ],
             [
              0.5555555555555556,
              "#d8576b"
             ],
             [
              0.6666666666666666,
              "#ed7953"
             ],
             [
              0.7777777777777778,
              "#fb9f3a"
             ],
             [
              0.8888888888888888,
              "#fdca26"
             ],
             [
              1,
              "#f0f921"
             ]
            ],
            "type": "histogram2d"
           }
          ],
          "histogram2dcontour": [
           {
            "colorbar": {
             "outlinewidth": 0,
             "ticks": ""
            },
            "colorscale": [
             [
              0,
              "#0d0887"
             ],
             [
              0.1111111111111111,
              "#46039f"
             ],
             [
              0.2222222222222222,
              "#7201a8"
             ],
             [
              0.3333333333333333,
              "#9c179e"
             ],
             [
              0.4444444444444444,
              "#bd3786"
             ],
             [
              0.5555555555555556,
              "#d8576b"
             ],
             [
              0.6666666666666666,
              "#ed7953"
             ],
             [
              0.7777777777777778,
              "#fb9f3a"
             ],
             [
              0.8888888888888888,
              "#fdca26"
             ],
             [
              1,
              "#f0f921"
             ]
            ],
            "type": "histogram2dcontour"
           }
          ],
          "mesh3d": [
           {
            "colorbar": {
             "outlinewidth": 0,
             "ticks": ""
            },
            "type": "mesh3d"
           }
          ],
          "parcoords": [
           {
            "line": {
             "colorbar": {
              "outlinewidth": 0,
              "ticks": ""
             }
            },
            "type": "parcoords"
           }
          ],
          "pie": [
           {
            "automargin": true,
            "type": "pie"
           }
          ],
          "scatter": [
           {
            "fillpattern": {
             "fillmode": "overlay",
             "size": 10,
             "solidity": 0.2
            },
            "type": "scatter"
           }
          ],
          "scatter3d": [
           {
            "line": {
             "colorbar": {
              "outlinewidth": 0,
              "ticks": ""
             }
            },
            "marker": {
             "colorbar": {
              "outlinewidth": 0,
              "ticks": ""
             }
            },
            "type": "scatter3d"
           }
          ],
          "scattercarpet": [
           {
            "marker": {
             "colorbar": {
              "outlinewidth": 0,
              "ticks": ""
             }
            },
            "type": "scattercarpet"
           }
          ],
          "scattergeo": [
           {
            "marker": {
             "colorbar": {
              "outlinewidth": 0,
              "ticks": ""
             }
            },
            "type": "scattergeo"
           }
          ],
          "scattergl": [
           {
            "marker": {
             "colorbar": {
              "outlinewidth": 0,
              "ticks": ""
             }
            },
            "type": "scattergl"
           }
          ],
          "scattermapbox": [
           {
            "marker": {
             "colorbar": {
              "outlinewidth": 0,
              "ticks": ""
             }
            },
            "type": "scattermapbox"
           }
          ],
          "scatterpolar": [
           {
            "marker": {
             "colorbar": {
              "outlinewidth": 0,
              "ticks": ""
             }
            },
            "type": "scatterpolar"
           }
          ],
          "scatterpolargl": [
           {
            "marker": {
             "colorbar": {
              "outlinewidth": 0,
              "ticks": ""
             }
            },
            "type": "scatterpolargl"
           }
          ],
          "scatterternary": [
           {
            "marker": {
             "colorbar": {
              "outlinewidth": 0,
              "ticks": ""
             }
            },
            "type": "scatterternary"
           }
          ],
          "surface": [
           {
            "colorbar": {
             "outlinewidth": 0,
             "ticks": ""
            },
            "colorscale": [
             [
              0,
              "#0d0887"
             ],
             [
              0.1111111111111111,
              "#46039f"
             ],
             [
              0.2222222222222222,
              "#7201a8"
             ],
             [
              0.3333333333333333,
              "#9c179e"
             ],
             [
              0.4444444444444444,
              "#bd3786"
             ],
             [
              0.5555555555555556,
              "#d8576b"
             ],
             [
              0.6666666666666666,
              "#ed7953"
             ],
             [
              0.7777777777777778,
              "#fb9f3a"
             ],
             [
              0.8888888888888888,
              "#fdca26"
             ],
             [
              1,
              "#f0f921"
             ]
            ],
            "type": "surface"
           }
          ],
          "table": [
           {
            "cells": {
             "fill": {
              "color": "#EBF0F8"
             },
             "line": {
              "color": "white"
             }
            },
            "header": {
             "fill": {
              "color": "#C8D4E3"
             },
             "line": {
              "color": "white"
             }
            },
            "type": "table"
           }
          ]
         },
         "layout": {
          "annotationdefaults": {
           "arrowcolor": "#2a3f5f",
           "arrowhead": 0,
           "arrowwidth": 1
          },
          "autotypenumbers": "strict",
          "coloraxis": {
           "colorbar": {
            "outlinewidth": 0,
            "ticks": ""
           }
          },
          "colorscale": {
           "diverging": [
            [
             0,
             "#8e0152"
            ],
            [
             0.1,
             "#c51b7d"
            ],
            [
             0.2,
             "#de77ae"
            ],
            [
             0.3,
             "#f1b6da"
            ],
            [
             0.4,
             "#fde0ef"
            ],
            [
             0.5,
             "#f7f7f7"
            ],
            [
             0.6,
             "#e6f5d0"
            ],
            [
             0.7,
             "#b8e186"
            ],
            [
             0.8,
             "#7fbc41"
            ],
            [
             0.9,
             "#4d9221"
            ],
            [
             1,
             "#276419"
            ]
           ],
           "sequential": [
            [
             0,
             "#0d0887"
            ],
            [
             0.1111111111111111,
             "#46039f"
            ],
            [
             0.2222222222222222,
             "#7201a8"
            ],
            [
             0.3333333333333333,
             "#9c179e"
            ],
            [
             0.4444444444444444,
             "#bd3786"
            ],
            [
             0.5555555555555556,
             "#d8576b"
            ],
            [
             0.6666666666666666,
             "#ed7953"
            ],
            [
             0.7777777777777778,
             "#fb9f3a"
            ],
            [
             0.8888888888888888,
             "#fdca26"
            ],
            [
             1,
             "#f0f921"
            ]
           ],
           "sequentialminus": [
            [
             0,
             "#0d0887"
            ],
            [
             0.1111111111111111,
             "#46039f"
            ],
            [
             0.2222222222222222,
             "#7201a8"
            ],
            [
             0.3333333333333333,
             "#9c179e"
            ],
            [
             0.4444444444444444,
             "#bd3786"
            ],
            [
             0.5555555555555556,
             "#d8576b"
            ],
            [
             0.6666666666666666,
             "#ed7953"
            ],
            [
             0.7777777777777778,
             "#fb9f3a"
            ],
            [
             0.8888888888888888,
             "#fdca26"
            ],
            [
             1,
             "#f0f921"
            ]
           ]
          },
          "colorway": [
           "#636efa",
           "#EF553B",
           "#00cc96",
           "#ab63fa",
           "#FFA15A",
           "#19d3f3",
           "#FF6692",
           "#B6E880",
           "#FF97FF",
           "#FECB52"
          ],
          "font": {
           "color": "#2a3f5f"
          },
          "geo": {
           "bgcolor": "white",
           "lakecolor": "white",
           "landcolor": "#E5ECF6",
           "showlakes": true,
           "showland": true,
           "subunitcolor": "white"
          },
          "hoverlabel": {
           "align": "left"
          },
          "hovermode": "closest",
          "mapbox": {
           "style": "light"
          },
          "paper_bgcolor": "white",
          "plot_bgcolor": "#E5ECF6",
          "polar": {
           "angularaxis": {
            "gridcolor": "white",
            "linecolor": "white",
            "ticks": ""
           },
           "bgcolor": "#E5ECF6",
           "radialaxis": {
            "gridcolor": "white",
            "linecolor": "white",
            "ticks": ""
           }
          },
          "scene": {
           "xaxis": {
            "backgroundcolor": "#E5ECF6",
            "gridcolor": "white",
            "gridwidth": 2,
            "linecolor": "white",
            "showbackground": true,
            "ticks": "",
            "zerolinecolor": "white"
           },
           "yaxis": {
            "backgroundcolor": "#E5ECF6",
            "gridcolor": "white",
            "gridwidth": 2,
            "linecolor": "white",
            "showbackground": true,
            "ticks": "",
            "zerolinecolor": "white"
           },
           "zaxis": {
            "backgroundcolor": "#E5ECF6",
            "gridcolor": "white",
            "gridwidth": 2,
            "linecolor": "white",
            "showbackground": true,
            "ticks": "",
            "zerolinecolor": "white"
           }
          },
          "shapedefaults": {
           "line": {
            "color": "#2a3f5f"
           }
          },
          "ternary": {
           "aaxis": {
            "gridcolor": "white",
            "linecolor": "white",
            "ticks": ""
           },
           "baxis": {
            "gridcolor": "white",
            "linecolor": "white",
            "ticks": ""
           },
           "bgcolor": "#E5ECF6",
           "caxis": {
            "gridcolor": "white",
            "linecolor": "white",
            "ticks": ""
           }
          },
          "title": {
           "x": 0.05
          },
          "xaxis": {
           "automargin": true,
           "gridcolor": "white",
           "linecolor": "white",
           "ticks": "",
           "title": {
            "standoff": 15
           },
           "zerolinecolor": "white",
           "zerolinewidth": 2
          },
          "yaxis": {
           "automargin": true,
           "gridcolor": "white",
           "linecolor": "white",
           "ticks": "",
           "title": {
            "standoff": 15
           },
           "zerolinecolor": "white",
           "zerolinewidth": 2
          }
         }
        },
        "xaxis": {
         "anchor": "y",
         "domain": [
          0,
          1
         ]
        },
        "yaxis": {
         "anchor": "x",
         "domain": [
          0,
          1
         ]
        }
       }
      }
     },
     "metadata": {},
     "output_type": "display_data"
    }
   ],
   "source": [
    "plotter(stockholm_län)"
   ]
  },
  {
   "cell_type": "code",
   "execution_count": 119,
   "metadata": {},
   "outputs": [
    {
     "data": {
      "application/vnd.plotly.v1+json": {
       "config": {
        "plotlyServerURL": "https://plot.ly"
       },
       "data": [
        {
         "boxpoints": "all",
         "jitter": 0.5,
         "name": "Andel minst 1 dos",
         "showlegend": true,
         "type": "box",
         "y": [
          0.6115107913669064,
          0.8797862867319679,
          0.819838056680162,
          0.847646573080099,
          0.9052319842053307,
          0.9224246797762944,
          0.9471127900701565,
          0.9792729591836735,
          0.9877800407331976,
          0.9696048632218845,
          0.5704989154013015,
          0.8082744702320888,
          0.7849800713236836,
          0.845627923713566,
          0.8909446717665895,
          0.910841517427306,
          0.935633367662204,
          0.9623942337825133,
          0.967741935483871,
          0.9782608695652174,
          0.5573529411764706,
          0.7909604519774012,
          0.8558368495077355,
          0.8476027397260274,
          0.9082696316886727,
          0.9342379958246346,
          0.9351381838691484,
          0.9714784633294529,
          0.9872448979591837,
          0.953757225433526,
          0.5673333333333334,
          0.8373570520965693,
          0.8198721673445671,
          0.8401604124892581,
          0.8850282485875707,
          0.9062579174056246,
          0.9381370826010544,
          0.9716338880484114,
          0.9781690140845071,
          0.9823943661971831,
          0.541994750656168,
          0.7880434782608695,
          0.8360864040660737,
          0.8444444444444444,
          0.8805384183959618,
          0.9259763851044505,
          0.974370112945265,
          0.9840269020596889,
          0.98001998001998,
          0.966824644549763,
          0.5974842767295597,
          0.8229813664596274,
          0.8417680973734786,
          0.7994561522773623,
          0.8663766314481044,
          0.9080622347949081,
          0.9364016736401674,
          0.9521209575808484,
          0.966789667896679,
          0.9620853080568721,
          0.6104294478527608,
          0.8759124087591241,
          0.8312570781426953,
          0.8065650644783119,
          0.8693415637860082,
          0.9284591194968553,
          0.9660095173351462,
          0.9796772265391512,
          0.9825949367088608,
          0.9820359281437125,
          0.583864118895966,
          0.782608695652174,
          0.78125,
          0.8262172284644195,
          0.8503869303525365,
          0.9005847953216374,
          0.9298375184638109,
          0.9700315457413249,
          0.9653543307086614,
          0.9358974358974359,
          0.508833922261484,
          0.77734375,
          0.8591445427728613,
          0.8421052631578947,
          0.8903605592347315,
          0.914569923932124,
          0.9484911550468262,
          0.9653029518384257,
          0.9630996309963099,
          0.9853658536585366,
          0.4790697674418605,
          0.7982456140350878,
          0.7912713472485768,
          0.8330275229357799,
          0.8022598870056498,
          0.8708609271523179,
          0.9124343257443083,
          0.9538002980625931,
          1,
          1,
          0.6045751633986928,
          0.8666666666666667,
          0.8053333333333333,
          0.8095872170439414,
          0.8542274052478134,
          0.888641425389755,
          0.9274725274725275,
          0.9423769507803121,
          0.981029810298103,
          0.9479166666666666,
          0.5104815864022663,
          0.7624565469293163,
          0.7751231527093596,
          0.8109344369418428,
          0.8633318445734703,
          0.9066213921901528,
          0.9276773296244785,
          0.9661549197487788,
          0.9681481481481482,
          0.9852941176470589,
          0.5983032091479159,
          0.8452743902439024,
          0.798572046733016,
          0.8691118972258425,
          0.9010850762698538,
          0.9254966887417219,
          0.9443885254151988,
          0.973250472845177,
          0.9858585858585859,
          0.9775561097256857,
          0.5463258785942492,
          0.7993630573248408,
          0.8236842105263158,
          0.8378870673952641,
          0.8839779005524862,
          0.905123339658444,
          0.9302496328928047,
          0.9557312252964427,
          0.9554367201426025,
          0.9365079365079365,
          0.5410447761194029,
          0.7961538461538461,
          0.8333333333333334,
          0.8334687246141349,
          0.8678206136900078,
          0.9120473022912047,
          0.943359375,
          0.9711538461538461,
          0.9824945295404814,
          0.9302325581395349,
          0.6051660516605166,
          0.8571428571428571,
          0.8377952755905512,
          0.849772382397572,
          0.8829113924050633,
          0.9066002490660025,
          0.9570871261378413,
          0.9583892617449664,
          0.9792284866468842,
          0.9782608695652174,
          0.527027027027027,
          0.8285714285714286,
          0.8040201005025126,
          0.8159879336349924,
          0.8667736757624398,
          0.88,
          0.921727395411606,
          0.9479843953185956,
          0.9787878787878788,
          0.9058823529411765,
          0.6606498194945848,
          0.8874172185430463,
          0.8767295597484277,
          0.8473282442748091,
          0.8985313751668892,
          0.9144144144144144,
          0.9648924122310306,
          0.9651162790697675,
          0.971252566735113,
          0.9693877551020408,
          0.5,
          0.7311827956989247,
          0.75,
          0.7752100840336135,
          0.8308351177730193,
          0.9002659574468085,
          0.930011862396204,
          0.9404052443384983,
          0.9452054794520548,
          0.9540229885057471,
          0.5278745644599303,
          0.778169014084507,
          0.7716994894237783,
          0.788881069669247,
          0.8490566037735849,
          0.9061547836684948,
          0.9303928325292902,
          0.9581928523263655,
          0.9635258358662614,
          0.9661016949152542,
          0.5388471177944862,
          0.7743589743589744,
          0.7883698760724499,
          0.8274058577405857,
          0.8587075575027382,
          0.9139280125195618,
          0.9088803088803089,
          0.9654199011997178,
          0.9585889570552147,
          0.9685863874345549,
          0.46403712296983757,
          0.6071428571428571,
          0.7582417582417582,
          0.7884250474383302,
          0.838569880823402,
          0.8869198312236287,
          0.9237490071485306,
          0.9486780715396579,
          0.9569707401032702,
          0.968944099378882,
          0.42128935532233885,
          0.6460481099656358,
          0.6984036488027366,
          0.7455230914231856,
          0.7920046349942063,
          0.8700828157349897,
          0.91976401179941,
          0.9555863983344899,
          0.9673202614379085,
          0.924812030075188,
          0.5227151256012827,
          0.7750582750582751,
          0.7788595271210014,
          0.7870370370370371,
          0.847672434803802,
          0.8875888006686168,
          0.9265296480037798,
          0.9543716543461637,
          0.9660560344827587,
          0.9707865168539326,
          0.4839319470699433,
          0.717391304347826,
          0.7676174496644296,
          0.7411674347158218,
          0.8190559440559441,
          0.9031187790311878,
          0.9129193433261956,
          0.9505376344086022,
          0.967266775777414,
          0.9576271186440678,
          0.5514018691588785,
          0.7487437185929648,
          0.7948504983388704,
          0.8057553956834532,
          0.8636363636363636,
          0.895800933125972,
          0.9066666666666666,
          0.9565587734241908,
          0.9684014869888475,
          0.9830508474576272,
          0.5592105263157895,
          0.8304597701149425,
          0.8072528564331843,
          0.7845592070944184,
          0.8407643312101911,
          0.8992212551534585,
          0.9465060240963855,
          0.9620879120879121,
          0.9666307857911733,
          0.9948453608247423,
          0.592814371257485,
          0.821917808219178,
          0.8072033898305084,
          0.8568548387096774,
          0.8822328114363512,
          0.9331175836030206,
          0.9447818884594147,
          0.9708571428571429,
          0.9679075738125802,
          0.954248366013072,
          0.56,
          0.8015267175572519,
          0.7809110629067245,
          0.7948360083740404,
          0.8218390804597702,
          0.8947019867549669,
          0.9214659685863874,
          0.9603053435114504,
          0.9739368998628258,
          0.9573170731707317,
          0.5349397590361445,
          0.697560975609756,
          0.8076572470373746,
          0.8049019607843138,
          0.8409321175278622,
          0.8837209302325582,
          0.9304084720121029,
          0.9545454545454546,
          0.9594594594594594,
          0.9765625,
          0.4771017916912778,
          0.6781580271766482,
          0.8064955535231275,
          0.7849348651636783,
          0.8228531021658854,
          0.8744223543469185,
          0.9089034340536178,
          0.942241690751445,
          0.9517389996993084,
          0.9494186046511628,
          0.607773851590106,
          0.8355842630651791,
          0.8634771294164748,
          0.8482290328500642,
          0.8969229206865035,
          0.9234204793028322,
          0.9381663113006397,
          0.9598401218119528,
          0.9681504221028396,
          0.9570747217806042,
          0.5604,
          0.7884780739466896,
          0.8168740908356231,
          0.8573795180722892,
          0.8917132689374683,
          0.9111178522675565,
          0.9442528735632184,
          0.963236893626278,
          0.9702452754322477,
          0.9725085910652921,
          0.6385737439222042,
          0.8581314878892734,
          0.8310249307479224,
          0.8206371191135734,
          0.899171270718232,
          0.9329551315110882,
          0.9457690509583918,
          0.9699769053117783,
          0.9813542688910697,
          0.97265625,
          0.5513361462728551,
          0.8311488049344642,
          0.8303927881519639,
          0.8404800431499461,
          0.896588486140725,
          0.9195652173913044,
          0.9456143008635055,
          0.969760900140647,
          0.9755381604696673,
          0.9731543624161074,
          0.43800322061191627,
          0.7527675276752768,
          0.7634615384615384,
          0.796056338028169,
          0.8529761904761904,
          0.8927933293627159,
          0.9300833867864016,
          0.9763934426229508,
          0.9814285714285714,
          0.9828571428571429,
          0.5406917599186165,
          0.7819314641744548,
          0.8099785616838823,
          0.8342418736119523,
          0.8824206166589967,
          0.9235095613048369,
          0.9502047855141195,
          0.9685563461097085,
          0.9779697624190065,
          0.9554140127388535,
          0.5047329276538202,
          0.7273346966598501,
          0.8050773589017215,
          0.8049694094144088,
          0.8652694610778443,
          0.918234064785789,
          0.9312489769192994,
          0.9499908071336642,
          0.962291515591008,
          0.9615384615384616,
          0.5906998158379374,
          0.8300653594771242,
          0.8336255601013053,
          0.8498531571218796,
          0.9024058983313931,
          0.9196654347403229,
          0.9422492401215805,
          0.97625609497562,
          0.983058403923317,
          0.9628180039138943,
          0.4911968699982216,
          0.7516703786191536,
          0.7935716741148161,
          0.785446829755367,
          0.8472952531873514,
          0.905091621205763,
          0.923836755913699,
          0.9535710852638662,
          0.9667957941339236,
          0.9588100686498856,
          0.539815590947192,
          0.8260105448154658,
          0.8171091445427728,
          0.8173486088379706,
          0.8444444444444444,
          0.9107674003569304,
          0.929329794293298,
          0.9535614525139665,
          0.9634670487106017,
          0.9567567567567568,
          0.5603305785123966,
          0.8220640569395018,
          0.7671043538355218,
          0.8624420401854714,
          0.8821233411397346,
          0.910850439882698,
          0.9417956656346749,
          0.9682642487046632,
          0.9673659673659674,
          0.9707112970711297,
          0.6200578592092575,
          0.8533333333333334,
          0.8557068741893644,
          0.865296803652968,
          0.8894632206759443,
          0.9317073170731708,
          0.9497422680412371,
          0.9778917013777635,
          0.9797257006559332,
          0.9693593314763231,
          0.5998980632008155,
          0.8514531754574811,
          0.8625235404896422,
          0.8845373376623377,
          0.9114873553364766,
          0.9378353376503238,
          0.9595687331536388,
          0.9727626459143969,
          0.9721401435204727,
          0.9620493358633776,
          0.5267958950969214,
          0.7869565217391304,
          0.8104886769964244,
          0.8118437631247375,
          0.8514369215781783,
          0.9129615674453655,
          0.9402501157943493,
          0.9669223394055608,
          0.9743842364532019,
          0.9739130434782609,
          0.5804935370152762,
          0.8282910874897792,
          0.8599505960691655,
          0.8452523319779957,
          0.8817572830658981,
          0.9221840068787618,
          0.9426298866136402,
          0.9693645990922845,
          0.9732796486090776,
          0.9676923076923077,
          0.5761904761904761,
          0.782608695652174,
          0.8575581395348837,
          0.8583333333333333,
          0.8884615384615384,
          0.9230769230769231,
          0.9544658493870403,
          0.9605367008681925,
          0.972972972972973,
          0.9745762711864406,
          0.6107142857142858,
          0.8382352941176471,
          0.84,
          0.846441947565543,
          0.8694029850746269,
          0.9154849688031764,
          0.929471032745592,
          0.980528511821975,
          0.9762202753441802,
          0.985,
          0.5707287201469687,
          0.8309859154929577,
          0.7957923622227304,
          0.8220457730032695,
          0.8821968691960732,
          0.911595591758505,
          0.9267977237454733,
          0.9629084486311451,
          0.9681020733652312,
          0.9617834394904459
         ]
        },
        {
         "boxpoints": "all",
         "jitter": 0.5,
         "name": "Andel minst 2 doser",
         "showlegend": true,
         "type": "box",
         "y": [
          0.5709958349110186,
          0.8414959928762245,
          0.7827260458839406,
          0.8226672171758876,
          0.8948667324777887,
          0.9146671477539239,
          0.9417161359956827,
          0.9744897959183674,
          0.9871011541072641,
          0.9696048632218845,
          0.5297180043383948,
          0.7537840565085772,
          0.7434445143696246,
          0.8123425692695214,
          0.87279843444227,
          0.9019834392451377,
          0.9307415036045315,
          0.9602005640864932,
          0.9658444022770398,
          0.9782608695652174,
          0.5161764705882353,
          0.7231638418079096,
          0.8108298171589311,
          0.8142123287671232,
          0.8957609451007644,
          0.9264091858037579,
          0.9294980259447264,
          0.9691501746216531,
          0.9808673469387755,
          0.953757225433526,
          0.542,
          0.7712833545108005,
          0.7835560720511331,
          0.8172443425952449,
          0.8694915254237288,
          0.8999239929060046,
          0.9314586994727593,
          0.9659606656580938,
          0.9746478873239437,
          0.971830985915493,
          0.5249343832020997,
          0.7635869565217391,
          0.8106734434561627,
          0.8239316239316239,
          0.8704430734716769,
          0.9191643960036331,
          0.9713292788879235,
          0.9823455233291298,
          0.9790209790209791,
          0.966824644549763,
          0.5487421383647799,
          0.7546583850931677,
          0.8039718129404229,
          0.7736233854520734,
          0.8508390304536979,
          0.8976897689768977,
          0.9322175732217574,
          0.9470810583788324,
          0.9640221402214022,
          0.957345971563981,
          0.5828220858895705,
          0.781021897810219,
          0.7904869762174406,
          0.7784290738569754,
          0.8518518518518519,
          0.9158805031446541,
          0.9598912304554724,
          0.9778840406455469,
          0.9825949367088608,
          0.9760479041916168,
          0.5435244161358811,
          0.7391304347826086,
          0.7435897435897436,
          0.8014981273408239,
          0.8314703353396389,
          0.8896198830409356,
          0.9268833087149188,
          0.9637223974763407,
          0.9606299212598425,
          0.9230769230769231,
          0.46996466431095407,
          0.71875,
          0.8082595870206489,
          0.8172119487908962,
          0.8734363502575423,
          0.8993563487419544,
          0.9427679500520292,
          0.9621957534955982,
          0.9606396063960639,
          0.9853658536585366,
          0.44651162790697674,
          0.7543859649122807,
          0.7685009487666035,
          0.8055045871559633,
          0.7947269303201506,
          0.8658940397350994,
          0.9054290718038529,
          0.9493293591654247,
          1,
          1,
          0.5620915032679739,
          0.8066666666666666,
          0.7786666666666666,
          0.7776298268974701,
          0.8396501457725948,
          0.8808463251670379,
          0.9186813186813186,
          0.9375750300120048,
          0.975609756097561,
          0.9479166666666666,
          0.47138810198300285,
          0.7079953650057937,
          0.7307881773399014,
          0.7815290786321063,
          0.8474765520321572,
          0.8937666747513946,
          0.9210709318497914,
          0.9630146545708305,
          0.9644444444444444,
          0.9803921568627451,
          0.5558834378458134,
          0.7964939024390244,
          0.7678494158372998,
          0.85030720536213,
          0.8894480264192484,
          0.9173841059602649,
          0.9403623553095118,
          0.9705485004052958,
          0.9813131313131314,
          0.9775561097256857,
          0.48881789137380194,
          0.7261146496815286,
          0.7796052631578947,
          0.8172434729811779,
          0.8653314917127072,
          0.8981657179000633,
          0.920704845814978,
          0.9549407114624506,
          0.9500891265597148,
          0.9285714285714286,
          0.503731343283582,
          0.7538461538461538,
          0.8044315992292871,
          0.8164094232331438,
          0.8544453186467349,
          0.9031781226903178,
          0.9365234375,
          0.9663461538461539,
          0.9803063457330415,
          0.9302325581395349,
          0.5571955719557196,
          0.8015873015873016,
          0.8078740157480315,
          0.8194233687405159,
          0.8670886075949367,
          0.900373599003736,
          0.9505851755526658,
          0.9583892617449664,
          0.9762611275964391,
          0.9782608695652174,
          0.5033783783783784,
          0.7904761904761904,
          0.7621440536013401,
          0.7722473604826546,
          0.8603531300160514,
          0.8709677419354839,
          0.9122807017543859,
          0.9440832249674902,
          0.9757575757575757,
          0.8941176470588236,
          0.5992779783393501,
          0.8211920529801324,
          0.8402515723270441,
          0.8193384223918575,
          0.8811748998664887,
          0.911036036036036,
          0.9592298980747452,
          0.962432915921288,
          0.971252566735113,
          0.9693877551020408,
          0.4696969696969697,
          0.6666666666666666,
          0.6929133858267716,
          0.7563025210084033,
          0.8179871520342612,
          0.8922872340425532,
          0.9181494661921709,
          0.9356376638855781,
          0.9424657534246575,
          0.9425287356321839,
          0.5069686411149826,
          0.7323943661971831,
          0.7308533916849015,
          0.764954257565095,
          0.8367198838896952,
          0.9006703229737965,
          0.926946933149552,
          0.9534726904922455,
          0.9604863221884499,
          0.9661016949152542,
          0.5087719298245614,
          0.7025641025641025,
          0.7521448999046711,
          0.7949790794979079,
          0.8433734939759037,
          0.9076682316118936,
          0.9027027027027027,
          0.9640084685956246,
          0.9524539877300614,
          0.9685863874345549,
          0.4431554524361949,
          0.5595238095238095,
          0.7225274725274725,
          0.7561669829222012,
          0.828819068255688,
          0.8767932489451477,
          0.9166004765687054,
          0.9455676516329704,
          0.955249569707401,
          0.9503105590062112,
          0.391304347826087,
          0.5876288659793815,
          0.6419612314709237,
          0.7144203581526861,
          0.7699884125144844,
          0.8581780538302277,
          0.9103244837758112,
          0.9535045107564192,
          0.9624183006535948,
          0.924812030075188,
          0.42597541421699625,
          0.6841491841491841,
          0.7357440890125174,
          0.7583333333333333,
          0.8342676090665366,
          0.8771416631842875,
          0.9173163241200094,
          0.9525873056334438,
          0.9644396551724138,
          0.9685393258426966,
          0.43856332703213613,
          0.6652173913043479,
          0.7256711409395973,
          0.706605222734255,
          0.7998251748251748,
          0.8891838088918381,
          0.9086366880799429,
          0.9491039426523298,
          0.9656301145662848,
          0.9576271186440678,
          0.5280373831775701,
          0.7185929648241206,
          0.7558139534883721,
          0.7850719424460432,
          0.851063829787234,
          0.8911353032659409,
          0.895,
          0.9522998296422487,
          0.9628252788104089,
          0.9576271186440678,
          0.5302631578947369,
          0.7931034482758621,
          0.7804272230501739,
          0.7636932707355243,
          0.8280254777070064,
          0.8923499770957398,
          0.9373493975903614,
          0.9587912087912088,
          0.9644779332615716,
          0.9896907216494846,
          0.5703592814371258,
          0.7808219178082192,
          0.760593220338983,
          0.8286290322580645,
          0.8672566371681416,
          0.924487594390507,
          0.9403644395361679,
          0.9662857142857143,
          0.9640564826700898,
          0.9477124183006536,
          0.5257142857142857,
          0.7442748091603053,
          0.7382501807664498,
          0.7683182135380321,
          0.80623973727422,
          0.8867549668874172,
          0.9147344801795063,
          0.9580152671755725,
          0.9725651577503429,
          0.9512195121951219,
          0.4843373493975904,
          0.624390243902439,
          0.764813126709207,
          0.7794117647058824,
          0.8277608915906788,
          0.8745847176079734,
          0.9251134644478064,
          0.9512987012987013,
          0.9575289575289575,
          0.9765625,
          0.4255168340224454,
          0.6235530951182687,
          0.7621475413026134,
          0.7484112868336298,
          0.7990074116753529,
          0.8595511279386148,
          0.8978391464180041,
          0.9338872832369942,
          0.9456750526210284,
          0.9426356589147287,
          0.5531394400652351,
          0.7956547269524369,
          0.8317485737163447,
          0.8184070471646173,
          0.8796587793236519,
          0.9124183006535947,
          0.9317697228144989,
          0.9556528359345261,
          0.965464313123561,
          0.9523052464228935,
          0.5208,
          0.7437661220980224,
          0.7818005495393567,
          0.8272590361445783,
          0.879173021521776,
          0.903685727286516,
          0.9411877394636016,
          0.9580160974548618,
          0.9658222758343386,
          0.9725085910652921,
          0.6029173419773096,
          0.8131487889273357,
          0.7832409972299169,
          0.7915512465373962,
          0.8770718232044199,
          0.9216090768437338,
          0.9401589527816737,
          0.9672055427251732,
          0.9803729146221786,
          0.96484375,
          0.509142053445851,
          0.7725520431765613,
          0.7871216999356085,
          0.8149946062567421,
          0.8783125190374658,
          0.9099184782608696,
          0.9401605817300409,
          0.965365682137834,
          0.9739073711676451,
          0.9718120805369127,
          0.3607085346215781,
          0.6752767527675276,
          0.7083333333333334,
          0.7628169014084507,
          0.8238095238095238,
          0.8779035139964264,
          0.9178960872354073,
          0.9731147540983607,
          0.98,
          0.9828571428571429,
          0.5045778229908443,
          0.7320872274143302,
          0.7618397973104658,
          0.807389460932768,
          0.8665439484583525,
          0.9156355455568054,
          0.9437378745419271,
          0.9662611888914391,
          0.975377969762419,
          0.9554140127388535,
          0.45368492224476,
          0.6612133605998637,
          0.7521246458923513,
          0.7685104257710076,
          0.8468776732249786,
          0.9077847439916406,
          0.9225732525781634,
          0.9442912300055157,
          0.957577955039884,
          0.96,
          0.5561694290976059,
          0.7917833800186741,
          0.7977790765634132,
          0.8245227606461086,
          0.8886301901435778,
          0.9134409647928419,
          0.9376899696048632,
          0.9732881068475726,
          0.9799375835934017,
          0.9628180039138943,
          0.4625644673661746,
          0.700445434298441,
          0.7520912111836828,
          0.7604218671992012,
          0.83051213714615,
          0.8959295006294586,
          0.9178580712243306,
          0.9493415360953571,
          0.9638443091680502,
          0.958047292143402,
          0.5046102263202011,
          0.7820738137082601,
          0.789249426417568,
          0.7944353518821604,
          0.8315972222222222,
          0.901249256395003,
          0.9213669542136695,
          0.9483240223463687,
          0.9627507163323782,
          0.9459459459459459,
          0.5173553719008265,
          0.7722419928825622,
          0.7221838286109191,
          0.839258114374034,
          0.8657298985167837,
          0.9020527859237537,
          0.9380804953560371,
          0.9630829015544041,
          0.9662004662004662,
          0.9707112970711297,
          0.5679845708775313,
          0.8114285714285714,
          0.8190661478599222,
          0.8454011741682974,
          0.8775347912524851,
          0.9225609756097561,
          0.9445876288659794,
          0.974687600128164,
          0.9785330948121646,
          0.9693593314763231,
          0.5754332313965341,
          0.8191603875134553,
          0.8387947269303202,
          0.8656655844155844,
          0.9007715387912559,
          0.9333950046253469,
          0.9552145967240306,
          0.9699524427150886,
          0.970873786407767,
          0.9620493358633776,
          0.4846066134549601,
          0.7456521739130435,
          0.7723480333730631,
          0.7837043259134817,
          0.8387725280077934,
          0.9035418236623964,
          0.9379342288096341,
          0.9645254074784276,
          0.9733990147783251,
          0.9739130434782609,
          0.5421073247160204,
          0.7898609975470156,
          0.8262270432821394,
          0.8255202104759627,
          0.8694500701043776,
          0.9140154772141015,
          0.9377221188018278,
          0.9659606656580938,
          0.972181551976574,
          0.9676923076923077,
          0.5428571428571428,
          0.7391304347826086,
          0.8323643410852714,
          0.8277777777777777,
          0.8711538461538462,
          0.91232423490488,
          0.9518388791593695,
          0.9589581689029203,
          0.972972972972973,
          0.9745762711864406,
          0.5767857142857142,
          0.7867647058823529,
          0.804375,
          0.8264669163545568,
          0.8582089552238806,
          0.9058423142370958,
          0.9250629722921915,
          0.9777468706536857,
          0.9749687108886108,
          0.985,
          0.5407225964482547,
          0.7946009389671361,
          0.7601189115024011,
          0.8021952358710883,
          0.8684001061289467,
          0.9048873981792046,
          0.9187790998448008,
          0.960847806888431,
          0.9649122807017544,
          0.9575371549893843
         ]
        },
        {
         "boxpoints": "all",
         "jitter": 0.5,
         "name": "Andel 3 doser",
         "showlegend": true,
         "type": "box",
         "y": [
          0,
          0,
          0.36369770580296895,
          0.4746077621800165,
          0.6592629154327081,
          0.7719646400865957,
          0.8580679978413384,
          0.9464285714285714,
          0.9762389680923286,
          0.9483282674772037,
          0,
          0,
          0.3408852527795259,
          0.47804965815041384,
          0.62693470912649,
          0.7396495282110533,
          0.8509268795056643,
          0.9169539329363836,
          0.948134092346616,
          0.9516908212560387,
          0,
          0,
          0.36849507735583686,
          0.4272260273972603,
          0.6421125781792911,
          0.7635699373695198,
          0.8584320360970107,
          0.9476135040745053,
          0.9681122448979592,
          0.9248554913294798,
          0,
          0,
          0.3253922138291691,
          0.4385562875966772,
          0.6064971751412429,
          0.7539903724347605,
          0.8579964850615114,
          0.9372163388804842,
          0.9471830985915493,
          0.9330985915492958,
          0,
          0,
          0.3678526048284625,
          0.42905982905982903,
          0.5900168255748738,
          0.7688465031789282,
          0.9135534317984362,
          0.9604875998318622,
          0.968031968031968,
          0.9620853080568721,
          0,
          0,
          0.34080717488789236,
          0.37049626104690686,
          0.5730267246737104,
          0.7425742574257426,
          0.8635983263598327,
          0.9248215035699286,
          0.948339483394834,
          0.9478672985781991,
          0,
          0,
          0.36579841449603623,
          0.4220398593200469,
          0.6069958847736625,
          0.7908805031446541,
          0.9055064581917063,
          0.9557680812910938,
          0.9683544303797469,
          0.9640718562874252,
          0,
          0,
          0.2932692307692308,
          0.40823970037453183,
          0.5640584694754944,
          0.7288011695906432,
          0.8375184638109305,
          0.9282334384858044,
          0.9401574803149606,
          0.9166666666666666,
          0,
          0,
          0.36283185840707965,
          0.4800853485064011,
          0.609271523178808,
          0.7677004095962551,
          0.8720083246618107,
          0.9357845675815639,
          0.95079950799508,
          0.9463414634146341,
          0,
          0,
          0.34535104364326374,
          0.45504587155963305,
          0.4952919020715631,
          0.6870860927152318,
          0.8108581436077058,
          0.9090909090909091,
          0.9794117647058823,
          1,
          0,
          0,
          0.32666666666666666,
          0.3968042609853529,
          0.5670553935860059,
          0.7394209354120267,
          0.8494505494505494,
          0.8931572629051621,
          0.9701897018970189,
          0.9479166666666666,
          0,
          0,
          0.2970443349753695,
          0.4036157699847528,
          0.5652076820008932,
          0.7087072520009702,
          0.8271905424200278,
          0.9354501046755059,
          0.9474074074074074,
          0.9411764705882353,
          0,
          0,
          0.34314149718736475,
          0.4844535468255446,
          0.6400377417832993,
          0.7596026490066226,
          0.856064418721691,
          0.9470413401783302,
          0.9651515151515152,
          0.9625935162094763,
          0,
          0,
          0.33092105263157895,
          0.41530054644808745,
          0.5732044198895028,
          0.7172675521821632,
          0.8215859030837004,
          0.9201581027667984,
          0.9233511586452763,
          0.9047619047619048,
          0,
          0,
          0.3159922928709056,
          0.41429731925264013,
          0.5712037765538945,
          0.7376201034737621,
          0.8515625,
          0.9365384615384615,
          0.9649890590809628,
          0.9186046511627907,
          0,
          0,
          0.33858267716535434,
          0.4597875569044006,
          0.6392405063291139,
          0.7733499377334994,
          0.8777633289986996,
          0.9409395973154362,
          0.9614243323442137,
          0.967391304347826,
          0,
          0,
          0.3249581239530988,
          0.40874811463046756,
          0.5778491171749599,
          0.743225806451613,
          0.8461538461538461,
          0.9154746423927178,
          0.9333333333333333,
          0.8588235294117647,
          0,
          0,
          0.4591194968553459,
          0.539440203562341,
          0.6969292389853138,
          0.8322072072072072,
          0.9082672706681767,
          0.9364937388193202,
          0.9527720739219713,
          0.9489795918367347,
          0,
          0,
          0.2854330708661417,
          0.42857142857142855,
          0.5246252676659529,
          0.7154255319148937,
          0.8351126927639383,
          0.8879618593563766,
          0.9095890410958904,
          0.9080459770114943,
          0,
          0,
          0.30926331145149527,
          0.39971850809289233,
          0.5551523947750363,
          0.7647775746496039,
          0.8483804272915231,
          0.921105866486851,
          0.9452887537993921,
          0.943502824858757,
          0,
          0,
          0.32221163012392756,
          0.45083682008368203,
          0.5859802847754655,
          0.7715179968701096,
          0.8223938223938224,
          0.9174311926605505,
          0.9340490797546013,
          0.9633507853403142,
          0,
          0,
          0.29945054945054944,
          0.3795066413662239,
          0.5579631635969664,
          0.7265822784810126,
          0.8189038919777601,
          0.8919129082426127,
          0.9363166953528399,
          0.9130434782608695,
          0,
          0,
          0.24800456100342075,
          0.3477851083883129,
          0.46581691772885286,
          0.6796066252587992,
          0.8129793510324483,
          0.9243580846634282,
          0.9379084967320261,
          0.924812030075188,
          0,
          0,
          0.28836346777932315,
          0.3590277777777778,
          0.5408237874725811,
          0.6870037609694943,
          0.8251830852823057,
          0.9074687738975274,
          0.9364224137931034,
          0.946067415730337,
          0,
          0,
          0.27348993288590606,
          0.31105990783410137,
          0.49038461538461536,
          0.7259455872594559,
          0.8187009279086367,
          0.9046594982078853,
          0.9509001636661211,
          0.9322033898305084,
          0,
          0,
          0.313953488372093,
          0.39298561151079137,
          0.5831721470019342,
          0.7511664074650077,
          0.8108333333333333,
          0.9156729131175468,
          0.9405204460966543,
          0.940677966101695,
          0,
          0,
          0.3522106308991555,
          0.42305685967657797,
          0.5774946921443737,
          0.7420980302336234,
          0.8833734939759036,
          0.9291208791208792,
          0.9526372443487621,
          0.9742268041237113,
          0,
          0,
          0.3121468926553672,
          0.46774193548387094,
          0.6133424098025868,
          0.7912621359223301,
          0.8845941468801767,
          0.9371428571428572,
          0.9486521181001284,
          0.9215686274509803,
          0,
          0,
          0.3029645697758496,
          0.40683879972086534,
          0.5566502463054187,
          0.7125827814569536,
          0.8339566192969334,
          0.9221374045801527,
          0.9615912208504801,
          0.926829268292683,
          0,
          0,
          0.30355515041020964,
          0.4362745098039216,
          0.5602836879432624,
          0.7375415282392026,
          0.848714069591528,
          0.9172077922077922,
          0.9498069498069498,
          0.9765625,
          0,
          0,
          0.37519702660102355,
          0.4156323607172043,
          0.5087342534635833,
          0.6599484617710147,
          0.77998744732359,
          0.8845736994219653,
          0.9125989776485918,
          0.9114341085271318,
          0,
          0,
          0.42518266439795815,
          0.4949532024224628,
          0.6409058596526861,
          0.7664488017429194,
          0.8461772768809016,
          0.9225352112676056,
          0.9485801995395242,
          0.9268680445151033,
          0,
          0,
          0.32083400678842733,
          0.4307228915662651,
          0.6075241484494154,
          0.7548915516456848,
          0.8584291187739463,
          0.9303893843811181,
          0.9477281865701649,
          0.9467353951890034,
          0,
          0,
          0.37880886426592797,
          0.4515235457063712,
          0.6588397790055248,
          0.8055698813821558,
          0.8877980364656382,
          0.9441108545034642,
          0.9607458292443573,
          0.9375,
          0,
          0,
          0.32144236960721184,
          0.41073354908306364,
          0.579957356076759,
          0.7493206521739131,
          0.8597182245114376,
          0.9335443037974683,
          0.9602087410306588,
          0.9530201342281879,
          0,
          0,
          0.2653846153846154,
          0.3515492957746479,
          0.493452380952381,
          0.699225729600953,
          0.844772289929442,
          0.9436065573770491,
          0.97,
          0.9771428571428571,
          0,
          0,
          0.3375560319625804,
          0.4433676559660812,
          0.5922687528762081,
          0.7802774653168354,
          0.8762664367320543,
          0.9396373651595135,
          0.9593952483801296,
          0.9469214437367304,
          0,
          0,
          0.33504031379385485,
          0.40679235859657886,
          0.567579127459367,
          0.7536572622779519,
          0.8402357177934195,
          0.9016363302077588,
          0.9343727338651197,
          0.9384615384615385,
          0,
          0,
          0.3561270212351451,
          0.4462187958883994,
          0.6286379511059371,
          0.7512157167866174,
          0.8682153712548849,
          0.9457282170871316,
          0.9683459652251449,
          0.9530332681017613,
          0,
          0,
          0.3131087429815515,
          0.37524962556165753,
          0.5341784916804725,
          0.7177926982794797,
          0.8221124685902435,
          0.907622801115063,
          0.9311935067330751,
          0.9244851258581236,
          0,
          0,
          0.3661094723041626,
          0.44058919803600655,
          0.578125,
          0.7620464009518144,
          0.847378898473789,
          0.9221368715083799,
          0.9426934097421203,
          0.9297297297297298,
          0,
          0,
          0.32411886662059436,
          0.4706336939721793,
          0.580015612802498,
          0.7642228739002933,
          0.874922600619195,
          0.9352331606217616,
          0.9335664335664335,
          0.9414225941422594,
          0,
          0,
          0.38229571984435795,
          0.4983692106979778,
          0.6453280318091451,
          0.7942073170731707,
          0.8817654639175257,
          0.9452098686318487,
          0.9683959451401312,
          0.9498607242339833,
          0,
          0,
          0.416195856873823,
          0.5298295454545454,
          0.6712387483926275,
          0.8062904717853839,
          0.8944640265394982,
          0.9457414613056636,
          0.9590544533558464,
          0.9468690702087287,
          0,
          0,
          0.3134684147794994,
          0.4157916841663167,
          0.565026790063322,
          0.7434061793519217,
          0.8628994905048634,
          0.9324065196548418,
          0.9655172413793104,
          0.9521739130434783,
          0,
          0,
          0.4240146063795511,
          0.5075340827553217,
          0.6479202367970088,
          0.7831756950415592,
          0.8627517346420714,
          0.9273827534039334,
          0.9542459736456809,
          0.943076923076923,
          0,
          0,
          0.3701550387596899,
          0.487962962962963,
          0.6413461538461539,
          0.7832919768403639,
          0.8791593695271454,
          0.9250197316495659,
          0.9493243243243243,
          0.9745762711864406,
          0,
          0,
          0.375625,
          0.45942571785268416,
          0.6298507462686567,
          0.766874645490641,
          0.8545340050377834,
          0.9464534075104312,
          0.9561952440550688,
          0.96,
          0,
          0,
          0.3315801509261377,
          0.4028491359177954,
          0.5935261342531175,
          0.7494010541447054,
          0.83445421624418,
          0.9267000294377392,
          0.9457735247208932,
          0.9447983014861996
         ]
        },
        {
         "boxpoints": "all",
         "jitter": 0.5,
         "name": "Andel 4 doser",
         "showlegend": true,
         "type": "box",
         "y": [
          0,
          0,
          0,
          0,
          0,
          0,
          0,
          0.8204719387755102,
          0.90020366598778,
          0.8541033434650456,
          0,
          0,
          0,
          0,
          0,
          0,
          0,
          0.784393607019743,
          0.8798228969006958,
          0.8888888888888888,
          0,
          0,
          0,
          0,
          0,
          0,
          0,
          0.8172293364377182,
          0.889030612244898,
          0.8034682080924855,
          0,
          0,
          0,
          0,
          0,
          0,
          0,
          0.823373676248109,
          0.8725352112676056,
          0.8169014084507042,
          0,
          0,
          0,
          0,
          0,
          0,
          0,
          0.8406893652795292,
          0.926073926073926,
          0.9241706161137441,
          0,
          0,
          0,
          0,
          0,
          0,
          0,
          0.7887442251154977,
          0.9095940959409594,
          0.8862559241706162,
          0,
          0,
          0,
          0,
          0,
          0,
          0,
          0.826658696951584,
          0.9414556962025317,
          0.9041916167664671,
          0,
          0,
          0,
          0,
          0,
          0,
          0,
          0.748422712933754,
          0.8881889763779528,
          0.8846153846153846,
          0,
          0,
          0,
          0,
          0,
          0,
          0,
          0.7762817193164163,
          0.9077490774907749,
          0.9073170731707317,
          0,
          0,
          0,
          0,
          0,
          0,
          0,
          0.7317436661698957,
          0.9676470588235294,
          0.9850746268656716,
          0,
          0,
          0,
          0,
          0,
          0,
          0,
          0.7298919567827131,
          0.924119241192412,
          0.875,
          0,
          0,
          0,
          0,
          0,
          0,
          0,
          0.770062805303559,
          0.8629629629629629,
          0.8480392156862745,
          0,
          0,
          0,
          0,
          0,
          0,
          0,
          0.810591731964334,
          0.9116161616161617,
          0.9052369077306733,
          0,
          0,
          0,
          0,
          0,
          0,
          0,
          0.6980237154150197,
          0.82174688057041,
          0.8095238095238095,
          0,
          0,
          0,
          0,
          0,
          0,
          0,
          0.7951923076923076,
          0.9015317286652079,
          0.8488372093023255,
          0,
          0,
          0,
          0,
          0,
          0,
          0,
          0.8268456375838926,
          0.9198813056379822,
          0.9347826086956522,
          0,
          0,
          0,
          0,
          0,
          0,
          0,
          0.7672301690507152,
          0.8818181818181818,
          0.8,
          0,
          0,
          0,
          0,
          0,
          0,
          0,
          0.830948121645796,
          0.8706365503080082,
          0.8979591836734694,
          0,
          0,
          0,
          0,
          0,
          0,
          0,
          0.6960667461263409,
          0.7890410958904109,
          0.632183908045977,
          0,
          0,
          0,
          0,
          0,
          0,
          0,
          0.8010788941335132,
          0.8647416413373861,
          0.847457627118644,
          0,
          0,
          0,
          0,
          0,
          0,
          0,
          0.7452364149611856,
          0.8803680981595092,
          0.9267015706806283,
          0,
          0,
          0,
          0,
          0,
          0,
          0,
          0.7293934681181959,
          0.8433734939759037,
          0.8260869565217391,
          0,
          0,
          0,
          0,
          0,
          0,
          0,
          0.7668285912560722,
          0.8464052287581699,
          0.8872180451127819,
          0,
          0,
          0,
          0,
          0,
          0,
          0,
          0.7481519245475401,
          0.8157327586206896,
          0.849438202247191,
          0,
          0,
          0,
          0,
          0,
          0,
          0,
          0.7455197132616488,
          0.8297872340425532,
          0.8220338983050848,
          0,
          0,
          0,
          0,
          0,
          0,
          0,
          0.7589437819420783,
          0.8568773234200744,
          0.788135593220339,
          0,
          0,
          0,
          0,
          0,
          0,
          0,
          0.7774725274725275,
          0.8998923573735199,
          0.9484536082474226,
          0,
          0,
          0,
          0,
          0,
          0,
          0,
          0.7948571428571428,
          0.9037227214377407,
          0.9019607843137255,
          0,
          0,
          0,
          0,
          0,
          0,
          0,
          0.7786259541984732,
          0.8998628257887518,
          0.8475609756097561,
          0,
          0,
          0,
          0,
          0,
          0,
          0,
          0.7573051948051948,
          0.9092664092664092,
          0.90625,
          0,
          0,
          0,
          0,
          0,
          0,
          0,
          0.7146631141618497,
          0.8066051919414654,
          0.7976744186046512,
          0,
          0,
          0,
          0,
          0,
          0,
          0,
          0.7740768937952036,
          0.86415963161934,
          0.8394276629570747,
          0,
          0,
          0,
          0,
          0,
          0,
          0,
          0.8090058733956929,
          0.8765581021310817,
          0.8505154639175257,
          0,
          0,
          0,
          0,
          0,
          0,
          0,
          0.8295612009237875,
          0.8910696761530913,
          0.87890625,
          0,
          0,
          0,
          0,
          0,
          0,
          0,
          0.7946554149085795,
          0.9041095890410958,
          0.9114093959731544,
          0,
          0,
          0,
          0,
          0,
          0,
          0,
          0.759344262295082,
          0.92,
          0.9257142857142857,
          0,
          0,
          0,
          0,
          0,
          0,
          0,
          0.8191416112003672,
          0.8980561555075594,
          0.9023354564755839,
          0,
          0,
          0,
          0,
          0,
          0,
          0,
          0.7609854752711895,
          0.8350253807106599,
          0.8523076923076923,
          0,
          0,
          0,
          0,
          0,
          0,
          0,
          0.8140767436930252,
          0.9077128845296478,
          0.913894324853229,
          0,
          0,
          0,
          0,
          0,
          0,
          0,
          0.7633374987984235,
          0.8225419664268585,
          0.820747520976354,
          0,
          0,
          0,
          0,
          0,
          0,
          0,
          0.7744413407821229,
          0.8252148997134671,
          0.8027027027027027,
          0,
          0,
          0,
          0,
          0,
          0,
          0,
          0.7979274611398963,
          0.8624708624708625,
          0.9037656903765691,
          0,
          0,
          0,
          0,
          0,
          0,
          0,
          0.8289009932713873,
          0.9350029815146095,
          0.8913649025069638,
          0,
          0,
          0,
          0,
          0,
          0,
          0,
          0.8313878080415046,
          0.9223300970873787,
          0.9108159392789373,
          0,
          0,
          0,
          0,
          0,
          0,
          0,
          0.7794822627037392,
          0.9379310344827586,
          0.9130434782608695,
          0,
          0,
          0,
          0,
          0,
          0,
          0,
          0.7853630862329803,
          0.8993411420204978,
          0.8953846153846153,
          0,
          0,
          0,
          0,
          0,
          0,
          0,
          0.7845303867403315,
          0.9037162162162162,
          0.8813559322033898,
          0,
          0,
          0,
          0,
          0,
          0,
          0,
          0.778164116828929,
          0.8836045056320401,
          0.9,
          0,
          0,
          0,
          0,
          0,
          0,
          0,
          0.7674418604651163,
          0.8771929824561403,
          0.8832271762208068
         ]
        }
       ],
       "layout": {
        "template": {
         "data": {
          "bar": [
           {
            "error_x": {
             "color": "#2a3f5f"
            },
            "error_y": {
             "color": "#2a3f5f"
            },
            "marker": {
             "line": {
              "color": "#E5ECF6",
              "width": 0.5
             },
             "pattern": {
              "fillmode": "overlay",
              "size": 10,
              "solidity": 0.2
             }
            },
            "type": "bar"
           }
          ],
          "barpolar": [
           {
            "marker": {
             "line": {
              "color": "#E5ECF6",
              "width": 0.5
             },
             "pattern": {
              "fillmode": "overlay",
              "size": 10,
              "solidity": 0.2
             }
            },
            "type": "barpolar"
           }
          ],
          "carpet": [
           {
            "aaxis": {
             "endlinecolor": "#2a3f5f",
             "gridcolor": "white",
             "linecolor": "white",
             "minorgridcolor": "white",
             "startlinecolor": "#2a3f5f"
            },
            "baxis": {
             "endlinecolor": "#2a3f5f",
             "gridcolor": "white",
             "linecolor": "white",
             "minorgridcolor": "white",
             "startlinecolor": "#2a3f5f"
            },
            "type": "carpet"
           }
          ],
          "choropleth": [
           {
            "colorbar": {
             "outlinewidth": 0,
             "ticks": ""
            },
            "type": "choropleth"
           }
          ],
          "contour": [
           {
            "colorbar": {
             "outlinewidth": 0,
             "ticks": ""
            },
            "colorscale": [
             [
              0,
              "#0d0887"
             ],
             [
              0.1111111111111111,
              "#46039f"
             ],
             [
              0.2222222222222222,
              "#7201a8"
             ],
             [
              0.3333333333333333,
              "#9c179e"
             ],
             [
              0.4444444444444444,
              "#bd3786"
             ],
             [
              0.5555555555555556,
              "#d8576b"
             ],
             [
              0.6666666666666666,
              "#ed7953"
             ],
             [
              0.7777777777777778,
              "#fb9f3a"
             ],
             [
              0.8888888888888888,
              "#fdca26"
             ],
             [
              1,
              "#f0f921"
             ]
            ],
            "type": "contour"
           }
          ],
          "contourcarpet": [
           {
            "colorbar": {
             "outlinewidth": 0,
             "ticks": ""
            },
            "type": "contourcarpet"
           }
          ],
          "heatmap": [
           {
            "colorbar": {
             "outlinewidth": 0,
             "ticks": ""
            },
            "colorscale": [
             [
              0,
              "#0d0887"
             ],
             [
              0.1111111111111111,
              "#46039f"
             ],
             [
              0.2222222222222222,
              "#7201a8"
             ],
             [
              0.3333333333333333,
              "#9c179e"
             ],
             [
              0.4444444444444444,
              "#bd3786"
             ],
             [
              0.5555555555555556,
              "#d8576b"
             ],
             [
              0.6666666666666666,
              "#ed7953"
             ],
             [
              0.7777777777777778,
              "#fb9f3a"
             ],
             [
              0.8888888888888888,
              "#fdca26"
             ],
             [
              1,
              "#f0f921"
             ]
            ],
            "type": "heatmap"
           }
          ],
          "heatmapgl": [
           {
            "colorbar": {
             "outlinewidth": 0,
             "ticks": ""
            },
            "colorscale": [
             [
              0,
              "#0d0887"
             ],
             [
              0.1111111111111111,
              "#46039f"
             ],
             [
              0.2222222222222222,
              "#7201a8"
             ],
             [
              0.3333333333333333,
              "#9c179e"
             ],
             [
              0.4444444444444444,
              "#bd3786"
             ],
             [
              0.5555555555555556,
              "#d8576b"
             ],
             [
              0.6666666666666666,
              "#ed7953"
             ],
             [
              0.7777777777777778,
              "#fb9f3a"
             ],
             [
              0.8888888888888888,
              "#fdca26"
             ],
             [
              1,
              "#f0f921"
             ]
            ],
            "type": "heatmapgl"
           }
          ],
          "histogram": [
           {
            "marker": {
             "pattern": {
              "fillmode": "overlay",
              "size": 10,
              "solidity": 0.2
             }
            },
            "type": "histogram"
           }
          ],
          "histogram2d": [
           {
            "colorbar": {
             "outlinewidth": 0,
             "ticks": ""
            },
            "colorscale": [
             [
              0,
              "#0d0887"
             ],
             [
              0.1111111111111111,
              "#46039f"
             ],
             [
              0.2222222222222222,
              "#7201a8"
             ],
             [
              0.3333333333333333,
              "#9c179e"
             ],
             [
              0.4444444444444444,
              "#bd3786"
             ],
             [
              0.5555555555555556,
              "#d8576b"
             ],
             [
              0.6666666666666666,
              "#ed7953"
             ],
             [
              0.7777777777777778,
              "#fb9f3a"
             ],
             [
              0.8888888888888888,
              "#fdca26"
             ],
             [
              1,
              "#f0f921"
             ]
            ],
            "type": "histogram2d"
           }
          ],
          "histogram2dcontour": [
           {
            "colorbar": {
             "outlinewidth": 0,
             "ticks": ""
            },
            "colorscale": [
             [
              0,
              "#0d0887"
             ],
             [
              0.1111111111111111,
              "#46039f"
             ],
             [
              0.2222222222222222,
              "#7201a8"
             ],
             [
              0.3333333333333333,
              "#9c179e"
             ],
             [
              0.4444444444444444,
              "#bd3786"
             ],
             [
              0.5555555555555556,
              "#d8576b"
             ],
             [
              0.6666666666666666,
              "#ed7953"
             ],
             [
              0.7777777777777778,
              "#fb9f3a"
             ],
             [
              0.8888888888888888,
              "#fdca26"
             ],
             [
              1,
              "#f0f921"
             ]
            ],
            "type": "histogram2dcontour"
           }
          ],
          "mesh3d": [
           {
            "colorbar": {
             "outlinewidth": 0,
             "ticks": ""
            },
            "type": "mesh3d"
           }
          ],
          "parcoords": [
           {
            "line": {
             "colorbar": {
              "outlinewidth": 0,
              "ticks": ""
             }
            },
            "type": "parcoords"
           }
          ],
          "pie": [
           {
            "automargin": true,
            "type": "pie"
           }
          ],
          "scatter": [
           {
            "fillpattern": {
             "fillmode": "overlay",
             "size": 10,
             "solidity": 0.2
            },
            "type": "scatter"
           }
          ],
          "scatter3d": [
           {
            "line": {
             "colorbar": {
              "outlinewidth": 0,
              "ticks": ""
             }
            },
            "marker": {
             "colorbar": {
              "outlinewidth": 0,
              "ticks": ""
             }
            },
            "type": "scatter3d"
           }
          ],
          "scattercarpet": [
           {
            "marker": {
             "colorbar": {
              "outlinewidth": 0,
              "ticks": ""
             }
            },
            "type": "scattercarpet"
           }
          ],
          "scattergeo": [
           {
            "marker": {
             "colorbar": {
              "outlinewidth": 0,
              "ticks": ""
             }
            },
            "type": "scattergeo"
           }
          ],
          "scattergl": [
           {
            "marker": {
             "colorbar": {
              "outlinewidth": 0,
              "ticks": ""
             }
            },
            "type": "scattergl"
           }
          ],
          "scattermapbox": [
           {
            "marker": {
             "colorbar": {
              "outlinewidth": 0,
              "ticks": ""
             }
            },
            "type": "scattermapbox"
           }
          ],
          "scatterpolar": [
           {
            "marker": {
             "colorbar": {
              "outlinewidth": 0,
              "ticks": ""
             }
            },
            "type": "scatterpolar"
           }
          ],
          "scatterpolargl": [
           {
            "marker": {
             "colorbar": {
              "outlinewidth": 0,
              "ticks": ""
             }
            },
            "type": "scatterpolargl"
           }
          ],
          "scatterternary": [
           {
            "marker": {
             "colorbar": {
              "outlinewidth": 0,
              "ticks": ""
             }
            },
            "type": "scatterternary"
           }
          ],
          "surface": [
           {
            "colorbar": {
             "outlinewidth": 0,
             "ticks": ""
            },
            "colorscale": [
             [
              0,
              "#0d0887"
             ],
             [
              0.1111111111111111,
              "#46039f"
             ],
             [
              0.2222222222222222,
              "#7201a8"
             ],
             [
              0.3333333333333333,
              "#9c179e"
             ],
             [
              0.4444444444444444,
              "#bd3786"
             ],
             [
              0.5555555555555556,
              "#d8576b"
             ],
             [
              0.6666666666666666,
              "#ed7953"
             ],
             [
              0.7777777777777778,
              "#fb9f3a"
             ],
             [
              0.8888888888888888,
              "#fdca26"
             ],
             [
              1,
              "#f0f921"
             ]
            ],
            "type": "surface"
           }
          ],
          "table": [
           {
            "cells": {
             "fill": {
              "color": "#EBF0F8"
             },
             "line": {
              "color": "white"
             }
            },
            "header": {
             "fill": {
              "color": "#C8D4E3"
             },
             "line": {
              "color": "white"
             }
            },
            "type": "table"
           }
          ]
         },
         "layout": {
          "annotationdefaults": {
           "arrowcolor": "#2a3f5f",
           "arrowhead": 0,
           "arrowwidth": 1
          },
          "autotypenumbers": "strict",
          "coloraxis": {
           "colorbar": {
            "outlinewidth": 0,
            "ticks": ""
           }
          },
          "colorscale": {
           "diverging": [
            [
             0,
             "#8e0152"
            ],
            [
             0.1,
             "#c51b7d"
            ],
            [
             0.2,
             "#de77ae"
            ],
            [
             0.3,
             "#f1b6da"
            ],
            [
             0.4,
             "#fde0ef"
            ],
            [
             0.5,
             "#f7f7f7"
            ],
            [
             0.6,
             "#e6f5d0"
            ],
            [
             0.7,
             "#b8e186"
            ],
            [
             0.8,
             "#7fbc41"
            ],
            [
             0.9,
             "#4d9221"
            ],
            [
             1,
             "#276419"
            ]
           ],
           "sequential": [
            [
             0,
             "#0d0887"
            ],
            [
             0.1111111111111111,
             "#46039f"
            ],
            [
             0.2222222222222222,
             "#7201a8"
            ],
            [
             0.3333333333333333,
             "#9c179e"
            ],
            [
             0.4444444444444444,
             "#bd3786"
            ],
            [
             0.5555555555555556,
             "#d8576b"
            ],
            [
             0.6666666666666666,
             "#ed7953"
            ],
            [
             0.7777777777777778,
             "#fb9f3a"
            ],
            [
             0.8888888888888888,
             "#fdca26"
            ],
            [
             1,
             "#f0f921"
            ]
           ],
           "sequentialminus": [
            [
             0,
             "#0d0887"
            ],
            [
             0.1111111111111111,
             "#46039f"
            ],
            [
             0.2222222222222222,
             "#7201a8"
            ],
            [
             0.3333333333333333,
             "#9c179e"
            ],
            [
             0.4444444444444444,
             "#bd3786"
            ],
            [
             0.5555555555555556,
             "#d8576b"
            ],
            [
             0.6666666666666666,
             "#ed7953"
            ],
            [
             0.7777777777777778,
             "#fb9f3a"
            ],
            [
             0.8888888888888888,
             "#fdca26"
            ],
            [
             1,
             "#f0f921"
            ]
           ]
          },
          "colorway": [
           "#636efa",
           "#EF553B",
           "#00cc96",
           "#ab63fa",
           "#FFA15A",
           "#19d3f3",
           "#FF6692",
           "#B6E880",
           "#FF97FF",
           "#FECB52"
          ],
          "font": {
           "color": "#2a3f5f"
          },
          "geo": {
           "bgcolor": "white",
           "lakecolor": "white",
           "landcolor": "#E5ECF6",
           "showlakes": true,
           "showland": true,
           "subunitcolor": "white"
          },
          "hoverlabel": {
           "align": "left"
          },
          "hovermode": "closest",
          "mapbox": {
           "style": "light"
          },
          "paper_bgcolor": "white",
          "plot_bgcolor": "#E5ECF6",
          "polar": {
           "angularaxis": {
            "gridcolor": "white",
            "linecolor": "white",
            "ticks": ""
           },
           "bgcolor": "#E5ECF6",
           "radialaxis": {
            "gridcolor": "white",
            "linecolor": "white",
            "ticks": ""
           }
          },
          "scene": {
           "xaxis": {
            "backgroundcolor": "#E5ECF6",
            "gridcolor": "white",
            "gridwidth": 2,
            "linecolor": "white",
            "showbackground": true,
            "ticks": "",
            "zerolinecolor": "white"
           },
           "yaxis": {
            "backgroundcolor": "#E5ECF6",
            "gridcolor": "white",
            "gridwidth": 2,
            "linecolor": "white",
            "showbackground": true,
            "ticks": "",
            "zerolinecolor": "white"
           },
           "zaxis": {
            "backgroundcolor": "#E5ECF6",
            "gridcolor": "white",
            "gridwidth": 2,
            "linecolor": "white",
            "showbackground": true,
            "ticks": "",
            "zerolinecolor": "white"
           }
          },
          "shapedefaults": {
           "line": {
            "color": "#2a3f5f"
           }
          },
          "ternary": {
           "aaxis": {
            "gridcolor": "white",
            "linecolor": "white",
            "ticks": ""
           },
           "baxis": {
            "gridcolor": "white",
            "linecolor": "white",
            "ticks": ""
           },
           "bgcolor": "#E5ECF6",
           "caxis": {
            "gridcolor": "white",
            "linecolor": "white",
            "ticks": ""
           }
          },
          "title": {
           "x": 0.05
          },
          "xaxis": {
           "automargin": true,
           "gridcolor": "white",
           "linecolor": "white",
           "ticks": "",
           "title": {
            "standoff": 15
           },
           "zerolinecolor": "white",
           "zerolinewidth": 2
          },
          "yaxis": {
           "automargin": true,
           "gridcolor": "white",
           "linecolor": "white",
           "ticks": "",
           "title": {
            "standoff": 15
           },
           "zerolinecolor": "white",
           "zerolinewidth": 2
          }
         }
        },
        "xaxis": {
         "anchor": "y",
         "domain": [
          0,
          1
         ]
        },
        "yaxis": {
         "anchor": "x",
         "domain": [
          0,
          1
         ]
        }
       }
      }
     },
     "metadata": {},
     "output_type": "display_data"
    }
   ],
   "source": [
    "plotter(västra_götaland_län)"
   ]
  },
  {
   "cell_type": "code",
   "execution_count": 126,
   "metadata": {},
   "outputs": [],
   "source": [
    "import pandas as pd\n",
    "import plotly.graph_objects as go\n",
    "def plotter_alt(df: pd.DataFrame):\n",
    "    columns = ['Andel minst 1 dos', 'Andel minst 2 doser', 'Andel 3 doser', 'Andel 4 doser']\n",
    "    fig = make_subplots(rows=1, cols=1)\n",
    "    for i, col in enumerate(columns):\n",
    "        fig.add_trace(\n",
    "            go.Bar(x=df['Kommun_namn'], y=df[col],\n",
    "            name=col, showlegend=True)\n",
    "            \n",
    "        )\n",
    "    fig.update_layout()\n",
    "    fig.show()"
   ]
  },
  {
   "cell_type": "code",
   "execution_count": 127,
   "metadata": {},
   "outputs": [
    {
     "data": {
      "application/vnd.plotly.v1+json": {
       "config": {
        "plotlyServerURL": "https://plot.ly"
       },
       "data": [
        {
         "name": "Andel minst 1 dos",
         "showlegend": true,
         "type": "bar",
         "x": [
          "Härryda",
          "Härryda",
          "Härryda",
          "Härryda",
          "Härryda",
          "Härryda",
          "Härryda",
          "Härryda",
          "Härryda",
          "Härryda",
          "Partille",
          "Partille",
          "Partille",
          "Partille",
          "Partille",
          "Partille",
          "Partille",
          "Partille",
          "Partille",
          "Partille",
          "Öckerö",
          "Öckerö",
          "Öckerö",
          "Öckerö",
          "Öckerö",
          "Öckerö",
          "Öckerö",
          "Öckerö",
          "Öckerö",
          "Öckerö",
          "Stenungsund",
          "Stenungsund",
          "Stenungsund",
          "Stenungsund",
          "Stenungsund",
          "Stenungsund",
          "Stenungsund",
          "Stenungsund",
          "Stenungsund",
          "Stenungsund",
          "Tjörn",
          "Tjörn",
          "Tjörn",
          "Tjörn",
          "Tjörn",
          "Tjörn",
          "Tjörn",
          "Tjörn",
          "Tjörn",
          "Tjörn",
          "Orust",
          "Orust",
          "Orust",
          "Orust",
          "Orust",
          "Orust",
          "Orust",
          "Orust",
          "Orust",
          "Orust",
          "Sotenäs",
          "Sotenäs",
          "Sotenäs",
          "Sotenäs",
          "Sotenäs",
          "Sotenäs",
          "Sotenäs",
          "Sotenäs",
          "Sotenäs",
          "Sotenäs",
          "Munkedal",
          "Munkedal",
          "Munkedal",
          "Munkedal",
          "Munkedal",
          "Munkedal",
          "Munkedal",
          "Munkedal",
          "Munkedal",
          "Munkedal",
          "Tanum",
          "Tanum",
          "Tanum",
          "Tanum",
          "Tanum",
          "Tanum",
          "Tanum",
          "Tanum",
          "Tanum",
          "Tanum",
          "Dals-Ed",
          "Dals-Ed",
          "Dals-Ed",
          "Dals-Ed",
          "Dals-Ed",
          "Dals-Ed",
          "Dals-Ed",
          "Dals-Ed",
          "Dals-Ed",
          "Dals-Ed",
          "Färgelanda",
          "Färgelanda",
          "Färgelanda",
          "Färgelanda",
          "Färgelanda",
          "Färgelanda",
          "Färgelanda",
          "Färgelanda",
          "Färgelanda",
          "Färgelanda",
          "Ale",
          "Ale",
          "Ale",
          "Ale",
          "Ale",
          "Ale",
          "Ale",
          "Ale",
          "Ale",
          "Ale",
          "Lerum",
          "Lerum",
          "Lerum",
          "Lerum",
          "Lerum",
          "Lerum",
          "Lerum",
          "Lerum",
          "Lerum",
          "Lerum",
          "Vårgårda",
          "Vårgårda",
          "Vårgårda",
          "Vårgårda",
          "Vårgårda",
          "Vårgårda",
          "Vårgårda",
          "Vårgårda",
          "Vårgårda",
          "Vårgårda",
          "Bollebygd",
          "Bollebygd",
          "Bollebygd",
          "Bollebygd",
          "Bollebygd",
          "Bollebygd",
          "Bollebygd",
          "Bollebygd",
          "Bollebygd",
          "Bollebygd",
          "Grästorp",
          "Grästorp",
          "Grästorp",
          "Grästorp",
          "Grästorp",
          "Grästorp",
          "Grästorp",
          "Grästorp",
          "Grästorp",
          "Grästorp",
          "Essunga",
          "Essunga",
          "Essunga",
          "Essunga",
          "Essunga",
          "Essunga",
          "Essunga",
          "Essunga",
          "Essunga",
          "Essunga",
          "Karlsborg",
          "Karlsborg",
          "Karlsborg",
          "Karlsborg",
          "Karlsborg",
          "Karlsborg",
          "Karlsborg",
          "Karlsborg",
          "Karlsborg",
          "Karlsborg",
          "Gullspång",
          "Gullspång",
          "Gullspång",
          "Gullspång",
          "Gullspång",
          "Gullspång",
          "Gullspång",
          "Gullspång",
          "Gullspång",
          "Gullspång",
          "Tranemo",
          "Tranemo",
          "Tranemo",
          "Tranemo",
          "Tranemo",
          "Tranemo",
          "Tranemo",
          "Tranemo",
          "Tranemo",
          "Tranemo",
          "Bengtsfors",
          "Bengtsfors",
          "Bengtsfors",
          "Bengtsfors",
          "Bengtsfors",
          "Bengtsfors",
          "Bengtsfors",
          "Bengtsfors",
          "Bengtsfors",
          "Bengtsfors",
          "Mellerud",
          "Mellerud",
          "Mellerud",
          "Mellerud",
          "Mellerud",
          "Mellerud",
          "Mellerud",
          "Mellerud",
          "Mellerud",
          "Mellerud",
          "Lilla Edet",
          "Lilla Edet",
          "Lilla Edet",
          "Lilla Edet",
          "Lilla Edet",
          "Lilla Edet",
          "Lilla Edet",
          "Lilla Edet",
          "Lilla Edet",
          "Lilla Edet",
          "Mark",
          "Mark",
          "Mark",
          "Mark",
          "Mark",
          "Mark",
          "Mark",
          "Mark",
          "Mark",
          "Mark",
          "Svenljunga",
          "Svenljunga",
          "Svenljunga",
          "Svenljunga",
          "Svenljunga",
          "Svenljunga",
          "Svenljunga",
          "Svenljunga",
          "Svenljunga",
          "Svenljunga",
          "Herrljunga",
          "Herrljunga",
          "Herrljunga",
          "Herrljunga",
          "Herrljunga",
          "Herrljunga",
          "Herrljunga",
          "Herrljunga",
          "Herrljunga",
          "Herrljunga",
          "Vara",
          "Vara",
          "Vara",
          "Vara",
          "Vara",
          "Vara",
          "Vara",
          "Vara",
          "Vara",
          "Vara",
          "Götene",
          "Götene",
          "Götene",
          "Götene",
          "Götene",
          "Götene",
          "Götene",
          "Götene",
          "Götene",
          "Götene",
          "Tibro",
          "Tibro",
          "Tibro",
          "Tibro",
          "Tibro",
          "Tibro",
          "Tibro",
          "Tibro",
          "Tibro",
          "Tibro",
          "Töreboda",
          "Töreboda",
          "Töreboda",
          "Töreboda",
          "Töreboda",
          "Töreboda",
          "Töreboda",
          "Töreboda",
          "Töreboda",
          "Töreboda",
          "Göteborg",
          "Göteborg",
          "Göteborg",
          "Göteborg",
          "Göteborg",
          "Göteborg",
          "Göteborg",
          "Göteborg",
          "Göteborg",
          "Göteborg",
          "Mölndal",
          "Mölndal",
          "Mölndal",
          "Mölndal",
          "Mölndal",
          "Mölndal",
          "Mölndal",
          "Mölndal",
          "Mölndal",
          "Mölndal",
          "Kungälv",
          "Kungälv",
          "Kungälv",
          "Kungälv",
          "Kungälv",
          "Kungälv",
          "Kungälv",
          "Kungälv",
          "Kungälv",
          "Kungälv",
          "Lysekil",
          "Lysekil",
          "Lysekil",
          "Lysekil",
          "Lysekil",
          "Lysekil",
          "Lysekil",
          "Lysekil",
          "Lysekil",
          "Lysekil",
          "Uddevalla",
          "Uddevalla",
          "Uddevalla",
          "Uddevalla",
          "Uddevalla",
          "Uddevalla",
          "Uddevalla",
          "Uddevalla",
          "Uddevalla",
          "Uddevalla",
          "Strömstad",
          "Strömstad",
          "Strömstad",
          "Strömstad",
          "Strömstad",
          "Strömstad",
          "Strömstad",
          "Strömstad",
          "Strömstad",
          "Strömstad",
          "Vänersborg",
          "Vänersborg",
          "Vänersborg",
          "Vänersborg",
          "Vänersborg",
          "Vänersborg",
          "Vänersborg",
          "Vänersborg",
          "Vänersborg",
          "Vänersborg",
          "Trollhättan",
          "Trollhättan",
          "Trollhättan",
          "Trollhättan",
          "Trollhättan",
          "Trollhättan",
          "Trollhättan",
          "Trollhättan",
          "Trollhättan",
          "Trollhättan",
          "Alingsås",
          "Alingsås",
          "Alingsås",
          "Alingsås",
          "Alingsås",
          "Alingsås",
          "Alingsås",
          "Alingsås",
          "Alingsås",
          "Alingsås",
          "Borås",
          "Borås",
          "Borås",
          "Borås",
          "Borås",
          "Borås",
          "Borås",
          "Borås",
          "Borås",
          "Borås",
          "Ulricehamn",
          "Ulricehamn",
          "Ulricehamn",
          "Ulricehamn",
          "Ulricehamn",
          "Ulricehamn",
          "Ulricehamn",
          "Ulricehamn",
          "Ulricehamn",
          "Ulricehamn",
          "Åmål",
          "Åmål",
          "Åmål",
          "Åmål",
          "Åmål",
          "Åmål",
          "Åmål",
          "Åmål",
          "Åmål",
          "Åmål",
          "Mariestad",
          "Mariestad",
          "Mariestad",
          "Mariestad",
          "Mariestad",
          "Mariestad",
          "Mariestad",
          "Mariestad",
          "Mariestad",
          "Mariestad",
          "Lidköping",
          "Lidköping",
          "Lidköping",
          "Lidköping",
          "Lidköping",
          "Lidköping",
          "Lidköping",
          "Lidköping",
          "Lidköping",
          "Lidköping",
          "Skara",
          "Skara",
          "Skara",
          "Skara",
          "Skara",
          "Skara",
          "Skara",
          "Skara",
          "Skara",
          "Skara",
          "Skövde",
          "Skövde",
          "Skövde",
          "Skövde",
          "Skövde",
          "Skövde",
          "Skövde",
          "Skövde",
          "Skövde",
          "Skövde",
          "Hjo",
          "Hjo",
          "Hjo",
          "Hjo",
          "Hjo",
          "Hjo",
          "Hjo",
          "Hjo",
          "Hjo",
          "Hjo",
          "Tidaholm",
          "Tidaholm",
          "Tidaholm",
          "Tidaholm",
          "Tidaholm",
          "Tidaholm",
          "Tidaholm",
          "Tidaholm",
          "Tidaholm",
          "Tidaholm",
          "Falköping",
          "Falköping",
          "Falköping",
          "Falköping",
          "Falköping",
          "Falköping",
          "Falköping",
          "Falköping",
          "Falköping",
          "Falköping"
         ],
         "y": [
          0.6115107913669064,
          0.8797862867319679,
          0.819838056680162,
          0.847646573080099,
          0.9052319842053307,
          0.9224246797762944,
          0.9471127900701565,
          0.9792729591836735,
          0.9877800407331976,
          0.9696048632218845,
          0.5704989154013015,
          0.8082744702320888,
          0.7849800713236836,
          0.845627923713566,
          0.8909446717665895,
          0.910841517427306,
          0.935633367662204,
          0.9623942337825133,
          0.967741935483871,
          0.9782608695652174,
          0.5573529411764706,
          0.7909604519774012,
          0.8558368495077355,
          0.8476027397260274,
          0.9082696316886727,
          0.9342379958246346,
          0.9351381838691484,
          0.9714784633294529,
          0.9872448979591837,
          0.953757225433526,
          0.5673333333333334,
          0.8373570520965693,
          0.8198721673445671,
          0.8401604124892581,
          0.8850282485875707,
          0.9062579174056246,
          0.9381370826010544,
          0.9716338880484114,
          0.9781690140845071,
          0.9823943661971831,
          0.541994750656168,
          0.7880434782608695,
          0.8360864040660737,
          0.8444444444444444,
          0.8805384183959618,
          0.9259763851044505,
          0.974370112945265,
          0.9840269020596889,
          0.98001998001998,
          0.966824644549763,
          0.5974842767295597,
          0.8229813664596274,
          0.8417680973734786,
          0.7994561522773623,
          0.8663766314481044,
          0.9080622347949081,
          0.9364016736401674,
          0.9521209575808484,
          0.966789667896679,
          0.9620853080568721,
          0.6104294478527608,
          0.8759124087591241,
          0.8312570781426953,
          0.8065650644783119,
          0.8693415637860082,
          0.9284591194968553,
          0.9660095173351462,
          0.9796772265391512,
          0.9825949367088608,
          0.9820359281437125,
          0.583864118895966,
          0.782608695652174,
          0.78125,
          0.8262172284644195,
          0.8503869303525365,
          0.9005847953216374,
          0.9298375184638109,
          0.9700315457413249,
          0.9653543307086614,
          0.9358974358974359,
          0.508833922261484,
          0.77734375,
          0.8591445427728613,
          0.8421052631578947,
          0.8903605592347315,
          0.914569923932124,
          0.9484911550468262,
          0.9653029518384257,
          0.9630996309963099,
          0.9853658536585366,
          0.4790697674418605,
          0.7982456140350878,
          0.7912713472485768,
          0.8330275229357799,
          0.8022598870056498,
          0.8708609271523179,
          0.9124343257443083,
          0.9538002980625931,
          1,
          1,
          0.6045751633986928,
          0.8666666666666667,
          0.8053333333333333,
          0.8095872170439414,
          0.8542274052478134,
          0.888641425389755,
          0.9274725274725275,
          0.9423769507803121,
          0.981029810298103,
          0.9479166666666666,
          0.5104815864022663,
          0.7624565469293163,
          0.7751231527093596,
          0.8109344369418428,
          0.8633318445734703,
          0.9066213921901528,
          0.9276773296244785,
          0.9661549197487788,
          0.9681481481481482,
          0.9852941176470589,
          0.5983032091479159,
          0.8452743902439024,
          0.798572046733016,
          0.8691118972258425,
          0.9010850762698538,
          0.9254966887417219,
          0.9443885254151988,
          0.973250472845177,
          0.9858585858585859,
          0.9775561097256857,
          0.5463258785942492,
          0.7993630573248408,
          0.8236842105263158,
          0.8378870673952641,
          0.8839779005524862,
          0.905123339658444,
          0.9302496328928047,
          0.9557312252964427,
          0.9554367201426025,
          0.9365079365079365,
          0.5410447761194029,
          0.7961538461538461,
          0.8333333333333334,
          0.8334687246141349,
          0.8678206136900078,
          0.9120473022912047,
          0.943359375,
          0.9711538461538461,
          0.9824945295404814,
          0.9302325581395349,
          0.6051660516605166,
          0.8571428571428571,
          0.8377952755905512,
          0.849772382397572,
          0.8829113924050633,
          0.9066002490660025,
          0.9570871261378413,
          0.9583892617449664,
          0.9792284866468842,
          0.9782608695652174,
          0.527027027027027,
          0.8285714285714286,
          0.8040201005025126,
          0.8159879336349924,
          0.8667736757624398,
          0.88,
          0.921727395411606,
          0.9479843953185956,
          0.9787878787878788,
          0.9058823529411765,
          0.6606498194945848,
          0.8874172185430463,
          0.8767295597484277,
          0.8473282442748091,
          0.8985313751668892,
          0.9144144144144144,
          0.9648924122310306,
          0.9651162790697675,
          0.971252566735113,
          0.9693877551020408,
          0.5,
          0.7311827956989247,
          0.75,
          0.7752100840336135,
          0.8308351177730193,
          0.9002659574468085,
          0.930011862396204,
          0.9404052443384983,
          0.9452054794520548,
          0.9540229885057471,
          0.5278745644599303,
          0.778169014084507,
          0.7716994894237783,
          0.788881069669247,
          0.8490566037735849,
          0.9061547836684948,
          0.9303928325292902,
          0.9581928523263655,
          0.9635258358662614,
          0.9661016949152542,
          0.5388471177944862,
          0.7743589743589744,
          0.7883698760724499,
          0.8274058577405857,
          0.8587075575027382,
          0.9139280125195618,
          0.9088803088803089,
          0.9654199011997178,
          0.9585889570552147,
          0.9685863874345549,
          0.46403712296983757,
          0.6071428571428571,
          0.7582417582417582,
          0.7884250474383302,
          0.838569880823402,
          0.8869198312236287,
          0.9237490071485306,
          0.9486780715396579,
          0.9569707401032702,
          0.968944099378882,
          0.42128935532233885,
          0.6460481099656358,
          0.6984036488027366,
          0.7455230914231856,
          0.7920046349942063,
          0.8700828157349897,
          0.91976401179941,
          0.9555863983344899,
          0.9673202614379085,
          0.924812030075188,
          0.5227151256012827,
          0.7750582750582751,
          0.7788595271210014,
          0.7870370370370371,
          0.847672434803802,
          0.8875888006686168,
          0.9265296480037798,
          0.9543716543461637,
          0.9660560344827587,
          0.9707865168539326,
          0.4839319470699433,
          0.717391304347826,
          0.7676174496644296,
          0.7411674347158218,
          0.8190559440559441,
          0.9031187790311878,
          0.9129193433261956,
          0.9505376344086022,
          0.967266775777414,
          0.9576271186440678,
          0.5514018691588785,
          0.7487437185929648,
          0.7948504983388704,
          0.8057553956834532,
          0.8636363636363636,
          0.895800933125972,
          0.9066666666666666,
          0.9565587734241908,
          0.9684014869888475,
          0.9830508474576272,
          0.5592105263157895,
          0.8304597701149425,
          0.8072528564331843,
          0.7845592070944184,
          0.8407643312101911,
          0.8992212551534585,
          0.9465060240963855,
          0.9620879120879121,
          0.9666307857911733,
          0.9948453608247423,
          0.592814371257485,
          0.821917808219178,
          0.8072033898305084,
          0.8568548387096774,
          0.8822328114363512,
          0.9331175836030206,
          0.9447818884594147,
          0.9708571428571429,
          0.9679075738125802,
          0.954248366013072,
          0.56,
          0.8015267175572519,
          0.7809110629067245,
          0.7948360083740404,
          0.8218390804597702,
          0.8947019867549669,
          0.9214659685863874,
          0.9603053435114504,
          0.9739368998628258,
          0.9573170731707317,
          0.5349397590361445,
          0.697560975609756,
          0.8076572470373746,
          0.8049019607843138,
          0.8409321175278622,
          0.8837209302325582,
          0.9304084720121029,
          0.9545454545454546,
          0.9594594594594594,
          0.9765625,
          0.4771017916912778,
          0.6781580271766482,
          0.8064955535231275,
          0.7849348651636783,
          0.8228531021658854,
          0.8744223543469185,
          0.9089034340536178,
          0.942241690751445,
          0.9517389996993084,
          0.9494186046511628,
          0.607773851590106,
          0.8355842630651791,
          0.8634771294164748,
          0.8482290328500642,
          0.8969229206865035,
          0.9234204793028322,
          0.9381663113006397,
          0.9598401218119528,
          0.9681504221028396,
          0.9570747217806042,
          0.5604,
          0.7884780739466896,
          0.8168740908356231,
          0.8573795180722892,
          0.8917132689374683,
          0.9111178522675565,
          0.9442528735632184,
          0.963236893626278,
          0.9702452754322477,
          0.9725085910652921,
          0.6385737439222042,
          0.8581314878892734,
          0.8310249307479224,
          0.8206371191135734,
          0.899171270718232,
          0.9329551315110882,
          0.9457690509583918,
          0.9699769053117783,
          0.9813542688910697,
          0.97265625,
          0.5513361462728551,
          0.8311488049344642,
          0.8303927881519639,
          0.8404800431499461,
          0.896588486140725,
          0.9195652173913044,
          0.9456143008635055,
          0.969760900140647,
          0.9755381604696673,
          0.9731543624161074,
          0.43800322061191627,
          0.7527675276752768,
          0.7634615384615384,
          0.796056338028169,
          0.8529761904761904,
          0.8927933293627159,
          0.9300833867864016,
          0.9763934426229508,
          0.9814285714285714,
          0.9828571428571429,
          0.5406917599186165,
          0.7819314641744548,
          0.8099785616838823,
          0.8342418736119523,
          0.8824206166589967,
          0.9235095613048369,
          0.9502047855141195,
          0.9685563461097085,
          0.9779697624190065,
          0.9554140127388535,
          0.5047329276538202,
          0.7273346966598501,
          0.8050773589017215,
          0.8049694094144088,
          0.8652694610778443,
          0.918234064785789,
          0.9312489769192994,
          0.9499908071336642,
          0.962291515591008,
          0.9615384615384616,
          0.5906998158379374,
          0.8300653594771242,
          0.8336255601013053,
          0.8498531571218796,
          0.9024058983313931,
          0.9196654347403229,
          0.9422492401215805,
          0.97625609497562,
          0.983058403923317,
          0.9628180039138943,
          0.4911968699982216,
          0.7516703786191536,
          0.7935716741148161,
          0.785446829755367,
          0.8472952531873514,
          0.905091621205763,
          0.923836755913699,
          0.9535710852638662,
          0.9667957941339236,
          0.9588100686498856,
          0.539815590947192,
          0.8260105448154658,
          0.8171091445427728,
          0.8173486088379706,
          0.8444444444444444,
          0.9107674003569304,
          0.929329794293298,
          0.9535614525139665,
          0.9634670487106017,
          0.9567567567567568,
          0.5603305785123966,
          0.8220640569395018,
          0.7671043538355218,
          0.8624420401854714,
          0.8821233411397346,
          0.910850439882698,
          0.9417956656346749,
          0.9682642487046632,
          0.9673659673659674,
          0.9707112970711297,
          0.6200578592092575,
          0.8533333333333334,
          0.8557068741893644,
          0.865296803652968,
          0.8894632206759443,
          0.9317073170731708,
          0.9497422680412371,
          0.9778917013777635,
          0.9797257006559332,
          0.9693593314763231,
          0.5998980632008155,
          0.8514531754574811,
          0.8625235404896422,
          0.8845373376623377,
          0.9114873553364766,
          0.9378353376503238,
          0.9595687331536388,
          0.9727626459143969,
          0.9721401435204727,
          0.9620493358633776,
          0.5267958950969214,
          0.7869565217391304,
          0.8104886769964244,
          0.8118437631247375,
          0.8514369215781783,
          0.9129615674453655,
          0.9402501157943493,
          0.9669223394055608,
          0.9743842364532019,
          0.9739130434782609,
          0.5804935370152762,
          0.8282910874897792,
          0.8599505960691655,
          0.8452523319779957,
          0.8817572830658981,
          0.9221840068787618,
          0.9426298866136402,
          0.9693645990922845,
          0.9732796486090776,
          0.9676923076923077,
          0.5761904761904761,
          0.782608695652174,
          0.8575581395348837,
          0.8583333333333333,
          0.8884615384615384,
          0.9230769230769231,
          0.9544658493870403,
          0.9605367008681925,
          0.972972972972973,
          0.9745762711864406,
          0.6107142857142858,
          0.8382352941176471,
          0.84,
          0.846441947565543,
          0.8694029850746269,
          0.9154849688031764,
          0.929471032745592,
          0.980528511821975,
          0.9762202753441802,
          0.985,
          0.5707287201469687,
          0.8309859154929577,
          0.7957923622227304,
          0.8220457730032695,
          0.8821968691960732,
          0.911595591758505,
          0.9267977237454733,
          0.9629084486311451,
          0.9681020733652312,
          0.9617834394904459
         ]
        },
        {
         "name": "Andel minst 2 doser",
         "showlegend": true,
         "type": "bar",
         "x": [
          "Härryda",
          "Härryda",
          "Härryda",
          "Härryda",
          "Härryda",
          "Härryda",
          "Härryda",
          "Härryda",
          "Härryda",
          "Härryda",
          "Partille",
          "Partille",
          "Partille",
          "Partille",
          "Partille",
          "Partille",
          "Partille",
          "Partille",
          "Partille",
          "Partille",
          "Öckerö",
          "Öckerö",
          "Öckerö",
          "Öckerö",
          "Öckerö",
          "Öckerö",
          "Öckerö",
          "Öckerö",
          "Öckerö",
          "Öckerö",
          "Stenungsund",
          "Stenungsund",
          "Stenungsund",
          "Stenungsund",
          "Stenungsund",
          "Stenungsund",
          "Stenungsund",
          "Stenungsund",
          "Stenungsund",
          "Stenungsund",
          "Tjörn",
          "Tjörn",
          "Tjörn",
          "Tjörn",
          "Tjörn",
          "Tjörn",
          "Tjörn",
          "Tjörn",
          "Tjörn",
          "Tjörn",
          "Orust",
          "Orust",
          "Orust",
          "Orust",
          "Orust",
          "Orust",
          "Orust",
          "Orust",
          "Orust",
          "Orust",
          "Sotenäs",
          "Sotenäs",
          "Sotenäs",
          "Sotenäs",
          "Sotenäs",
          "Sotenäs",
          "Sotenäs",
          "Sotenäs",
          "Sotenäs",
          "Sotenäs",
          "Munkedal",
          "Munkedal",
          "Munkedal",
          "Munkedal",
          "Munkedal",
          "Munkedal",
          "Munkedal",
          "Munkedal",
          "Munkedal",
          "Munkedal",
          "Tanum",
          "Tanum",
          "Tanum",
          "Tanum",
          "Tanum",
          "Tanum",
          "Tanum",
          "Tanum",
          "Tanum",
          "Tanum",
          "Dals-Ed",
          "Dals-Ed",
          "Dals-Ed",
          "Dals-Ed",
          "Dals-Ed",
          "Dals-Ed",
          "Dals-Ed",
          "Dals-Ed",
          "Dals-Ed",
          "Dals-Ed",
          "Färgelanda",
          "Färgelanda",
          "Färgelanda",
          "Färgelanda",
          "Färgelanda",
          "Färgelanda",
          "Färgelanda",
          "Färgelanda",
          "Färgelanda",
          "Färgelanda",
          "Ale",
          "Ale",
          "Ale",
          "Ale",
          "Ale",
          "Ale",
          "Ale",
          "Ale",
          "Ale",
          "Ale",
          "Lerum",
          "Lerum",
          "Lerum",
          "Lerum",
          "Lerum",
          "Lerum",
          "Lerum",
          "Lerum",
          "Lerum",
          "Lerum",
          "Vårgårda",
          "Vårgårda",
          "Vårgårda",
          "Vårgårda",
          "Vårgårda",
          "Vårgårda",
          "Vårgårda",
          "Vårgårda",
          "Vårgårda",
          "Vårgårda",
          "Bollebygd",
          "Bollebygd",
          "Bollebygd",
          "Bollebygd",
          "Bollebygd",
          "Bollebygd",
          "Bollebygd",
          "Bollebygd",
          "Bollebygd",
          "Bollebygd",
          "Grästorp",
          "Grästorp",
          "Grästorp",
          "Grästorp",
          "Grästorp",
          "Grästorp",
          "Grästorp",
          "Grästorp",
          "Grästorp",
          "Grästorp",
          "Essunga",
          "Essunga",
          "Essunga",
          "Essunga",
          "Essunga",
          "Essunga",
          "Essunga",
          "Essunga",
          "Essunga",
          "Essunga",
          "Karlsborg",
          "Karlsborg",
          "Karlsborg",
          "Karlsborg",
          "Karlsborg",
          "Karlsborg",
          "Karlsborg",
          "Karlsborg",
          "Karlsborg",
          "Karlsborg",
          "Gullspång",
          "Gullspång",
          "Gullspång",
          "Gullspång",
          "Gullspång",
          "Gullspång",
          "Gullspång",
          "Gullspång",
          "Gullspång",
          "Gullspång",
          "Tranemo",
          "Tranemo",
          "Tranemo",
          "Tranemo",
          "Tranemo",
          "Tranemo",
          "Tranemo",
          "Tranemo",
          "Tranemo",
          "Tranemo",
          "Bengtsfors",
          "Bengtsfors",
          "Bengtsfors",
          "Bengtsfors",
          "Bengtsfors",
          "Bengtsfors",
          "Bengtsfors",
          "Bengtsfors",
          "Bengtsfors",
          "Bengtsfors",
          "Mellerud",
          "Mellerud",
          "Mellerud",
          "Mellerud",
          "Mellerud",
          "Mellerud",
          "Mellerud",
          "Mellerud",
          "Mellerud",
          "Mellerud",
          "Lilla Edet",
          "Lilla Edet",
          "Lilla Edet",
          "Lilla Edet",
          "Lilla Edet",
          "Lilla Edet",
          "Lilla Edet",
          "Lilla Edet",
          "Lilla Edet",
          "Lilla Edet",
          "Mark",
          "Mark",
          "Mark",
          "Mark",
          "Mark",
          "Mark",
          "Mark",
          "Mark",
          "Mark",
          "Mark",
          "Svenljunga",
          "Svenljunga",
          "Svenljunga",
          "Svenljunga",
          "Svenljunga",
          "Svenljunga",
          "Svenljunga",
          "Svenljunga",
          "Svenljunga",
          "Svenljunga",
          "Herrljunga",
          "Herrljunga",
          "Herrljunga",
          "Herrljunga",
          "Herrljunga",
          "Herrljunga",
          "Herrljunga",
          "Herrljunga",
          "Herrljunga",
          "Herrljunga",
          "Vara",
          "Vara",
          "Vara",
          "Vara",
          "Vara",
          "Vara",
          "Vara",
          "Vara",
          "Vara",
          "Vara",
          "Götene",
          "Götene",
          "Götene",
          "Götene",
          "Götene",
          "Götene",
          "Götene",
          "Götene",
          "Götene",
          "Götene",
          "Tibro",
          "Tibro",
          "Tibro",
          "Tibro",
          "Tibro",
          "Tibro",
          "Tibro",
          "Tibro",
          "Tibro",
          "Tibro",
          "Töreboda",
          "Töreboda",
          "Töreboda",
          "Töreboda",
          "Töreboda",
          "Töreboda",
          "Töreboda",
          "Töreboda",
          "Töreboda",
          "Töreboda",
          "Göteborg",
          "Göteborg",
          "Göteborg",
          "Göteborg",
          "Göteborg",
          "Göteborg",
          "Göteborg",
          "Göteborg",
          "Göteborg",
          "Göteborg",
          "Mölndal",
          "Mölndal",
          "Mölndal",
          "Mölndal",
          "Mölndal",
          "Mölndal",
          "Mölndal",
          "Mölndal",
          "Mölndal",
          "Mölndal",
          "Kungälv",
          "Kungälv",
          "Kungälv",
          "Kungälv",
          "Kungälv",
          "Kungälv",
          "Kungälv",
          "Kungälv",
          "Kungälv",
          "Kungälv",
          "Lysekil",
          "Lysekil",
          "Lysekil",
          "Lysekil",
          "Lysekil",
          "Lysekil",
          "Lysekil",
          "Lysekil",
          "Lysekil",
          "Lysekil",
          "Uddevalla",
          "Uddevalla",
          "Uddevalla",
          "Uddevalla",
          "Uddevalla",
          "Uddevalla",
          "Uddevalla",
          "Uddevalla",
          "Uddevalla",
          "Uddevalla",
          "Strömstad",
          "Strömstad",
          "Strömstad",
          "Strömstad",
          "Strömstad",
          "Strömstad",
          "Strömstad",
          "Strömstad",
          "Strömstad",
          "Strömstad",
          "Vänersborg",
          "Vänersborg",
          "Vänersborg",
          "Vänersborg",
          "Vänersborg",
          "Vänersborg",
          "Vänersborg",
          "Vänersborg",
          "Vänersborg",
          "Vänersborg",
          "Trollhättan",
          "Trollhättan",
          "Trollhättan",
          "Trollhättan",
          "Trollhättan",
          "Trollhättan",
          "Trollhättan",
          "Trollhättan",
          "Trollhättan",
          "Trollhättan",
          "Alingsås",
          "Alingsås",
          "Alingsås",
          "Alingsås",
          "Alingsås",
          "Alingsås",
          "Alingsås",
          "Alingsås",
          "Alingsås",
          "Alingsås",
          "Borås",
          "Borås",
          "Borås",
          "Borås",
          "Borås",
          "Borås",
          "Borås",
          "Borås",
          "Borås",
          "Borås",
          "Ulricehamn",
          "Ulricehamn",
          "Ulricehamn",
          "Ulricehamn",
          "Ulricehamn",
          "Ulricehamn",
          "Ulricehamn",
          "Ulricehamn",
          "Ulricehamn",
          "Ulricehamn",
          "Åmål",
          "Åmål",
          "Åmål",
          "Åmål",
          "Åmål",
          "Åmål",
          "Åmål",
          "Åmål",
          "Åmål",
          "Åmål",
          "Mariestad",
          "Mariestad",
          "Mariestad",
          "Mariestad",
          "Mariestad",
          "Mariestad",
          "Mariestad",
          "Mariestad",
          "Mariestad",
          "Mariestad",
          "Lidköping",
          "Lidköping",
          "Lidköping",
          "Lidköping",
          "Lidköping",
          "Lidköping",
          "Lidköping",
          "Lidköping",
          "Lidköping",
          "Lidköping",
          "Skara",
          "Skara",
          "Skara",
          "Skara",
          "Skara",
          "Skara",
          "Skara",
          "Skara",
          "Skara",
          "Skara",
          "Skövde",
          "Skövde",
          "Skövde",
          "Skövde",
          "Skövde",
          "Skövde",
          "Skövde",
          "Skövde",
          "Skövde",
          "Skövde",
          "Hjo",
          "Hjo",
          "Hjo",
          "Hjo",
          "Hjo",
          "Hjo",
          "Hjo",
          "Hjo",
          "Hjo",
          "Hjo",
          "Tidaholm",
          "Tidaholm",
          "Tidaholm",
          "Tidaholm",
          "Tidaholm",
          "Tidaholm",
          "Tidaholm",
          "Tidaholm",
          "Tidaholm",
          "Tidaholm",
          "Falköping",
          "Falköping",
          "Falköping",
          "Falköping",
          "Falköping",
          "Falköping",
          "Falköping",
          "Falköping",
          "Falköping",
          "Falköping"
         ],
         "y": [
          0.5709958349110186,
          0.8414959928762245,
          0.7827260458839406,
          0.8226672171758876,
          0.8948667324777887,
          0.9146671477539239,
          0.9417161359956827,
          0.9744897959183674,
          0.9871011541072641,
          0.9696048632218845,
          0.5297180043383948,
          0.7537840565085772,
          0.7434445143696246,
          0.8123425692695214,
          0.87279843444227,
          0.9019834392451377,
          0.9307415036045315,
          0.9602005640864932,
          0.9658444022770398,
          0.9782608695652174,
          0.5161764705882353,
          0.7231638418079096,
          0.8108298171589311,
          0.8142123287671232,
          0.8957609451007644,
          0.9264091858037579,
          0.9294980259447264,
          0.9691501746216531,
          0.9808673469387755,
          0.953757225433526,
          0.542,
          0.7712833545108005,
          0.7835560720511331,
          0.8172443425952449,
          0.8694915254237288,
          0.8999239929060046,
          0.9314586994727593,
          0.9659606656580938,
          0.9746478873239437,
          0.971830985915493,
          0.5249343832020997,
          0.7635869565217391,
          0.8106734434561627,
          0.8239316239316239,
          0.8704430734716769,
          0.9191643960036331,
          0.9713292788879235,
          0.9823455233291298,
          0.9790209790209791,
          0.966824644549763,
          0.5487421383647799,
          0.7546583850931677,
          0.8039718129404229,
          0.7736233854520734,
          0.8508390304536979,
          0.8976897689768977,
          0.9322175732217574,
          0.9470810583788324,
          0.9640221402214022,
          0.957345971563981,
          0.5828220858895705,
          0.781021897810219,
          0.7904869762174406,
          0.7784290738569754,
          0.8518518518518519,
          0.9158805031446541,
          0.9598912304554724,
          0.9778840406455469,
          0.9825949367088608,
          0.9760479041916168,
          0.5435244161358811,
          0.7391304347826086,
          0.7435897435897436,
          0.8014981273408239,
          0.8314703353396389,
          0.8896198830409356,
          0.9268833087149188,
          0.9637223974763407,
          0.9606299212598425,
          0.9230769230769231,
          0.46996466431095407,
          0.71875,
          0.8082595870206489,
          0.8172119487908962,
          0.8734363502575423,
          0.8993563487419544,
          0.9427679500520292,
          0.9621957534955982,
          0.9606396063960639,
          0.9853658536585366,
          0.44651162790697674,
          0.7543859649122807,
          0.7685009487666035,
          0.8055045871559633,
          0.7947269303201506,
          0.8658940397350994,
          0.9054290718038529,
          0.9493293591654247,
          1,
          1,
          0.5620915032679739,
          0.8066666666666666,
          0.7786666666666666,
          0.7776298268974701,
          0.8396501457725948,
          0.8808463251670379,
          0.9186813186813186,
          0.9375750300120048,
          0.975609756097561,
          0.9479166666666666,
          0.47138810198300285,
          0.7079953650057937,
          0.7307881773399014,
          0.7815290786321063,
          0.8474765520321572,
          0.8937666747513946,
          0.9210709318497914,
          0.9630146545708305,
          0.9644444444444444,
          0.9803921568627451,
          0.5558834378458134,
          0.7964939024390244,
          0.7678494158372998,
          0.85030720536213,
          0.8894480264192484,
          0.9173841059602649,
          0.9403623553095118,
          0.9705485004052958,
          0.9813131313131314,
          0.9775561097256857,
          0.48881789137380194,
          0.7261146496815286,
          0.7796052631578947,
          0.8172434729811779,
          0.8653314917127072,
          0.8981657179000633,
          0.920704845814978,
          0.9549407114624506,
          0.9500891265597148,
          0.9285714285714286,
          0.503731343283582,
          0.7538461538461538,
          0.8044315992292871,
          0.8164094232331438,
          0.8544453186467349,
          0.9031781226903178,
          0.9365234375,
          0.9663461538461539,
          0.9803063457330415,
          0.9302325581395349,
          0.5571955719557196,
          0.8015873015873016,
          0.8078740157480315,
          0.8194233687405159,
          0.8670886075949367,
          0.900373599003736,
          0.9505851755526658,
          0.9583892617449664,
          0.9762611275964391,
          0.9782608695652174,
          0.5033783783783784,
          0.7904761904761904,
          0.7621440536013401,
          0.7722473604826546,
          0.8603531300160514,
          0.8709677419354839,
          0.9122807017543859,
          0.9440832249674902,
          0.9757575757575757,
          0.8941176470588236,
          0.5992779783393501,
          0.8211920529801324,
          0.8402515723270441,
          0.8193384223918575,
          0.8811748998664887,
          0.911036036036036,
          0.9592298980747452,
          0.962432915921288,
          0.971252566735113,
          0.9693877551020408,
          0.4696969696969697,
          0.6666666666666666,
          0.6929133858267716,
          0.7563025210084033,
          0.8179871520342612,
          0.8922872340425532,
          0.9181494661921709,
          0.9356376638855781,
          0.9424657534246575,
          0.9425287356321839,
          0.5069686411149826,
          0.7323943661971831,
          0.7308533916849015,
          0.764954257565095,
          0.8367198838896952,
          0.9006703229737965,
          0.926946933149552,
          0.9534726904922455,
          0.9604863221884499,
          0.9661016949152542,
          0.5087719298245614,
          0.7025641025641025,
          0.7521448999046711,
          0.7949790794979079,
          0.8433734939759037,
          0.9076682316118936,
          0.9027027027027027,
          0.9640084685956246,
          0.9524539877300614,
          0.9685863874345549,
          0.4431554524361949,
          0.5595238095238095,
          0.7225274725274725,
          0.7561669829222012,
          0.828819068255688,
          0.8767932489451477,
          0.9166004765687054,
          0.9455676516329704,
          0.955249569707401,
          0.9503105590062112,
          0.391304347826087,
          0.5876288659793815,
          0.6419612314709237,
          0.7144203581526861,
          0.7699884125144844,
          0.8581780538302277,
          0.9103244837758112,
          0.9535045107564192,
          0.9624183006535948,
          0.924812030075188,
          0.42597541421699625,
          0.6841491841491841,
          0.7357440890125174,
          0.7583333333333333,
          0.8342676090665366,
          0.8771416631842875,
          0.9173163241200094,
          0.9525873056334438,
          0.9644396551724138,
          0.9685393258426966,
          0.43856332703213613,
          0.6652173913043479,
          0.7256711409395973,
          0.706605222734255,
          0.7998251748251748,
          0.8891838088918381,
          0.9086366880799429,
          0.9491039426523298,
          0.9656301145662848,
          0.9576271186440678,
          0.5280373831775701,
          0.7185929648241206,
          0.7558139534883721,
          0.7850719424460432,
          0.851063829787234,
          0.8911353032659409,
          0.895,
          0.9522998296422487,
          0.9628252788104089,
          0.9576271186440678,
          0.5302631578947369,
          0.7931034482758621,
          0.7804272230501739,
          0.7636932707355243,
          0.8280254777070064,
          0.8923499770957398,
          0.9373493975903614,
          0.9587912087912088,
          0.9644779332615716,
          0.9896907216494846,
          0.5703592814371258,
          0.7808219178082192,
          0.760593220338983,
          0.8286290322580645,
          0.8672566371681416,
          0.924487594390507,
          0.9403644395361679,
          0.9662857142857143,
          0.9640564826700898,
          0.9477124183006536,
          0.5257142857142857,
          0.7442748091603053,
          0.7382501807664498,
          0.7683182135380321,
          0.80623973727422,
          0.8867549668874172,
          0.9147344801795063,
          0.9580152671755725,
          0.9725651577503429,
          0.9512195121951219,
          0.4843373493975904,
          0.624390243902439,
          0.764813126709207,
          0.7794117647058824,
          0.8277608915906788,
          0.8745847176079734,
          0.9251134644478064,
          0.9512987012987013,
          0.9575289575289575,
          0.9765625,
          0.4255168340224454,
          0.6235530951182687,
          0.7621475413026134,
          0.7484112868336298,
          0.7990074116753529,
          0.8595511279386148,
          0.8978391464180041,
          0.9338872832369942,
          0.9456750526210284,
          0.9426356589147287,
          0.5531394400652351,
          0.7956547269524369,
          0.8317485737163447,
          0.8184070471646173,
          0.8796587793236519,
          0.9124183006535947,
          0.9317697228144989,
          0.9556528359345261,
          0.965464313123561,
          0.9523052464228935,
          0.5208,
          0.7437661220980224,
          0.7818005495393567,
          0.8272590361445783,
          0.879173021521776,
          0.903685727286516,
          0.9411877394636016,
          0.9580160974548618,
          0.9658222758343386,
          0.9725085910652921,
          0.6029173419773096,
          0.8131487889273357,
          0.7832409972299169,
          0.7915512465373962,
          0.8770718232044199,
          0.9216090768437338,
          0.9401589527816737,
          0.9672055427251732,
          0.9803729146221786,
          0.96484375,
          0.509142053445851,
          0.7725520431765613,
          0.7871216999356085,
          0.8149946062567421,
          0.8783125190374658,
          0.9099184782608696,
          0.9401605817300409,
          0.965365682137834,
          0.9739073711676451,
          0.9718120805369127,
          0.3607085346215781,
          0.6752767527675276,
          0.7083333333333334,
          0.7628169014084507,
          0.8238095238095238,
          0.8779035139964264,
          0.9178960872354073,
          0.9731147540983607,
          0.98,
          0.9828571428571429,
          0.5045778229908443,
          0.7320872274143302,
          0.7618397973104658,
          0.807389460932768,
          0.8665439484583525,
          0.9156355455568054,
          0.9437378745419271,
          0.9662611888914391,
          0.975377969762419,
          0.9554140127388535,
          0.45368492224476,
          0.6612133605998637,
          0.7521246458923513,
          0.7685104257710076,
          0.8468776732249786,
          0.9077847439916406,
          0.9225732525781634,
          0.9442912300055157,
          0.957577955039884,
          0.96,
          0.5561694290976059,
          0.7917833800186741,
          0.7977790765634132,
          0.8245227606461086,
          0.8886301901435778,
          0.9134409647928419,
          0.9376899696048632,
          0.9732881068475726,
          0.9799375835934017,
          0.9628180039138943,
          0.4625644673661746,
          0.700445434298441,
          0.7520912111836828,
          0.7604218671992012,
          0.83051213714615,
          0.8959295006294586,
          0.9178580712243306,
          0.9493415360953571,
          0.9638443091680502,
          0.958047292143402,
          0.5046102263202011,
          0.7820738137082601,
          0.789249426417568,
          0.7944353518821604,
          0.8315972222222222,
          0.901249256395003,
          0.9213669542136695,
          0.9483240223463687,
          0.9627507163323782,
          0.9459459459459459,
          0.5173553719008265,
          0.7722419928825622,
          0.7221838286109191,
          0.839258114374034,
          0.8657298985167837,
          0.9020527859237537,
          0.9380804953560371,
          0.9630829015544041,
          0.9662004662004662,
          0.9707112970711297,
          0.5679845708775313,
          0.8114285714285714,
          0.8190661478599222,
          0.8454011741682974,
          0.8775347912524851,
          0.9225609756097561,
          0.9445876288659794,
          0.974687600128164,
          0.9785330948121646,
          0.9693593314763231,
          0.5754332313965341,
          0.8191603875134553,
          0.8387947269303202,
          0.8656655844155844,
          0.9007715387912559,
          0.9333950046253469,
          0.9552145967240306,
          0.9699524427150886,
          0.970873786407767,
          0.9620493358633776,
          0.4846066134549601,
          0.7456521739130435,
          0.7723480333730631,
          0.7837043259134817,
          0.8387725280077934,
          0.9035418236623964,
          0.9379342288096341,
          0.9645254074784276,
          0.9733990147783251,
          0.9739130434782609,
          0.5421073247160204,
          0.7898609975470156,
          0.8262270432821394,
          0.8255202104759627,
          0.8694500701043776,
          0.9140154772141015,
          0.9377221188018278,
          0.9659606656580938,
          0.972181551976574,
          0.9676923076923077,
          0.5428571428571428,
          0.7391304347826086,
          0.8323643410852714,
          0.8277777777777777,
          0.8711538461538462,
          0.91232423490488,
          0.9518388791593695,
          0.9589581689029203,
          0.972972972972973,
          0.9745762711864406,
          0.5767857142857142,
          0.7867647058823529,
          0.804375,
          0.8264669163545568,
          0.8582089552238806,
          0.9058423142370958,
          0.9250629722921915,
          0.9777468706536857,
          0.9749687108886108,
          0.985,
          0.5407225964482547,
          0.7946009389671361,
          0.7601189115024011,
          0.8021952358710883,
          0.8684001061289467,
          0.9048873981792046,
          0.9187790998448008,
          0.960847806888431,
          0.9649122807017544,
          0.9575371549893843
         ]
        },
        {
         "name": "Andel 3 doser",
         "showlegend": true,
         "type": "bar",
         "x": [
          "Härryda",
          "Härryda",
          "Härryda",
          "Härryda",
          "Härryda",
          "Härryda",
          "Härryda",
          "Härryda",
          "Härryda",
          "Härryda",
          "Partille",
          "Partille",
          "Partille",
          "Partille",
          "Partille",
          "Partille",
          "Partille",
          "Partille",
          "Partille",
          "Partille",
          "Öckerö",
          "Öckerö",
          "Öckerö",
          "Öckerö",
          "Öckerö",
          "Öckerö",
          "Öckerö",
          "Öckerö",
          "Öckerö",
          "Öckerö",
          "Stenungsund",
          "Stenungsund",
          "Stenungsund",
          "Stenungsund",
          "Stenungsund",
          "Stenungsund",
          "Stenungsund",
          "Stenungsund",
          "Stenungsund",
          "Stenungsund",
          "Tjörn",
          "Tjörn",
          "Tjörn",
          "Tjörn",
          "Tjörn",
          "Tjörn",
          "Tjörn",
          "Tjörn",
          "Tjörn",
          "Tjörn",
          "Orust",
          "Orust",
          "Orust",
          "Orust",
          "Orust",
          "Orust",
          "Orust",
          "Orust",
          "Orust",
          "Orust",
          "Sotenäs",
          "Sotenäs",
          "Sotenäs",
          "Sotenäs",
          "Sotenäs",
          "Sotenäs",
          "Sotenäs",
          "Sotenäs",
          "Sotenäs",
          "Sotenäs",
          "Munkedal",
          "Munkedal",
          "Munkedal",
          "Munkedal",
          "Munkedal",
          "Munkedal",
          "Munkedal",
          "Munkedal",
          "Munkedal",
          "Munkedal",
          "Tanum",
          "Tanum",
          "Tanum",
          "Tanum",
          "Tanum",
          "Tanum",
          "Tanum",
          "Tanum",
          "Tanum",
          "Tanum",
          "Dals-Ed",
          "Dals-Ed",
          "Dals-Ed",
          "Dals-Ed",
          "Dals-Ed",
          "Dals-Ed",
          "Dals-Ed",
          "Dals-Ed",
          "Dals-Ed",
          "Dals-Ed",
          "Färgelanda",
          "Färgelanda",
          "Färgelanda",
          "Färgelanda",
          "Färgelanda",
          "Färgelanda",
          "Färgelanda",
          "Färgelanda",
          "Färgelanda",
          "Färgelanda",
          "Ale",
          "Ale",
          "Ale",
          "Ale",
          "Ale",
          "Ale",
          "Ale",
          "Ale",
          "Ale",
          "Ale",
          "Lerum",
          "Lerum",
          "Lerum",
          "Lerum",
          "Lerum",
          "Lerum",
          "Lerum",
          "Lerum",
          "Lerum",
          "Lerum",
          "Vårgårda",
          "Vårgårda",
          "Vårgårda",
          "Vårgårda",
          "Vårgårda",
          "Vårgårda",
          "Vårgårda",
          "Vårgårda",
          "Vårgårda",
          "Vårgårda",
          "Bollebygd",
          "Bollebygd",
          "Bollebygd",
          "Bollebygd",
          "Bollebygd",
          "Bollebygd",
          "Bollebygd",
          "Bollebygd",
          "Bollebygd",
          "Bollebygd",
          "Grästorp",
          "Grästorp",
          "Grästorp",
          "Grästorp",
          "Grästorp",
          "Grästorp",
          "Grästorp",
          "Grästorp",
          "Grästorp",
          "Grästorp",
          "Essunga",
          "Essunga",
          "Essunga",
          "Essunga",
          "Essunga",
          "Essunga",
          "Essunga",
          "Essunga",
          "Essunga",
          "Essunga",
          "Karlsborg",
          "Karlsborg",
          "Karlsborg",
          "Karlsborg",
          "Karlsborg",
          "Karlsborg",
          "Karlsborg",
          "Karlsborg",
          "Karlsborg",
          "Karlsborg",
          "Gullspång",
          "Gullspång",
          "Gullspång",
          "Gullspång",
          "Gullspång",
          "Gullspång",
          "Gullspång",
          "Gullspång",
          "Gullspång",
          "Gullspång",
          "Tranemo",
          "Tranemo",
          "Tranemo",
          "Tranemo",
          "Tranemo",
          "Tranemo",
          "Tranemo",
          "Tranemo",
          "Tranemo",
          "Tranemo",
          "Bengtsfors",
          "Bengtsfors",
          "Bengtsfors",
          "Bengtsfors",
          "Bengtsfors",
          "Bengtsfors",
          "Bengtsfors",
          "Bengtsfors",
          "Bengtsfors",
          "Bengtsfors",
          "Mellerud",
          "Mellerud",
          "Mellerud",
          "Mellerud",
          "Mellerud",
          "Mellerud",
          "Mellerud",
          "Mellerud",
          "Mellerud",
          "Mellerud",
          "Lilla Edet",
          "Lilla Edet",
          "Lilla Edet",
          "Lilla Edet",
          "Lilla Edet",
          "Lilla Edet",
          "Lilla Edet",
          "Lilla Edet",
          "Lilla Edet",
          "Lilla Edet",
          "Mark",
          "Mark",
          "Mark",
          "Mark",
          "Mark",
          "Mark",
          "Mark",
          "Mark",
          "Mark",
          "Mark",
          "Svenljunga",
          "Svenljunga",
          "Svenljunga",
          "Svenljunga",
          "Svenljunga",
          "Svenljunga",
          "Svenljunga",
          "Svenljunga",
          "Svenljunga",
          "Svenljunga",
          "Herrljunga",
          "Herrljunga",
          "Herrljunga",
          "Herrljunga",
          "Herrljunga",
          "Herrljunga",
          "Herrljunga",
          "Herrljunga",
          "Herrljunga",
          "Herrljunga",
          "Vara",
          "Vara",
          "Vara",
          "Vara",
          "Vara",
          "Vara",
          "Vara",
          "Vara",
          "Vara",
          "Vara",
          "Götene",
          "Götene",
          "Götene",
          "Götene",
          "Götene",
          "Götene",
          "Götene",
          "Götene",
          "Götene",
          "Götene",
          "Tibro",
          "Tibro",
          "Tibro",
          "Tibro",
          "Tibro",
          "Tibro",
          "Tibro",
          "Tibro",
          "Tibro",
          "Tibro",
          "Töreboda",
          "Töreboda",
          "Töreboda",
          "Töreboda",
          "Töreboda",
          "Töreboda",
          "Töreboda",
          "Töreboda",
          "Töreboda",
          "Töreboda",
          "Göteborg",
          "Göteborg",
          "Göteborg",
          "Göteborg",
          "Göteborg",
          "Göteborg",
          "Göteborg",
          "Göteborg",
          "Göteborg",
          "Göteborg",
          "Mölndal",
          "Mölndal",
          "Mölndal",
          "Mölndal",
          "Mölndal",
          "Mölndal",
          "Mölndal",
          "Mölndal",
          "Mölndal",
          "Mölndal",
          "Kungälv",
          "Kungälv",
          "Kungälv",
          "Kungälv",
          "Kungälv",
          "Kungälv",
          "Kungälv",
          "Kungälv",
          "Kungälv",
          "Kungälv",
          "Lysekil",
          "Lysekil",
          "Lysekil",
          "Lysekil",
          "Lysekil",
          "Lysekil",
          "Lysekil",
          "Lysekil",
          "Lysekil",
          "Lysekil",
          "Uddevalla",
          "Uddevalla",
          "Uddevalla",
          "Uddevalla",
          "Uddevalla",
          "Uddevalla",
          "Uddevalla",
          "Uddevalla",
          "Uddevalla",
          "Uddevalla",
          "Strömstad",
          "Strömstad",
          "Strömstad",
          "Strömstad",
          "Strömstad",
          "Strömstad",
          "Strömstad",
          "Strömstad",
          "Strömstad",
          "Strömstad",
          "Vänersborg",
          "Vänersborg",
          "Vänersborg",
          "Vänersborg",
          "Vänersborg",
          "Vänersborg",
          "Vänersborg",
          "Vänersborg",
          "Vänersborg",
          "Vänersborg",
          "Trollhättan",
          "Trollhättan",
          "Trollhättan",
          "Trollhättan",
          "Trollhättan",
          "Trollhättan",
          "Trollhättan",
          "Trollhättan",
          "Trollhättan",
          "Trollhättan",
          "Alingsås",
          "Alingsås",
          "Alingsås",
          "Alingsås",
          "Alingsås",
          "Alingsås",
          "Alingsås",
          "Alingsås",
          "Alingsås",
          "Alingsås",
          "Borås",
          "Borås",
          "Borås",
          "Borås",
          "Borås",
          "Borås",
          "Borås",
          "Borås",
          "Borås",
          "Borås",
          "Ulricehamn",
          "Ulricehamn",
          "Ulricehamn",
          "Ulricehamn",
          "Ulricehamn",
          "Ulricehamn",
          "Ulricehamn",
          "Ulricehamn",
          "Ulricehamn",
          "Ulricehamn",
          "Åmål",
          "Åmål",
          "Åmål",
          "Åmål",
          "Åmål",
          "Åmål",
          "Åmål",
          "Åmål",
          "Åmål",
          "Åmål",
          "Mariestad",
          "Mariestad",
          "Mariestad",
          "Mariestad",
          "Mariestad",
          "Mariestad",
          "Mariestad",
          "Mariestad",
          "Mariestad",
          "Mariestad",
          "Lidköping",
          "Lidköping",
          "Lidköping",
          "Lidköping",
          "Lidköping",
          "Lidköping",
          "Lidköping",
          "Lidköping",
          "Lidköping",
          "Lidköping",
          "Skara",
          "Skara",
          "Skara",
          "Skara",
          "Skara",
          "Skara",
          "Skara",
          "Skara",
          "Skara",
          "Skara",
          "Skövde",
          "Skövde",
          "Skövde",
          "Skövde",
          "Skövde",
          "Skövde",
          "Skövde",
          "Skövde",
          "Skövde",
          "Skövde",
          "Hjo",
          "Hjo",
          "Hjo",
          "Hjo",
          "Hjo",
          "Hjo",
          "Hjo",
          "Hjo",
          "Hjo",
          "Hjo",
          "Tidaholm",
          "Tidaholm",
          "Tidaholm",
          "Tidaholm",
          "Tidaholm",
          "Tidaholm",
          "Tidaholm",
          "Tidaholm",
          "Tidaholm",
          "Tidaholm",
          "Falköping",
          "Falköping",
          "Falköping",
          "Falköping",
          "Falköping",
          "Falköping",
          "Falköping",
          "Falköping",
          "Falköping",
          "Falköping"
         ],
         "y": [
          0,
          0,
          0.36369770580296895,
          0.4746077621800165,
          0.6592629154327081,
          0.7719646400865957,
          0.8580679978413384,
          0.9464285714285714,
          0.9762389680923286,
          0.9483282674772037,
          0,
          0,
          0.3408852527795259,
          0.47804965815041384,
          0.62693470912649,
          0.7396495282110533,
          0.8509268795056643,
          0.9169539329363836,
          0.948134092346616,
          0.9516908212560387,
          0,
          0,
          0.36849507735583686,
          0.4272260273972603,
          0.6421125781792911,
          0.7635699373695198,
          0.8584320360970107,
          0.9476135040745053,
          0.9681122448979592,
          0.9248554913294798,
          0,
          0,
          0.3253922138291691,
          0.4385562875966772,
          0.6064971751412429,
          0.7539903724347605,
          0.8579964850615114,
          0.9372163388804842,
          0.9471830985915493,
          0.9330985915492958,
          0,
          0,
          0.3678526048284625,
          0.42905982905982903,
          0.5900168255748738,
          0.7688465031789282,
          0.9135534317984362,
          0.9604875998318622,
          0.968031968031968,
          0.9620853080568721,
          0,
          0,
          0.34080717488789236,
          0.37049626104690686,
          0.5730267246737104,
          0.7425742574257426,
          0.8635983263598327,
          0.9248215035699286,
          0.948339483394834,
          0.9478672985781991,
          0,
          0,
          0.36579841449603623,
          0.4220398593200469,
          0.6069958847736625,
          0.7908805031446541,
          0.9055064581917063,
          0.9557680812910938,
          0.9683544303797469,
          0.9640718562874252,
          0,
          0,
          0.2932692307692308,
          0.40823970037453183,
          0.5640584694754944,
          0.7288011695906432,
          0.8375184638109305,
          0.9282334384858044,
          0.9401574803149606,
          0.9166666666666666,
          0,
          0,
          0.36283185840707965,
          0.4800853485064011,
          0.609271523178808,
          0.7677004095962551,
          0.8720083246618107,
          0.9357845675815639,
          0.95079950799508,
          0.9463414634146341,
          0,
          0,
          0.34535104364326374,
          0.45504587155963305,
          0.4952919020715631,
          0.6870860927152318,
          0.8108581436077058,
          0.9090909090909091,
          0.9794117647058823,
          1,
          0,
          0,
          0.32666666666666666,
          0.3968042609853529,
          0.5670553935860059,
          0.7394209354120267,
          0.8494505494505494,
          0.8931572629051621,
          0.9701897018970189,
          0.9479166666666666,
          0,
          0,
          0.2970443349753695,
          0.4036157699847528,
          0.5652076820008932,
          0.7087072520009702,
          0.8271905424200278,
          0.9354501046755059,
          0.9474074074074074,
          0.9411764705882353,
          0,
          0,
          0.34314149718736475,
          0.4844535468255446,
          0.6400377417832993,
          0.7596026490066226,
          0.856064418721691,
          0.9470413401783302,
          0.9651515151515152,
          0.9625935162094763,
          0,
          0,
          0.33092105263157895,
          0.41530054644808745,
          0.5732044198895028,
          0.7172675521821632,
          0.8215859030837004,
          0.9201581027667984,
          0.9233511586452763,
          0.9047619047619048,
          0,
          0,
          0.3159922928709056,
          0.41429731925264013,
          0.5712037765538945,
          0.7376201034737621,
          0.8515625,
          0.9365384615384615,
          0.9649890590809628,
          0.9186046511627907,
          0,
          0,
          0.33858267716535434,
          0.4597875569044006,
          0.6392405063291139,
          0.7733499377334994,
          0.8777633289986996,
          0.9409395973154362,
          0.9614243323442137,
          0.967391304347826,
          0,
          0,
          0.3249581239530988,
          0.40874811463046756,
          0.5778491171749599,
          0.743225806451613,
          0.8461538461538461,
          0.9154746423927178,
          0.9333333333333333,
          0.8588235294117647,
          0,
          0,
          0.4591194968553459,
          0.539440203562341,
          0.6969292389853138,
          0.8322072072072072,
          0.9082672706681767,
          0.9364937388193202,
          0.9527720739219713,
          0.9489795918367347,
          0,
          0,
          0.2854330708661417,
          0.42857142857142855,
          0.5246252676659529,
          0.7154255319148937,
          0.8351126927639383,
          0.8879618593563766,
          0.9095890410958904,
          0.9080459770114943,
          0,
          0,
          0.30926331145149527,
          0.39971850809289233,
          0.5551523947750363,
          0.7647775746496039,
          0.8483804272915231,
          0.921105866486851,
          0.9452887537993921,
          0.943502824858757,
          0,
          0,
          0.32221163012392756,
          0.45083682008368203,
          0.5859802847754655,
          0.7715179968701096,
          0.8223938223938224,
          0.9174311926605505,
          0.9340490797546013,
          0.9633507853403142,
          0,
          0,
          0.29945054945054944,
          0.3795066413662239,
          0.5579631635969664,
          0.7265822784810126,
          0.8189038919777601,
          0.8919129082426127,
          0.9363166953528399,
          0.9130434782608695,
          0,
          0,
          0.24800456100342075,
          0.3477851083883129,
          0.46581691772885286,
          0.6796066252587992,
          0.8129793510324483,
          0.9243580846634282,
          0.9379084967320261,
          0.924812030075188,
          0,
          0,
          0.28836346777932315,
          0.3590277777777778,
          0.5408237874725811,
          0.6870037609694943,
          0.8251830852823057,
          0.9074687738975274,
          0.9364224137931034,
          0.946067415730337,
          0,
          0,
          0.27348993288590606,
          0.31105990783410137,
          0.49038461538461536,
          0.7259455872594559,
          0.8187009279086367,
          0.9046594982078853,
          0.9509001636661211,
          0.9322033898305084,
          0,
          0,
          0.313953488372093,
          0.39298561151079137,
          0.5831721470019342,
          0.7511664074650077,
          0.8108333333333333,
          0.9156729131175468,
          0.9405204460966543,
          0.940677966101695,
          0,
          0,
          0.3522106308991555,
          0.42305685967657797,
          0.5774946921443737,
          0.7420980302336234,
          0.8833734939759036,
          0.9291208791208792,
          0.9526372443487621,
          0.9742268041237113,
          0,
          0,
          0.3121468926553672,
          0.46774193548387094,
          0.6133424098025868,
          0.7912621359223301,
          0.8845941468801767,
          0.9371428571428572,
          0.9486521181001284,
          0.9215686274509803,
          0,
          0,
          0.3029645697758496,
          0.40683879972086534,
          0.5566502463054187,
          0.7125827814569536,
          0.8339566192969334,
          0.9221374045801527,
          0.9615912208504801,
          0.926829268292683,
          0,
          0,
          0.30355515041020964,
          0.4362745098039216,
          0.5602836879432624,
          0.7375415282392026,
          0.848714069591528,
          0.9172077922077922,
          0.9498069498069498,
          0.9765625,
          0,
          0,
          0.37519702660102355,
          0.4156323607172043,
          0.5087342534635833,
          0.6599484617710147,
          0.77998744732359,
          0.8845736994219653,
          0.9125989776485918,
          0.9114341085271318,
          0,
          0,
          0.42518266439795815,
          0.4949532024224628,
          0.6409058596526861,
          0.7664488017429194,
          0.8461772768809016,
          0.9225352112676056,
          0.9485801995395242,
          0.9268680445151033,
          0,
          0,
          0.32083400678842733,
          0.4307228915662651,
          0.6075241484494154,
          0.7548915516456848,
          0.8584291187739463,
          0.9303893843811181,
          0.9477281865701649,
          0.9467353951890034,
          0,
          0,
          0.37880886426592797,
          0.4515235457063712,
          0.6588397790055248,
          0.8055698813821558,
          0.8877980364656382,
          0.9441108545034642,
          0.9607458292443573,
          0.9375,
          0,
          0,
          0.32144236960721184,
          0.41073354908306364,
          0.579957356076759,
          0.7493206521739131,
          0.8597182245114376,
          0.9335443037974683,
          0.9602087410306588,
          0.9530201342281879,
          0,
          0,
          0.2653846153846154,
          0.3515492957746479,
          0.493452380952381,
          0.699225729600953,
          0.844772289929442,
          0.9436065573770491,
          0.97,
          0.9771428571428571,
          0,
          0,
          0.3375560319625804,
          0.4433676559660812,
          0.5922687528762081,
          0.7802774653168354,
          0.8762664367320543,
          0.9396373651595135,
          0.9593952483801296,
          0.9469214437367304,
          0,
          0,
          0.33504031379385485,
          0.40679235859657886,
          0.567579127459367,
          0.7536572622779519,
          0.8402357177934195,
          0.9016363302077588,
          0.9343727338651197,
          0.9384615384615385,
          0,
          0,
          0.3561270212351451,
          0.4462187958883994,
          0.6286379511059371,
          0.7512157167866174,
          0.8682153712548849,
          0.9457282170871316,
          0.9683459652251449,
          0.9530332681017613,
          0,
          0,
          0.3131087429815515,
          0.37524962556165753,
          0.5341784916804725,
          0.7177926982794797,
          0.8221124685902435,
          0.907622801115063,
          0.9311935067330751,
          0.9244851258581236,
          0,
          0,
          0.3661094723041626,
          0.44058919803600655,
          0.578125,
          0.7620464009518144,
          0.847378898473789,
          0.9221368715083799,
          0.9426934097421203,
          0.9297297297297298,
          0,
          0,
          0.32411886662059436,
          0.4706336939721793,
          0.580015612802498,
          0.7642228739002933,
          0.874922600619195,
          0.9352331606217616,
          0.9335664335664335,
          0.9414225941422594,
          0,
          0,
          0.38229571984435795,
          0.4983692106979778,
          0.6453280318091451,
          0.7942073170731707,
          0.8817654639175257,
          0.9452098686318487,
          0.9683959451401312,
          0.9498607242339833,
          0,
          0,
          0.416195856873823,
          0.5298295454545454,
          0.6712387483926275,
          0.8062904717853839,
          0.8944640265394982,
          0.9457414613056636,
          0.9590544533558464,
          0.9468690702087287,
          0,
          0,
          0.3134684147794994,
          0.4157916841663167,
          0.565026790063322,
          0.7434061793519217,
          0.8628994905048634,
          0.9324065196548418,
          0.9655172413793104,
          0.9521739130434783,
          0,
          0,
          0.4240146063795511,
          0.5075340827553217,
          0.6479202367970088,
          0.7831756950415592,
          0.8627517346420714,
          0.9273827534039334,
          0.9542459736456809,
          0.943076923076923,
          0,
          0,
          0.3701550387596899,
          0.487962962962963,
          0.6413461538461539,
          0.7832919768403639,
          0.8791593695271454,
          0.9250197316495659,
          0.9493243243243243,
          0.9745762711864406,
          0,
          0,
          0.375625,
          0.45942571785268416,
          0.6298507462686567,
          0.766874645490641,
          0.8545340050377834,
          0.9464534075104312,
          0.9561952440550688,
          0.96,
          0,
          0,
          0.3315801509261377,
          0.4028491359177954,
          0.5935261342531175,
          0.7494010541447054,
          0.83445421624418,
          0.9267000294377392,
          0.9457735247208932,
          0.9447983014861996
         ]
        },
        {
         "name": "Andel 4 doser",
         "showlegend": true,
         "type": "bar",
         "x": [
          "Härryda",
          "Härryda",
          "Härryda",
          "Härryda",
          "Härryda",
          "Härryda",
          "Härryda",
          "Härryda",
          "Härryda",
          "Härryda",
          "Partille",
          "Partille",
          "Partille",
          "Partille",
          "Partille",
          "Partille",
          "Partille",
          "Partille",
          "Partille",
          "Partille",
          "Öckerö",
          "Öckerö",
          "Öckerö",
          "Öckerö",
          "Öckerö",
          "Öckerö",
          "Öckerö",
          "Öckerö",
          "Öckerö",
          "Öckerö",
          "Stenungsund",
          "Stenungsund",
          "Stenungsund",
          "Stenungsund",
          "Stenungsund",
          "Stenungsund",
          "Stenungsund",
          "Stenungsund",
          "Stenungsund",
          "Stenungsund",
          "Tjörn",
          "Tjörn",
          "Tjörn",
          "Tjörn",
          "Tjörn",
          "Tjörn",
          "Tjörn",
          "Tjörn",
          "Tjörn",
          "Tjörn",
          "Orust",
          "Orust",
          "Orust",
          "Orust",
          "Orust",
          "Orust",
          "Orust",
          "Orust",
          "Orust",
          "Orust",
          "Sotenäs",
          "Sotenäs",
          "Sotenäs",
          "Sotenäs",
          "Sotenäs",
          "Sotenäs",
          "Sotenäs",
          "Sotenäs",
          "Sotenäs",
          "Sotenäs",
          "Munkedal",
          "Munkedal",
          "Munkedal",
          "Munkedal",
          "Munkedal",
          "Munkedal",
          "Munkedal",
          "Munkedal",
          "Munkedal",
          "Munkedal",
          "Tanum",
          "Tanum",
          "Tanum",
          "Tanum",
          "Tanum",
          "Tanum",
          "Tanum",
          "Tanum",
          "Tanum",
          "Tanum",
          "Dals-Ed",
          "Dals-Ed",
          "Dals-Ed",
          "Dals-Ed",
          "Dals-Ed",
          "Dals-Ed",
          "Dals-Ed",
          "Dals-Ed",
          "Dals-Ed",
          "Dals-Ed",
          "Färgelanda",
          "Färgelanda",
          "Färgelanda",
          "Färgelanda",
          "Färgelanda",
          "Färgelanda",
          "Färgelanda",
          "Färgelanda",
          "Färgelanda",
          "Färgelanda",
          "Ale",
          "Ale",
          "Ale",
          "Ale",
          "Ale",
          "Ale",
          "Ale",
          "Ale",
          "Ale",
          "Ale",
          "Lerum",
          "Lerum",
          "Lerum",
          "Lerum",
          "Lerum",
          "Lerum",
          "Lerum",
          "Lerum",
          "Lerum",
          "Lerum",
          "Vårgårda",
          "Vårgårda",
          "Vårgårda",
          "Vårgårda",
          "Vårgårda",
          "Vårgårda",
          "Vårgårda",
          "Vårgårda",
          "Vårgårda",
          "Vårgårda",
          "Bollebygd",
          "Bollebygd",
          "Bollebygd",
          "Bollebygd",
          "Bollebygd",
          "Bollebygd",
          "Bollebygd",
          "Bollebygd",
          "Bollebygd",
          "Bollebygd",
          "Grästorp",
          "Grästorp",
          "Grästorp",
          "Grästorp",
          "Grästorp",
          "Grästorp",
          "Grästorp",
          "Grästorp",
          "Grästorp",
          "Grästorp",
          "Essunga",
          "Essunga",
          "Essunga",
          "Essunga",
          "Essunga",
          "Essunga",
          "Essunga",
          "Essunga",
          "Essunga",
          "Essunga",
          "Karlsborg",
          "Karlsborg",
          "Karlsborg",
          "Karlsborg",
          "Karlsborg",
          "Karlsborg",
          "Karlsborg",
          "Karlsborg",
          "Karlsborg",
          "Karlsborg",
          "Gullspång",
          "Gullspång",
          "Gullspång",
          "Gullspång",
          "Gullspång",
          "Gullspång",
          "Gullspång",
          "Gullspång",
          "Gullspång",
          "Gullspång",
          "Tranemo",
          "Tranemo",
          "Tranemo",
          "Tranemo",
          "Tranemo",
          "Tranemo",
          "Tranemo",
          "Tranemo",
          "Tranemo",
          "Tranemo",
          "Bengtsfors",
          "Bengtsfors",
          "Bengtsfors",
          "Bengtsfors",
          "Bengtsfors",
          "Bengtsfors",
          "Bengtsfors",
          "Bengtsfors",
          "Bengtsfors",
          "Bengtsfors",
          "Mellerud",
          "Mellerud",
          "Mellerud",
          "Mellerud",
          "Mellerud",
          "Mellerud",
          "Mellerud",
          "Mellerud",
          "Mellerud",
          "Mellerud",
          "Lilla Edet",
          "Lilla Edet",
          "Lilla Edet",
          "Lilla Edet",
          "Lilla Edet",
          "Lilla Edet",
          "Lilla Edet",
          "Lilla Edet",
          "Lilla Edet",
          "Lilla Edet",
          "Mark",
          "Mark",
          "Mark",
          "Mark",
          "Mark",
          "Mark",
          "Mark",
          "Mark",
          "Mark",
          "Mark",
          "Svenljunga",
          "Svenljunga",
          "Svenljunga",
          "Svenljunga",
          "Svenljunga",
          "Svenljunga",
          "Svenljunga",
          "Svenljunga",
          "Svenljunga",
          "Svenljunga",
          "Herrljunga",
          "Herrljunga",
          "Herrljunga",
          "Herrljunga",
          "Herrljunga",
          "Herrljunga",
          "Herrljunga",
          "Herrljunga",
          "Herrljunga",
          "Herrljunga",
          "Vara",
          "Vara",
          "Vara",
          "Vara",
          "Vara",
          "Vara",
          "Vara",
          "Vara",
          "Vara",
          "Vara",
          "Götene",
          "Götene",
          "Götene",
          "Götene",
          "Götene",
          "Götene",
          "Götene",
          "Götene",
          "Götene",
          "Götene",
          "Tibro",
          "Tibro",
          "Tibro",
          "Tibro",
          "Tibro",
          "Tibro",
          "Tibro",
          "Tibro",
          "Tibro",
          "Tibro",
          "Töreboda",
          "Töreboda",
          "Töreboda",
          "Töreboda",
          "Töreboda",
          "Töreboda",
          "Töreboda",
          "Töreboda",
          "Töreboda",
          "Töreboda",
          "Göteborg",
          "Göteborg",
          "Göteborg",
          "Göteborg",
          "Göteborg",
          "Göteborg",
          "Göteborg",
          "Göteborg",
          "Göteborg",
          "Göteborg",
          "Mölndal",
          "Mölndal",
          "Mölndal",
          "Mölndal",
          "Mölndal",
          "Mölndal",
          "Mölndal",
          "Mölndal",
          "Mölndal",
          "Mölndal",
          "Kungälv",
          "Kungälv",
          "Kungälv",
          "Kungälv",
          "Kungälv",
          "Kungälv",
          "Kungälv",
          "Kungälv",
          "Kungälv",
          "Kungälv",
          "Lysekil",
          "Lysekil",
          "Lysekil",
          "Lysekil",
          "Lysekil",
          "Lysekil",
          "Lysekil",
          "Lysekil",
          "Lysekil",
          "Lysekil",
          "Uddevalla",
          "Uddevalla",
          "Uddevalla",
          "Uddevalla",
          "Uddevalla",
          "Uddevalla",
          "Uddevalla",
          "Uddevalla",
          "Uddevalla",
          "Uddevalla",
          "Strömstad",
          "Strömstad",
          "Strömstad",
          "Strömstad",
          "Strömstad",
          "Strömstad",
          "Strömstad",
          "Strömstad",
          "Strömstad",
          "Strömstad",
          "Vänersborg",
          "Vänersborg",
          "Vänersborg",
          "Vänersborg",
          "Vänersborg",
          "Vänersborg",
          "Vänersborg",
          "Vänersborg",
          "Vänersborg",
          "Vänersborg",
          "Trollhättan",
          "Trollhättan",
          "Trollhättan",
          "Trollhättan",
          "Trollhättan",
          "Trollhättan",
          "Trollhättan",
          "Trollhättan",
          "Trollhättan",
          "Trollhättan",
          "Alingsås",
          "Alingsås",
          "Alingsås",
          "Alingsås",
          "Alingsås",
          "Alingsås",
          "Alingsås",
          "Alingsås",
          "Alingsås",
          "Alingsås",
          "Borås",
          "Borås",
          "Borås",
          "Borås",
          "Borås",
          "Borås",
          "Borås",
          "Borås",
          "Borås",
          "Borås",
          "Ulricehamn",
          "Ulricehamn",
          "Ulricehamn",
          "Ulricehamn",
          "Ulricehamn",
          "Ulricehamn",
          "Ulricehamn",
          "Ulricehamn",
          "Ulricehamn",
          "Ulricehamn",
          "Åmål",
          "Åmål",
          "Åmål",
          "Åmål",
          "Åmål",
          "Åmål",
          "Åmål",
          "Åmål",
          "Åmål",
          "Åmål",
          "Mariestad",
          "Mariestad",
          "Mariestad",
          "Mariestad",
          "Mariestad",
          "Mariestad",
          "Mariestad",
          "Mariestad",
          "Mariestad",
          "Mariestad",
          "Lidköping",
          "Lidköping",
          "Lidköping",
          "Lidköping",
          "Lidköping",
          "Lidköping",
          "Lidköping",
          "Lidköping",
          "Lidköping",
          "Lidköping",
          "Skara",
          "Skara",
          "Skara",
          "Skara",
          "Skara",
          "Skara",
          "Skara",
          "Skara",
          "Skara",
          "Skara",
          "Skövde",
          "Skövde",
          "Skövde",
          "Skövde",
          "Skövde",
          "Skövde",
          "Skövde",
          "Skövde",
          "Skövde",
          "Skövde",
          "Hjo",
          "Hjo",
          "Hjo",
          "Hjo",
          "Hjo",
          "Hjo",
          "Hjo",
          "Hjo",
          "Hjo",
          "Hjo",
          "Tidaholm",
          "Tidaholm",
          "Tidaholm",
          "Tidaholm",
          "Tidaholm",
          "Tidaholm",
          "Tidaholm",
          "Tidaholm",
          "Tidaholm",
          "Tidaholm",
          "Falköping",
          "Falköping",
          "Falköping",
          "Falköping",
          "Falköping",
          "Falköping",
          "Falköping",
          "Falköping",
          "Falköping",
          "Falköping"
         ],
         "y": [
          0,
          0,
          0,
          0,
          0,
          0,
          0,
          0.8204719387755102,
          0.90020366598778,
          0.8541033434650456,
          0,
          0,
          0,
          0,
          0,
          0,
          0,
          0.784393607019743,
          0.8798228969006958,
          0.8888888888888888,
          0,
          0,
          0,
          0,
          0,
          0,
          0,
          0.8172293364377182,
          0.889030612244898,
          0.8034682080924855,
          0,
          0,
          0,
          0,
          0,
          0,
          0,
          0.823373676248109,
          0.8725352112676056,
          0.8169014084507042,
          0,
          0,
          0,
          0,
          0,
          0,
          0,
          0.8406893652795292,
          0.926073926073926,
          0.9241706161137441,
          0,
          0,
          0,
          0,
          0,
          0,
          0,
          0.7887442251154977,
          0.9095940959409594,
          0.8862559241706162,
          0,
          0,
          0,
          0,
          0,
          0,
          0,
          0.826658696951584,
          0.9414556962025317,
          0.9041916167664671,
          0,
          0,
          0,
          0,
          0,
          0,
          0,
          0.748422712933754,
          0.8881889763779528,
          0.8846153846153846,
          0,
          0,
          0,
          0,
          0,
          0,
          0,
          0.7762817193164163,
          0.9077490774907749,
          0.9073170731707317,
          0,
          0,
          0,
          0,
          0,
          0,
          0,
          0.7317436661698957,
          0.9676470588235294,
          0.9850746268656716,
          0,
          0,
          0,
          0,
          0,
          0,
          0,
          0.7298919567827131,
          0.924119241192412,
          0.875,
          0,
          0,
          0,
          0,
          0,
          0,
          0,
          0.770062805303559,
          0.8629629629629629,
          0.8480392156862745,
          0,
          0,
          0,
          0,
          0,
          0,
          0,
          0.810591731964334,
          0.9116161616161617,
          0.9052369077306733,
          0,
          0,
          0,
          0,
          0,
          0,
          0,
          0.6980237154150197,
          0.82174688057041,
          0.8095238095238095,
          0,
          0,
          0,
          0,
          0,
          0,
          0,
          0.7951923076923076,
          0.9015317286652079,
          0.8488372093023255,
          0,
          0,
          0,
          0,
          0,
          0,
          0,
          0.8268456375838926,
          0.9198813056379822,
          0.9347826086956522,
          0,
          0,
          0,
          0,
          0,
          0,
          0,
          0.7672301690507152,
          0.8818181818181818,
          0.8,
          0,
          0,
          0,
          0,
          0,
          0,
          0,
          0.830948121645796,
          0.8706365503080082,
          0.8979591836734694,
          0,
          0,
          0,
          0,
          0,
          0,
          0,
          0.6960667461263409,
          0.7890410958904109,
          0.632183908045977,
          0,
          0,
          0,
          0,
          0,
          0,
          0,
          0.8010788941335132,
          0.8647416413373861,
          0.847457627118644,
          0,
          0,
          0,
          0,
          0,
          0,
          0,
          0.7452364149611856,
          0.8803680981595092,
          0.9267015706806283,
          0,
          0,
          0,
          0,
          0,
          0,
          0,
          0.7293934681181959,
          0.8433734939759037,
          0.8260869565217391,
          0,
          0,
          0,
          0,
          0,
          0,
          0,
          0.7668285912560722,
          0.8464052287581699,
          0.8872180451127819,
          0,
          0,
          0,
          0,
          0,
          0,
          0,
          0.7481519245475401,
          0.8157327586206896,
          0.849438202247191,
          0,
          0,
          0,
          0,
          0,
          0,
          0,
          0.7455197132616488,
          0.8297872340425532,
          0.8220338983050848,
          0,
          0,
          0,
          0,
          0,
          0,
          0,
          0.7589437819420783,
          0.8568773234200744,
          0.788135593220339,
          0,
          0,
          0,
          0,
          0,
          0,
          0,
          0.7774725274725275,
          0.8998923573735199,
          0.9484536082474226,
          0,
          0,
          0,
          0,
          0,
          0,
          0,
          0.7948571428571428,
          0.9037227214377407,
          0.9019607843137255,
          0,
          0,
          0,
          0,
          0,
          0,
          0,
          0.7786259541984732,
          0.8998628257887518,
          0.8475609756097561,
          0,
          0,
          0,
          0,
          0,
          0,
          0,
          0.7573051948051948,
          0.9092664092664092,
          0.90625,
          0,
          0,
          0,
          0,
          0,
          0,
          0,
          0.7146631141618497,
          0.8066051919414654,
          0.7976744186046512,
          0,
          0,
          0,
          0,
          0,
          0,
          0,
          0.7740768937952036,
          0.86415963161934,
          0.8394276629570747,
          0,
          0,
          0,
          0,
          0,
          0,
          0,
          0.8090058733956929,
          0.8765581021310817,
          0.8505154639175257,
          0,
          0,
          0,
          0,
          0,
          0,
          0,
          0.8295612009237875,
          0.8910696761530913,
          0.87890625,
          0,
          0,
          0,
          0,
          0,
          0,
          0,
          0.7946554149085795,
          0.9041095890410958,
          0.9114093959731544,
          0,
          0,
          0,
          0,
          0,
          0,
          0,
          0.759344262295082,
          0.92,
          0.9257142857142857,
          0,
          0,
          0,
          0,
          0,
          0,
          0,
          0.8191416112003672,
          0.8980561555075594,
          0.9023354564755839,
          0,
          0,
          0,
          0,
          0,
          0,
          0,
          0.7609854752711895,
          0.8350253807106599,
          0.8523076923076923,
          0,
          0,
          0,
          0,
          0,
          0,
          0,
          0.8140767436930252,
          0.9077128845296478,
          0.913894324853229,
          0,
          0,
          0,
          0,
          0,
          0,
          0,
          0.7633374987984235,
          0.8225419664268585,
          0.820747520976354,
          0,
          0,
          0,
          0,
          0,
          0,
          0,
          0.7744413407821229,
          0.8252148997134671,
          0.8027027027027027,
          0,
          0,
          0,
          0,
          0,
          0,
          0,
          0.7979274611398963,
          0.8624708624708625,
          0.9037656903765691,
          0,
          0,
          0,
          0,
          0,
          0,
          0,
          0.8289009932713873,
          0.9350029815146095,
          0.8913649025069638,
          0,
          0,
          0,
          0,
          0,
          0,
          0,
          0.8313878080415046,
          0.9223300970873787,
          0.9108159392789373,
          0,
          0,
          0,
          0,
          0,
          0,
          0,
          0.7794822627037392,
          0.9379310344827586,
          0.9130434782608695,
          0,
          0,
          0,
          0,
          0,
          0,
          0,
          0.7853630862329803,
          0.8993411420204978,
          0.8953846153846153,
          0,
          0,
          0,
          0,
          0,
          0,
          0,
          0.7845303867403315,
          0.9037162162162162,
          0.8813559322033898,
          0,
          0,
          0,
          0,
          0,
          0,
          0,
          0.778164116828929,
          0.8836045056320401,
          0.9,
          0,
          0,
          0,
          0,
          0,
          0,
          0,
          0.7674418604651163,
          0.8771929824561403,
          0.8832271762208068
         ]
        }
       ],
       "layout": {
        "template": {
         "data": {
          "bar": [
           {
            "error_x": {
             "color": "#2a3f5f"
            },
            "error_y": {
             "color": "#2a3f5f"
            },
            "marker": {
             "line": {
              "color": "#E5ECF6",
              "width": 0.5
             },
             "pattern": {
              "fillmode": "overlay",
              "size": 10,
              "solidity": 0.2
             }
            },
            "type": "bar"
           }
          ],
          "barpolar": [
           {
            "marker": {
             "line": {
              "color": "#E5ECF6",
              "width": 0.5
             },
             "pattern": {
              "fillmode": "overlay",
              "size": 10,
              "solidity": 0.2
             }
            },
            "type": "barpolar"
           }
          ],
          "carpet": [
           {
            "aaxis": {
             "endlinecolor": "#2a3f5f",
             "gridcolor": "white",
             "linecolor": "white",
             "minorgridcolor": "white",
             "startlinecolor": "#2a3f5f"
            },
            "baxis": {
             "endlinecolor": "#2a3f5f",
             "gridcolor": "white",
             "linecolor": "white",
             "minorgridcolor": "white",
             "startlinecolor": "#2a3f5f"
            },
            "type": "carpet"
           }
          ],
          "choropleth": [
           {
            "colorbar": {
             "outlinewidth": 0,
             "ticks": ""
            },
            "type": "choropleth"
           }
          ],
          "contour": [
           {
            "colorbar": {
             "outlinewidth": 0,
             "ticks": ""
            },
            "colorscale": [
             [
              0,
              "#0d0887"
             ],
             [
              0.1111111111111111,
              "#46039f"
             ],
             [
              0.2222222222222222,
              "#7201a8"
             ],
             [
              0.3333333333333333,
              "#9c179e"
             ],
             [
              0.4444444444444444,
              "#bd3786"
             ],
             [
              0.5555555555555556,
              "#d8576b"
             ],
             [
              0.6666666666666666,
              "#ed7953"
             ],
             [
              0.7777777777777778,
              "#fb9f3a"
             ],
             [
              0.8888888888888888,
              "#fdca26"
             ],
             [
              1,
              "#f0f921"
             ]
            ],
            "type": "contour"
           }
          ],
          "contourcarpet": [
           {
            "colorbar": {
             "outlinewidth": 0,
             "ticks": ""
            },
            "type": "contourcarpet"
           }
          ],
          "heatmap": [
           {
            "colorbar": {
             "outlinewidth": 0,
             "ticks": ""
            },
            "colorscale": [
             [
              0,
              "#0d0887"
             ],
             [
              0.1111111111111111,
              "#46039f"
             ],
             [
              0.2222222222222222,
              "#7201a8"
             ],
             [
              0.3333333333333333,
              "#9c179e"
             ],
             [
              0.4444444444444444,
              "#bd3786"
             ],
             [
              0.5555555555555556,
              "#d8576b"
             ],
             [
              0.6666666666666666,
              "#ed7953"
             ],
             [
              0.7777777777777778,
              "#fb9f3a"
             ],
             [
              0.8888888888888888,
              "#fdca26"
             ],
             [
              1,
              "#f0f921"
             ]
            ],
            "type": "heatmap"
           }
          ],
          "heatmapgl": [
           {
            "colorbar": {
             "outlinewidth": 0,
             "ticks": ""
            },
            "colorscale": [
             [
              0,
              "#0d0887"
             ],
             [
              0.1111111111111111,
              "#46039f"
             ],
             [
              0.2222222222222222,
              "#7201a8"
             ],
             [
              0.3333333333333333,
              "#9c179e"
             ],
             [
              0.4444444444444444,
              "#bd3786"
             ],
             [
              0.5555555555555556,
              "#d8576b"
             ],
             [
              0.6666666666666666,
              "#ed7953"
             ],
             [
              0.7777777777777778,
              "#fb9f3a"
             ],
             [
              0.8888888888888888,
              "#fdca26"
             ],
             [
              1,
              "#f0f921"
             ]
            ],
            "type": "heatmapgl"
           }
          ],
          "histogram": [
           {
            "marker": {
             "pattern": {
              "fillmode": "overlay",
              "size": 10,
              "solidity": 0.2
             }
            },
            "type": "histogram"
           }
          ],
          "histogram2d": [
           {
            "colorbar": {
             "outlinewidth": 0,
             "ticks": ""
            },
            "colorscale": [
             [
              0,
              "#0d0887"
             ],
             [
              0.1111111111111111,
              "#46039f"
             ],
             [
              0.2222222222222222,
              "#7201a8"
             ],
             [
              0.3333333333333333,
              "#9c179e"
             ],
             [
              0.4444444444444444,
              "#bd3786"
             ],
             [
              0.5555555555555556,
              "#d8576b"
             ],
             [
              0.6666666666666666,
              "#ed7953"
             ],
             [
              0.7777777777777778,
              "#fb9f3a"
             ],
             [
              0.8888888888888888,
              "#fdca26"
             ],
             [
              1,
              "#f0f921"
             ]
            ],
            "type": "histogram2d"
           }
          ],
          "histogram2dcontour": [
           {
            "colorbar": {
             "outlinewidth": 0,
             "ticks": ""
            },
            "colorscale": [
             [
              0,
              "#0d0887"
             ],
             [
              0.1111111111111111,
              "#46039f"
             ],
             [
              0.2222222222222222,
              "#7201a8"
             ],
             [
              0.3333333333333333,
              "#9c179e"
             ],
             [
              0.4444444444444444,
              "#bd3786"
             ],
             [
              0.5555555555555556,
              "#d8576b"
             ],
             [
              0.6666666666666666,
              "#ed7953"
             ],
             [
              0.7777777777777778,
              "#fb9f3a"
             ],
             [
              0.8888888888888888,
              "#fdca26"
             ],
             [
              1,
              "#f0f921"
             ]
            ],
            "type": "histogram2dcontour"
           }
          ],
          "mesh3d": [
           {
            "colorbar": {
             "outlinewidth": 0,
             "ticks": ""
            },
            "type": "mesh3d"
           }
          ],
          "parcoords": [
           {
            "line": {
             "colorbar": {
              "outlinewidth": 0,
              "ticks": ""
             }
            },
            "type": "parcoords"
           }
          ],
          "pie": [
           {
            "automargin": true,
            "type": "pie"
           }
          ],
          "scatter": [
           {
            "fillpattern": {
             "fillmode": "overlay",
             "size": 10,
             "solidity": 0.2
            },
            "type": "scatter"
           }
          ],
          "scatter3d": [
           {
            "line": {
             "colorbar": {
              "outlinewidth": 0,
              "ticks": ""
             }
            },
            "marker": {
             "colorbar": {
              "outlinewidth": 0,
              "ticks": ""
             }
            },
            "type": "scatter3d"
           }
          ],
          "scattercarpet": [
           {
            "marker": {
             "colorbar": {
              "outlinewidth": 0,
              "ticks": ""
             }
            },
            "type": "scattercarpet"
           }
          ],
          "scattergeo": [
           {
            "marker": {
             "colorbar": {
              "outlinewidth": 0,
              "ticks": ""
             }
            },
            "type": "scattergeo"
           }
          ],
          "scattergl": [
           {
            "marker": {
             "colorbar": {
              "outlinewidth": 0,
              "ticks": ""
             }
            },
            "type": "scattergl"
           }
          ],
          "scattermapbox": [
           {
            "marker": {
             "colorbar": {
              "outlinewidth": 0,
              "ticks": ""
             }
            },
            "type": "scattermapbox"
           }
          ],
          "scatterpolar": [
           {
            "marker": {
             "colorbar": {
              "outlinewidth": 0,
              "ticks": ""
             }
            },
            "type": "scatterpolar"
           }
          ],
          "scatterpolargl": [
           {
            "marker": {
             "colorbar": {
              "outlinewidth": 0,
              "ticks": ""
             }
            },
            "type": "scatterpolargl"
           }
          ],
          "scatterternary": [
           {
            "marker": {
             "colorbar": {
              "outlinewidth": 0,
              "ticks": ""
             }
            },
            "type": "scatterternary"
           }
          ],
          "surface": [
           {
            "colorbar": {
             "outlinewidth": 0,
             "ticks": ""
            },
            "colorscale": [
             [
              0,
              "#0d0887"
             ],
             [
              0.1111111111111111,
              "#46039f"
             ],
             [
              0.2222222222222222,
              "#7201a8"
             ],
             [
              0.3333333333333333,
              "#9c179e"
             ],
             [
              0.4444444444444444,
              "#bd3786"
             ],
             [
              0.5555555555555556,
              "#d8576b"
             ],
             [
              0.6666666666666666,
              "#ed7953"
             ],
             [
              0.7777777777777778,
              "#fb9f3a"
             ],
             [
              0.8888888888888888,
              "#fdca26"
             ],
             [
              1,
              "#f0f921"
             ]
            ],
            "type": "surface"
           }
          ],
          "table": [
           {
            "cells": {
             "fill": {
              "color": "#EBF0F8"
             },
             "line": {
              "color": "white"
             }
            },
            "header": {
             "fill": {
              "color": "#C8D4E3"
             },
             "line": {
              "color": "white"
             }
            },
            "type": "table"
           }
          ]
         },
         "layout": {
          "annotationdefaults": {
           "arrowcolor": "#2a3f5f",
           "arrowhead": 0,
           "arrowwidth": 1
          },
          "autotypenumbers": "strict",
          "coloraxis": {
           "colorbar": {
            "outlinewidth": 0,
            "ticks": ""
           }
          },
          "colorscale": {
           "diverging": [
            [
             0,
             "#8e0152"
            ],
            [
             0.1,
             "#c51b7d"
            ],
            [
             0.2,
             "#de77ae"
            ],
            [
             0.3,
             "#f1b6da"
            ],
            [
             0.4,
             "#fde0ef"
            ],
            [
             0.5,
             "#f7f7f7"
            ],
            [
             0.6,
             "#e6f5d0"
            ],
            [
             0.7,
             "#b8e186"
            ],
            [
             0.8,
             "#7fbc41"
            ],
            [
             0.9,
             "#4d9221"
            ],
            [
             1,
             "#276419"
            ]
           ],
           "sequential": [
            [
             0,
             "#0d0887"
            ],
            [
             0.1111111111111111,
             "#46039f"
            ],
            [
             0.2222222222222222,
             "#7201a8"
            ],
            [
             0.3333333333333333,
             "#9c179e"
            ],
            [
             0.4444444444444444,
             "#bd3786"
            ],
            [
             0.5555555555555556,
             "#d8576b"
            ],
            [
             0.6666666666666666,
             "#ed7953"
            ],
            [
             0.7777777777777778,
             "#fb9f3a"
            ],
            [
             0.8888888888888888,
             "#fdca26"
            ],
            [
             1,
             "#f0f921"
            ]
           ],
           "sequentialminus": [
            [
             0,
             "#0d0887"
            ],
            [
             0.1111111111111111,
             "#46039f"
            ],
            [
             0.2222222222222222,
             "#7201a8"
            ],
            [
             0.3333333333333333,
             "#9c179e"
            ],
            [
             0.4444444444444444,
             "#bd3786"
            ],
            [
             0.5555555555555556,
             "#d8576b"
            ],
            [
             0.6666666666666666,
             "#ed7953"
            ],
            [
             0.7777777777777778,
             "#fb9f3a"
            ],
            [
             0.8888888888888888,
             "#fdca26"
            ],
            [
             1,
             "#f0f921"
            ]
           ]
          },
          "colorway": [
           "#636efa",
           "#EF553B",
           "#00cc96",
           "#ab63fa",
           "#FFA15A",
           "#19d3f3",
           "#FF6692",
           "#B6E880",
           "#FF97FF",
           "#FECB52"
          ],
          "font": {
           "color": "#2a3f5f"
          },
          "geo": {
           "bgcolor": "white",
           "lakecolor": "white",
           "landcolor": "#E5ECF6",
           "showlakes": true,
           "showland": true,
           "subunitcolor": "white"
          },
          "hoverlabel": {
           "align": "left"
          },
          "hovermode": "closest",
          "mapbox": {
           "style": "light"
          },
          "paper_bgcolor": "white",
          "plot_bgcolor": "#E5ECF6",
          "polar": {
           "angularaxis": {
            "gridcolor": "white",
            "linecolor": "white",
            "ticks": ""
           },
           "bgcolor": "#E5ECF6",
           "radialaxis": {
            "gridcolor": "white",
            "linecolor": "white",
            "ticks": ""
           }
          },
          "scene": {
           "xaxis": {
            "backgroundcolor": "#E5ECF6",
            "gridcolor": "white",
            "gridwidth": 2,
            "linecolor": "white",
            "showbackground": true,
            "ticks": "",
            "zerolinecolor": "white"
           },
           "yaxis": {
            "backgroundcolor": "#E5ECF6",
            "gridcolor": "white",
            "gridwidth": 2,
            "linecolor": "white",
            "showbackground": true,
            "ticks": "",
            "zerolinecolor": "white"
           },
           "zaxis": {
            "backgroundcolor": "#E5ECF6",
            "gridcolor": "white",
            "gridwidth": 2,
            "linecolor": "white",
            "showbackground": true,
            "ticks": "",
            "zerolinecolor": "white"
           }
          },
          "shapedefaults": {
           "line": {
            "color": "#2a3f5f"
           }
          },
          "ternary": {
           "aaxis": {
            "gridcolor": "white",
            "linecolor": "white",
            "ticks": ""
           },
           "baxis": {
            "gridcolor": "white",
            "linecolor": "white",
            "ticks": ""
           },
           "bgcolor": "#E5ECF6",
           "caxis": {
            "gridcolor": "white",
            "linecolor": "white",
            "ticks": ""
           }
          },
          "title": {
           "x": 0.05
          },
          "xaxis": {
           "automargin": true,
           "gridcolor": "white",
           "linecolor": "white",
           "ticks": "",
           "title": {
            "standoff": 15
           },
           "zerolinecolor": "white",
           "zerolinewidth": 2
          },
          "yaxis": {
           "automargin": true,
           "gridcolor": "white",
           "linecolor": "white",
           "ticks": "",
           "title": {
            "standoff": 15
           },
           "zerolinecolor": "white",
           "zerolinewidth": 2
          }
         }
        },
        "xaxis": {
         "anchor": "y",
         "domain": [
          0,
          1
         ]
        },
        "yaxis": {
         "anchor": "x",
         "domain": [
          0,
          1
         ]
        }
       }
      }
     },
     "metadata": {},
     "output_type": "display_data"
    }
   ],
   "source": [
    "plotter_alt(västra_götaland_län)"
   ]
  },
  {
   "cell_type": "code",
   "execution_count": 123,
   "metadata": {},
   "outputs": [
    {
     "data": {
      "application/vnd.plotly.v1+json": {
       "config": {
        "plotlyServerURL": "https://plot.ly"
       },
       "data": [
        {
         "name": "Andel minst 1 dos",
         "showlegend": true,
         "type": "bar",
         "x": [
          "Upplands Väsby",
          "Upplands Väsby",
          "Upplands Väsby",
          "Upplands Väsby",
          "Upplands Väsby",
          "Upplands Väsby",
          "Upplands Väsby",
          "Upplands Väsby",
          "Upplands Väsby",
          "Upplands Väsby",
          "Vallentuna",
          "Vallentuna",
          "Vallentuna",
          "Vallentuna",
          "Vallentuna",
          "Vallentuna",
          "Vallentuna",
          "Vallentuna",
          "Vallentuna",
          "Vallentuna",
          "Österåker",
          "Österåker",
          "Österåker",
          "Österåker",
          "Österåker",
          "Österåker",
          "Österåker",
          "Österåker",
          "Österåker",
          "Österåker",
          "Värmdö",
          "Värmdö",
          "Värmdö",
          "Värmdö",
          "Värmdö",
          "Värmdö",
          "Värmdö",
          "Värmdö",
          "Värmdö",
          "Värmdö",
          "Järfälla",
          "Järfälla",
          "Järfälla",
          "Järfälla",
          "Järfälla",
          "Järfälla",
          "Järfälla",
          "Järfälla",
          "Järfälla",
          "Järfälla",
          "Ekerö",
          "Ekerö",
          "Ekerö",
          "Ekerö",
          "Ekerö",
          "Ekerö",
          "Ekerö",
          "Ekerö",
          "Ekerö",
          "Ekerö",
          "Huddinge",
          "Huddinge",
          "Huddinge",
          "Huddinge",
          "Huddinge",
          "Huddinge",
          "Huddinge",
          "Huddinge",
          "Huddinge",
          "Huddinge",
          "Botkyrka",
          "Botkyrka",
          "Botkyrka",
          "Botkyrka",
          "Botkyrka",
          "Botkyrka",
          "Botkyrka",
          "Botkyrka",
          "Botkyrka",
          "Botkyrka",
          "Salem",
          "Salem",
          "Salem",
          "Salem",
          "Salem",
          "Salem",
          "Salem",
          "Salem",
          "Salem",
          "Salem",
          "Haninge",
          "Haninge",
          "Haninge",
          "Haninge",
          "Haninge",
          "Haninge",
          "Haninge",
          "Haninge",
          "Haninge",
          "Haninge",
          "Tyresö",
          "Tyresö",
          "Tyresö",
          "Tyresö",
          "Tyresö",
          "Tyresö",
          "Tyresö",
          "Tyresö",
          "Tyresö",
          "Tyresö",
          "Upplands-Bro",
          "Upplands-Bro",
          "Upplands-Bro",
          "Upplands-Bro",
          "Upplands-Bro",
          "Upplands-Bro",
          "Upplands-Bro",
          "Upplands-Bro",
          "Upplands-Bro",
          "Upplands-Bro",
          "Nykvarn",
          "Nykvarn",
          "Nykvarn",
          "Nykvarn",
          "Nykvarn",
          "Nykvarn",
          "Nykvarn",
          "Nykvarn",
          "Nykvarn",
          "Nykvarn",
          "Täby",
          "Täby",
          "Täby",
          "Täby",
          "Täby",
          "Täby",
          "Täby",
          "Täby",
          "Täby",
          "Täby",
          "Danderyd",
          "Danderyd",
          "Danderyd",
          "Danderyd",
          "Danderyd",
          "Danderyd",
          "Danderyd",
          "Danderyd",
          "Danderyd",
          "Danderyd",
          "Sollentuna",
          "Sollentuna",
          "Sollentuna",
          "Sollentuna",
          "Sollentuna",
          "Sollentuna",
          "Sollentuna",
          "Sollentuna",
          "Sollentuna",
          "Sollentuna",
          "Stockholm",
          "Stockholm",
          "Stockholm",
          "Stockholm",
          "Stockholm",
          "Stockholm",
          "Stockholm",
          "Stockholm",
          "Stockholm",
          "Stockholm",
          "Södertälje",
          "Södertälje",
          "Södertälje",
          "Södertälje",
          "Södertälje",
          "Södertälje",
          "Södertälje",
          "Södertälje",
          "Södertälje",
          "Södertälje",
          "Nacka",
          "Nacka",
          "Nacka",
          "Nacka",
          "Nacka",
          "Nacka",
          "Nacka",
          "Nacka",
          "Nacka",
          "Nacka",
          "Sundbyberg",
          "Sundbyberg",
          "Sundbyberg",
          "Sundbyberg",
          "Sundbyberg",
          "Sundbyberg",
          "Sundbyberg",
          "Sundbyberg",
          "Sundbyberg",
          "Sundbyberg",
          "Solna",
          "Solna",
          "Solna",
          "Solna",
          "Solna",
          "Solna",
          "Solna",
          "Solna",
          "Solna",
          "Solna",
          "Lidingö",
          "Lidingö",
          "Lidingö",
          "Lidingö",
          "Lidingö",
          "Lidingö",
          "Lidingö",
          "Lidingö",
          "Lidingö",
          "Lidingö",
          "Vaxholm",
          "Vaxholm",
          "Vaxholm",
          "Vaxholm",
          "Vaxholm",
          "Vaxholm",
          "Vaxholm",
          "Vaxholm",
          "Vaxholm",
          "Vaxholm",
          "Norrtälje",
          "Norrtälje",
          "Norrtälje",
          "Norrtälje",
          "Norrtälje",
          "Norrtälje",
          "Norrtälje",
          "Norrtälje",
          "Norrtälje",
          "Norrtälje",
          "Sigtuna",
          "Sigtuna",
          "Sigtuna",
          "Sigtuna",
          "Sigtuna",
          "Sigtuna",
          "Sigtuna",
          "Sigtuna",
          "Sigtuna",
          "Sigtuna",
          "Nynäshamn",
          "Nynäshamn",
          "Nynäshamn",
          "Nynäshamn",
          "Nynäshamn",
          "Nynäshamn",
          "Nynäshamn",
          "Nynäshamn",
          "Nynäshamn",
          "Nynäshamn"
         ],
         "y": [
          0.49793559042113955,
          0.6974231088944306,
          0.7302749551703527,
          0.7558647026732133,
          0.8050676648430751,
          0.8913455464308275,
          0.8992484734617191,
          0.9495861550037622,
          0.9612202688728024,
          0.9792284866468842,
          0.5670934091986723,
          0.8293885601577909,
          0.8014251781472684,
          0.8404106392907139,
          0.8908470722001137,
          0.9129303442754203,
          0.9300155520995335,
          0.963787250094304,
          0.9737960339943342,
          0.9504132231404959,
          0.5563088512241054,
          0.8066860465116279,
          0.8206839032527106,
          0.8440799090466136,
          0.8667062490722873,
          0.9251217814892136,
          0.9419197517180226,
          0.9678330797652684,
          0.9743341404358353,
          0.9865229110512129,
          0.5802034428794992,
          0.8213751868460388,
          0.8025164113785558,
          0.8349106203995794,
          0.8943519526995488,
          0.9172100935639353,
          0.9394126103922776,
          0.9558279370952821,
          0.9766606822262118,
          0.9551282051282052,
          0.4811012599160056,
          0.6725118483412322,
          0.7389008879289657,
          0.7463625341012428,
          0.8253954607977991,
          0.8807438748401063,
          0.9143932267168391,
          0.9479868400438666,
          0.9560731132075472,
          0.9408528198074277,
          0.5656970912738215,
          0.7949561403508771,
          0.7886317222600409,
          0.80128,
          0.8689748811948405,
          0.9061065197428834,
          0.9288389513108615,
          0.9582338902147971,
          0.9782082324455206,
          1,
          0.48425557933353713,
          0.7025820847943895,
          0.7332317073170732,
          0.731376168641696,
          0.8151824817518248,
          0.8707798225870516,
          0.8921803311390385,
          0.9278984559015965,
          0.9452251218812733,
          0.9538670284938942,
          0.34714339765418084,
          0.537842190016103,
          0.5951807228915663,
          0.6339059215771544,
          0.7251099416047869,
          0.8172547750080932,
          0.8404218333526481,
          0.9061662198391421,
          0.9195599862495702,
          0.8975332068311196,
          0.4890310786106033,
          0.7185840707964601,
          0.7557497700091996,
          0.7511291779584462,
          0.8439086294416244,
          0.9026915113871635,
          0.9107276819204801,
          0.9504132231404959,
          0.9789964994165694,
          0.9375,
          0.43698492462311556,
          0.6611323967645807,
          0.7227605437434647,
          0.7241717310331307,
          0.7872685697425684,
          0.8597000082870639,
          0.8841222879684418,
          0.9334534867600166,
          0.9490196078431372,
          0.9491525423728814,
          0.5376234252638747,
          0.7721954576737784,
          0.7787301587301587,
          0.7970095888184625,
          0.8704424268626604,
          0.9090416158329945,
          0.9131111111111111,
          0.964771011575239,
          0.9767970882620565,
          0.990990990990991,
          0.46932698034544373,
          0.7059585492227979,
          0.7397531952401939,
          0.7307452771434503,
          0.8032,
          0.8778886554621849,
          0.9046210720887246,
          0.9406504065040651,
          0.9503042596348884,
          0.9344262295081968,
          0.5507649513212796,
          0.7932960893854749,
          0.8144927536231884,
          0.8306666666666667,
          0.8867235079171741,
          0.9330518697225573,
          0.9403846153846154,
          0.9655172413793104,
          0.9748427672955975,
          0.9433962264150944,
          0.6241199182375653,
          0.8573433115060805,
          0.8678190663492392,
          0.8617208592557812,
          0.9201470726878477,
          0.9436382361202135,
          0.9548139397519196,
          0.9707845172771763,
          0.9721854304635762,
          0.9682539682539683,
          0.6729014598540146,
          0.8794979079497908,
          0.842647732478241,
          0.8530884808013356,
          0.9173309041220679,
          0.9378716424031167,
          0.9498562759501756,
          0.9695465077788812,
          0.9835436094349973,
          0.9769673704414588,
          0.6016313932980599,
          0.8060170633138751,
          0.7801745269144034,
          0.7945085863975939,
          0.868866017276236,
          0.9167369111173551,
          0.92303265717163,
          0.955189514700673,
          0.9685577580314423,
          0.9609984399375975,
          0.5385051497684966,
          0.7398082149633353,
          0.8170520114594682,
          0.8196359686693429,
          0.8498957558255181,
          0.8896863721014553,
          0.9123597371726335,
          0.9389668801962655,
          0.9511795859412614,
          0.9470918009810791,
          0.33444619010212095,
          0.49625836943678614,
          0.6097323284823285,
          0.6329801151229723,
          0.708934353841625,
          0.8170866083890399,
          0.8644050935137286,
          0.9316250663834307,
          0.9460834181078331,
          0.9355670103092784,
          0.6086681429927239,
          0.8271400132714002,
          0.829058561897702,
          0.8448443579766537,
          0.8992194384993075,
          0.9199841028018811,
          0.9301415236374586,
          0.962876254180602,
          0.974559686888454,
          0.9676113360323887,
          0.4725069897483691,
          0.6627155172413793,
          0.7890707808267577,
          0.774018944519621,
          0.8092114071495515,
          0.8740079365079365,
          0.9052183173588925,
          0.9298816568047338,
          0.95695618754804,
          0.9351851851851852,
          0.5338743824982357,
          0.7508250825082509,
          0.8248021847209579,
          0.8021478948493268,
          0.8456286575633978,
          0.8988528568277079,
          0.9106300305301138,
          0.9325573979591837,
          0.9473125884016973,
          0.9458438287153652,
          0.6132616487455197,
          0.8591851322373124,
          0.8385505273902688,
          0.8407176858293666,
          0.9023373529849635,
          0.9270581113801453,
          0.9468107209640557,
          0.9650465356773527,
          0.9768555466879489,
          0.9737931034482759,
          0.6410614525139665,
          0.8316062176165803,
          0.8352490421455939,
          0.8360814742967992,
          0.9136191677175284,
          0.9206266318537859,
          0.9496810772501771,
          0.960429242119383,
          0.9776119402985075,
          0.9805825242718447,
          0.5369052079430499,
          0.7519260400616333,
          0.8138297872340425,
          0.8174210726511981,
          0.8644757888614222,
          0.9201203982403334,
          0.945381984036488,
          0.9693122861242963,
          0.9847403396505046,
          0.98,
          0.443033381712627,
          0.65390625,
          0.6994783086216365,
          0.6971222093173313,
          0.7910614525139665,
          0.8679721109627652,
          0.8988361683079678,
          0.9498834498834499,
          0.9696647152740819,
          0.9264214046822743,
          0.4796573875802998,
          0.6859375,
          0.7309160305343512,
          0.7459954233409611,
          0.8061051441492368,
          0.8962515114873035,
          0.9242741694103562,
          0.9553005134400483,
          0.9725490196078431,
          0.9964028776978417
         ]
        },
        {
         "name": "Andel minst 2 doser",
         "showlegend": true,
         "type": "bar",
         "x": [
          "Upplands Väsby",
          "Upplands Väsby",
          "Upplands Väsby",
          "Upplands Väsby",
          "Upplands Väsby",
          "Upplands Väsby",
          "Upplands Väsby",
          "Upplands Väsby",
          "Upplands Väsby",
          "Upplands Väsby",
          "Vallentuna",
          "Vallentuna",
          "Vallentuna",
          "Vallentuna",
          "Vallentuna",
          "Vallentuna",
          "Vallentuna",
          "Vallentuna",
          "Vallentuna",
          "Vallentuna",
          "Österåker",
          "Österåker",
          "Österåker",
          "Österåker",
          "Österåker",
          "Österåker",
          "Österåker",
          "Österåker",
          "Österåker",
          "Österåker",
          "Värmdö",
          "Värmdö",
          "Värmdö",
          "Värmdö",
          "Värmdö",
          "Värmdö",
          "Värmdö",
          "Värmdö",
          "Värmdö",
          "Värmdö",
          "Järfälla",
          "Järfälla",
          "Järfälla",
          "Järfälla",
          "Järfälla",
          "Järfälla",
          "Järfälla",
          "Järfälla",
          "Järfälla",
          "Järfälla",
          "Ekerö",
          "Ekerö",
          "Ekerö",
          "Ekerö",
          "Ekerö",
          "Ekerö",
          "Ekerö",
          "Ekerö",
          "Ekerö",
          "Ekerö",
          "Huddinge",
          "Huddinge",
          "Huddinge",
          "Huddinge",
          "Huddinge",
          "Huddinge",
          "Huddinge",
          "Huddinge",
          "Huddinge",
          "Huddinge",
          "Botkyrka",
          "Botkyrka",
          "Botkyrka",
          "Botkyrka",
          "Botkyrka",
          "Botkyrka",
          "Botkyrka",
          "Botkyrka",
          "Botkyrka",
          "Botkyrka",
          "Salem",
          "Salem",
          "Salem",
          "Salem",
          "Salem",
          "Salem",
          "Salem",
          "Salem",
          "Salem",
          "Salem",
          "Haninge",
          "Haninge",
          "Haninge",
          "Haninge",
          "Haninge",
          "Haninge",
          "Haninge",
          "Haninge",
          "Haninge",
          "Haninge",
          "Tyresö",
          "Tyresö",
          "Tyresö",
          "Tyresö",
          "Tyresö",
          "Tyresö",
          "Tyresö",
          "Tyresö",
          "Tyresö",
          "Tyresö",
          "Upplands-Bro",
          "Upplands-Bro",
          "Upplands-Bro",
          "Upplands-Bro",
          "Upplands-Bro",
          "Upplands-Bro",
          "Upplands-Bro",
          "Upplands-Bro",
          "Upplands-Bro",
          "Upplands-Bro",
          "Nykvarn",
          "Nykvarn",
          "Nykvarn",
          "Nykvarn",
          "Nykvarn",
          "Nykvarn",
          "Nykvarn",
          "Nykvarn",
          "Nykvarn",
          "Nykvarn",
          "Täby",
          "Täby",
          "Täby",
          "Täby",
          "Täby",
          "Täby",
          "Täby",
          "Täby",
          "Täby",
          "Täby",
          "Danderyd",
          "Danderyd",
          "Danderyd",
          "Danderyd",
          "Danderyd",
          "Danderyd",
          "Danderyd",
          "Danderyd",
          "Danderyd",
          "Danderyd",
          "Sollentuna",
          "Sollentuna",
          "Sollentuna",
          "Sollentuna",
          "Sollentuna",
          "Sollentuna",
          "Sollentuna",
          "Sollentuna",
          "Sollentuna",
          "Sollentuna",
          "Stockholm",
          "Stockholm",
          "Stockholm",
          "Stockholm",
          "Stockholm",
          "Stockholm",
          "Stockholm",
          "Stockholm",
          "Stockholm",
          "Stockholm",
          "Södertälje",
          "Södertälje",
          "Södertälje",
          "Södertälje",
          "Södertälje",
          "Södertälje",
          "Södertälje",
          "Södertälje",
          "Södertälje",
          "Södertälje",
          "Nacka",
          "Nacka",
          "Nacka",
          "Nacka",
          "Nacka",
          "Nacka",
          "Nacka",
          "Nacka",
          "Nacka",
          "Nacka",
          "Sundbyberg",
          "Sundbyberg",
          "Sundbyberg",
          "Sundbyberg",
          "Sundbyberg",
          "Sundbyberg",
          "Sundbyberg",
          "Sundbyberg",
          "Sundbyberg",
          "Sundbyberg",
          "Solna",
          "Solna",
          "Solna",
          "Solna",
          "Solna",
          "Solna",
          "Solna",
          "Solna",
          "Solna",
          "Solna",
          "Lidingö",
          "Lidingö",
          "Lidingö",
          "Lidingö",
          "Lidingö",
          "Lidingö",
          "Lidingö",
          "Lidingö",
          "Lidingö",
          "Lidingö",
          "Vaxholm",
          "Vaxholm",
          "Vaxholm",
          "Vaxholm",
          "Vaxholm",
          "Vaxholm",
          "Vaxholm",
          "Vaxholm",
          "Vaxholm",
          "Vaxholm",
          "Norrtälje",
          "Norrtälje",
          "Norrtälje",
          "Norrtälje",
          "Norrtälje",
          "Norrtälje",
          "Norrtälje",
          "Norrtälje",
          "Norrtälje",
          "Norrtälje",
          "Sigtuna",
          "Sigtuna",
          "Sigtuna",
          "Sigtuna",
          "Sigtuna",
          "Sigtuna",
          "Sigtuna",
          "Sigtuna",
          "Sigtuna",
          "Sigtuna",
          "Nynäshamn",
          "Nynäshamn",
          "Nynäshamn",
          "Nynäshamn",
          "Nynäshamn",
          "Nynäshamn",
          "Nynäshamn",
          "Nynäshamn",
          "Nynäshamn",
          "Nynäshamn"
         ],
         "y": [
          0.4318744838976053,
          0.6275976724854531,
          0.6678123132098027,
          0.7146753955264593,
          0.7816009213936078,
          0.877763739734681,
          0.8891498356035697,
          0.9425633308251818,
          0.9596690796277145,
          0.9703264094955489,
          0.5068752963489805,
          0.757396449704142,
          0.7574821852731591,
          0.8163789080727951,
          0.8724654159560357,
          0.9017213771016813,
          0.9228615863141524,
          0.9588834402112411,
          0.9709631728045326,
          0.9504132231404959,
          0.4783427495291902,
          0.7369186046511628,
          0.7748123436196831,
          0.8120838070488875,
          0.8491910345851269,
          0.9135699373695199,
          0.9334958989137664,
          0.9613127580960661,
          0.9704600484261501,
          0.9838274932614556,
          0.52660406885759,
          0.7556053811659192,
          0.7450765864332604,
          0.7946021731510691,
          0.8759919091333437,
          0.903742557414233,
          0.9309919901417129,
          0.9472710453283997,
          0.9718731298623579,
          0.9391025641025641,
          0.4139057396173588,
          0.6,
          0.6788256939444844,
          0.6992270384965141,
          0.796681568088033,
          0.8676571878382368,
          0.9035075930654481,
          0.9401535328215572,
          0.9528301886792453,
          0.938101788170564,
          0.5015045135406219,
          0.7291666666666666,
          0.7358747447243023,
          0.76256,
          0.8531341932563928,
          0.8971533516988063,
          0.923391215526047,
          0.951073985680191,
          0.9733656174334141,
          0.9954337899543378,
          0.4176092937939468,
          0.62958240357029,
          0.6771341463414634,
          0.6917167867563866,
          0.7922335766423357,
          0.8542301072421554,
          0.8782166367444644,
          0.9186076943208584,
          0.9394895325494694,
          0.9484396200814111,
          0.29644343548997354,
          0.4573268921095008,
          0.5287435456110154,
          0.5850547220410234,
          0.6936774565640546,
          0.7949174490126254,
          0.8229227025147757,
          0.8946976467083706,
          0.9116534891715367,
          0.8918406072106262,
          0.42687385740402195,
          0.6513274336283186,
          0.6936522539098436,
          0.7073170731707317,
          0.823181049069374,
          0.8898550724637682,
          0.8934733683420856,
          0.9455922865013774,
          0.9766627771295215,
          0.9375,
          0.3658291457286432,
          0.5644955300127714,
          0.6551411641686999,
          0.6778409462196955,
          0.7593862949030021,
          0.8442031988066628,
          0.872534516765286,
          0.9245806183280189,
          0.9444947209653092,
          0.9453860640301318,
          0.45965270684371806,
          0.6944253269098417,
          0.7250793650793651,
          0.7601170160897124,
          0.8492578181294135,
          0.8991459943066287,
          0.9035555555555556,
          0.9582284851534978,
          0.9713375796178344,
          0.9887387387387387,
          0.4050029779630733,
          0.6139896373056994,
          0.6725429704715734,
          0.6890180610338384,
          0.7785142857142857,
          0.864233193277311,
          0.8913123844731978,
          0.9333333333333333,
          0.947261663286004,
          0.9180327868852459,
          0.46453407510431155,
          0.6899441340782123,
          0.755072463768116,
          0.794,
          0.8739342265529841,
          0.9240048250904704,
          0.9326923076923077,
          0.962474645030426,
          0.9748427672955975,
          0.9433962264150944,
          0.5491710197592551,
          0.8007483629560337,
          0.8285891729634614,
          0.8330789998826154,
          0.9063825775431319,
          0.9345566894485535,
          0.9434435912581217,
          0.9639626279104256,
          0.9687417218543046,
          0.9621489621489622,
          0.6053832116788321,
          0.8292887029288702,
          0.80439761795694,
          0.8160267111853089,
          0.9034388521976771,
          0.9267992618412959,
          0.9374001916320664,
          0.9606090698444224,
          0.9797037849698299,
          0.9750479846449136,
          0.5399029982363316,
          0.7400089806915132,
          0.7309540150995195,
          0.7568642670030077,
          0.8480977761440912,
          0.9042802285286129,
          0.9129621637174508,
          0.9486362026213249,
          0.963773069036227,
          0.9547581903276131,
          0.4741094207691581,
          0.6753499820522024,
          0.7661501835935923,
          0.7842574085582635,
          0.8261221903800676,
          0.8734775944756662,
          0.8988862015632623,
          0.9294261959929127,
          0.944406997271706,
          0.9409016584910068,
          0.27808326787117044,
          0.42418274911382436,
          0.545997920997921,
          0.5830062794348508,
          0.6789814542243156,
          0.7998236979357967,
          0.8526661360923199,
          0.9233935209771641,
          0.9422685656154629,
          0.9304123711340206,
          0.5344827586206896,
          0.7571333775713338,
          0.7808747220163084,
          0.8073929961089494,
          0.8792647614251542,
          0.9085911108167185,
          0.9215095854662251,
          0.9556298773690078,
          0.9691780821917808,
          0.9635627530364372,
          0.4217148182665424,
          0.5948275862068966,
          0.7378400659521847,
          0.7317320703653586,
          0.7831034944437006,
          0.857308201058201,
          0.8894568690095846,
          0.9207100591715977,
          0.9492697924673328,
          0.9259259259259259,
          0.4654199011997177,
          0.6740924092409241,
          0.7713745536026889,
          0.7617546484291515,
          0.8240822840929243,
          0.884844473858372,
          0.897307799056342,
          0.923469387755102,
          0.9416548797736917,
          0.9433249370277078,
          0.5577060931899641,
          0.8155825589706933,
          0.7968696835658388,
          0.8059318930794581,
          0.8828345987792169,
          0.9163135593220338,
          0.9343444836900062,
          0.9584281282316442,
          0.9708699122106943,
          0.9682758620689655,
          0.5824022346368715,
          0.7746113989637305,
          0.789272030651341,
          0.8128031037827352,
          0.8978562421185372,
          0.9133159268929504,
          0.9433026222537207,
          0.9564050972501676,
          0.9757462686567164,
          0.9805825242718447,
          0.4664668415136755,
          0.6587057010785824,
          0.7587765957446808,
          0.7740585774058577,
          0.8403373564054093,
          0.9076175040518638,
          0.9369441277080958,
          0.9657798874047908,
          0.9810484863401427,
          0.9788888888888889,
          0.38243831640058057,
          0.575,
          0.6333058758923669,
          0.6510517486127242,
          0.7607541899441341,
          0.85106067349058,
          0.8856311548791406,
          0.9408508158508159,
          0.9654071314529005,
          0.9130434782608695,
          0.38187009279086365,
          0.575,
          0.6423118865866958,
          0.6926010678871091,
          0.7758620689655172,
          0.8781136638452237,
          0.9108051481592337,
          0.9438236182422229,
          0.9640522875816994,
          0.9820143884892086
         ]
        },
        {
         "name": "Andel 3 doser",
         "showlegend": true,
         "type": "bar",
         "x": [
          "Upplands Väsby",
          "Upplands Väsby",
          "Upplands Väsby",
          "Upplands Väsby",
          "Upplands Väsby",
          "Upplands Väsby",
          "Upplands Väsby",
          "Upplands Väsby",
          "Upplands Väsby",
          "Upplands Väsby",
          "Vallentuna",
          "Vallentuna",
          "Vallentuna",
          "Vallentuna",
          "Vallentuna",
          "Vallentuna",
          "Vallentuna",
          "Vallentuna",
          "Vallentuna",
          "Vallentuna",
          "Österåker",
          "Österåker",
          "Österåker",
          "Österåker",
          "Österåker",
          "Österåker",
          "Österåker",
          "Österåker",
          "Österåker",
          "Österåker",
          "Värmdö",
          "Värmdö",
          "Värmdö",
          "Värmdö",
          "Värmdö",
          "Värmdö",
          "Värmdö",
          "Värmdö",
          "Värmdö",
          "Värmdö",
          "Järfälla",
          "Järfälla",
          "Järfälla",
          "Järfälla",
          "Järfälla",
          "Järfälla",
          "Järfälla",
          "Järfälla",
          "Järfälla",
          "Järfälla",
          "Ekerö",
          "Ekerö",
          "Ekerö",
          "Ekerö",
          "Ekerö",
          "Ekerö",
          "Ekerö",
          "Ekerö",
          "Ekerö",
          "Ekerö",
          "Huddinge",
          "Huddinge",
          "Huddinge",
          "Huddinge",
          "Huddinge",
          "Huddinge",
          "Huddinge",
          "Huddinge",
          "Huddinge",
          "Huddinge",
          "Botkyrka",
          "Botkyrka",
          "Botkyrka",
          "Botkyrka",
          "Botkyrka",
          "Botkyrka",
          "Botkyrka",
          "Botkyrka",
          "Botkyrka",
          "Botkyrka",
          "Salem",
          "Salem",
          "Salem",
          "Salem",
          "Salem",
          "Salem",
          "Salem",
          "Salem",
          "Salem",
          "Salem",
          "Haninge",
          "Haninge",
          "Haninge",
          "Haninge",
          "Haninge",
          "Haninge",
          "Haninge",
          "Haninge",
          "Haninge",
          "Haninge",
          "Tyresö",
          "Tyresö",
          "Tyresö",
          "Tyresö",
          "Tyresö",
          "Tyresö",
          "Tyresö",
          "Tyresö",
          "Tyresö",
          "Tyresö",
          "Upplands-Bro",
          "Upplands-Bro",
          "Upplands-Bro",
          "Upplands-Bro",
          "Upplands-Bro",
          "Upplands-Bro",
          "Upplands-Bro",
          "Upplands-Bro",
          "Upplands-Bro",
          "Upplands-Bro",
          "Nykvarn",
          "Nykvarn",
          "Nykvarn",
          "Nykvarn",
          "Nykvarn",
          "Nykvarn",
          "Nykvarn",
          "Nykvarn",
          "Nykvarn",
          "Nykvarn",
          "Täby",
          "Täby",
          "Täby",
          "Täby",
          "Täby",
          "Täby",
          "Täby",
          "Täby",
          "Täby",
          "Täby",
          "Danderyd",
          "Danderyd",
          "Danderyd",
          "Danderyd",
          "Danderyd",
          "Danderyd",
          "Danderyd",
          "Danderyd",
          "Danderyd",
          "Danderyd",
          "Sollentuna",
          "Sollentuna",
          "Sollentuna",
          "Sollentuna",
          "Sollentuna",
          "Sollentuna",
          "Sollentuna",
          "Sollentuna",
          "Sollentuna",
          "Sollentuna",
          "Stockholm",
          "Stockholm",
          "Stockholm",
          "Stockholm",
          "Stockholm",
          "Stockholm",
          "Stockholm",
          "Stockholm",
          "Stockholm",
          "Stockholm",
          "Södertälje",
          "Södertälje",
          "Södertälje",
          "Södertälje",
          "Södertälje",
          "Södertälje",
          "Södertälje",
          "Södertälje",
          "Södertälje",
          "Södertälje",
          "Nacka",
          "Nacka",
          "Nacka",
          "Nacka",
          "Nacka",
          "Nacka",
          "Nacka",
          "Nacka",
          "Nacka",
          "Nacka",
          "Sundbyberg",
          "Sundbyberg",
          "Sundbyberg",
          "Sundbyberg",
          "Sundbyberg",
          "Sundbyberg",
          "Sundbyberg",
          "Sundbyberg",
          "Sundbyberg",
          "Sundbyberg",
          "Solna",
          "Solna",
          "Solna",
          "Solna",
          "Solna",
          "Solna",
          "Solna",
          "Solna",
          "Solna",
          "Solna",
          "Lidingö",
          "Lidingö",
          "Lidingö",
          "Lidingö",
          "Lidingö",
          "Lidingö",
          "Lidingö",
          "Lidingö",
          "Lidingö",
          "Lidingö",
          "Vaxholm",
          "Vaxholm",
          "Vaxholm",
          "Vaxholm",
          "Vaxholm",
          "Vaxholm",
          "Vaxholm",
          "Vaxholm",
          "Vaxholm",
          "Vaxholm",
          "Norrtälje",
          "Norrtälje",
          "Norrtälje",
          "Norrtälje",
          "Norrtälje",
          "Norrtälje",
          "Norrtälje",
          "Norrtälje",
          "Norrtälje",
          "Norrtälje",
          "Sigtuna",
          "Sigtuna",
          "Sigtuna",
          "Sigtuna",
          "Sigtuna",
          "Sigtuna",
          "Sigtuna",
          "Sigtuna",
          "Sigtuna",
          "Sigtuna",
          "Nynäshamn",
          "Nynäshamn",
          "Nynäshamn",
          "Nynäshamn",
          "Nynäshamn",
          "Nynäshamn",
          "Nynäshamn",
          "Nynäshamn",
          "Nynäshamn",
          "Nynäshamn"
         ],
         "y": [
          0,
          0,
          0.2927375971309026,
          0.39252591380250956,
          0.5354160668010366,
          0.7162034112444725,
          0.7832315641146078,
          0.8989214948582894,
          0.9317476732161324,
          0.9465875370919882,
          0,
          0,
          0.39216152019002376,
          0.5286980867942137,
          0.6829638051923441,
          0.7706164931945556,
          0.8367029548989113,
          0.92832893247831,
          0.9398016997167139,
          0.9214876033057852,
          0,
          0,
          0.3969974979149291,
          0.5028422933246711,
          0.6526643906783435,
          0.7944328462073765,
          0.871647084903569,
          0.9376222560312976,
          0.9520581113801453,
          0.9514824797843666,
          0,
          0,
          0.34573304157549234,
          0.5026288117770767,
          0.669985996576941,
          0.7720442302239864,
          0.8568494557403984,
          0.9125809435707678,
          0.9539198084979055,
          0.9134615384615384,
          0,
          0,
          0.29021678265738743,
          0.3654895422855411,
          0.5225240715268226,
          0.6762766899537538,
          0.7947856470904449,
          0.8944070186432712,
          0.9257075471698113,
          0.9037138927097662,
          0,
          0,
          0.34138869979577946,
          0.46848,
          0.6334012219959266,
          0.758494031221304,
          0.8542730677562138,
          0.9196499602227526,
          0.9539951573849879,
          0.9726027397260274,
          0,
          0,
          0.3125609756097561,
          0.39111534567974754,
          0.5575474452554745,
          0.6924400900304515,
          0.77508477957311,
          0.8641716828055482,
          0.9073702322913679,
          0.903663500678426,
          0,
          0,
          0.19283993115318415,
          0.25389577444371964,
          0.39182467017518563,
          0.5521204273227581,
          0.6682118437825936,
          0.8139708072683944,
          0.856651770367824,
          0.8273244781783681,
          0,
          0,
          0.296688132474701,
          0.3712737127371274,
          0.5795262267343486,
          0.7507246376811594,
          0.7989497374343586,
          0.9035812672176309,
          0.9498249708284714,
          0.9097222222222222,
          0,
          0,
          0.2872777971418613,
          0.363196758805463,
          0.5125765287305452,
          0.6719980111046656,
          0.7679980276134122,
          0.8803549147372799,
          0.9131221719457013,
          0.9209039548022598,
          0,
          0,
          0.33174603174603173,
          0.4446611409068747,
          0.6258826920305519,
          0.7644028737969364,
          0.8131111111111111,
          0.9219929542023151,
          0.9454049135577798,
          0.9617117117117117,
          0,
          0,
          0.26862053768179817,
          0.3294581689848453,
          0.49897142857142857,
          0.6691176470588235,
          0.7918669131238447,
          0.8963414634146342,
          0.9148073022312373,
          0.8688524590163934,
          0,
          0,
          0.3289855072463768,
          0.4573333333333333,
          0.6382460414129111,
          0.7738238841978287,
          0.8519230769230769,
          0.9350912778904665,
          0.9538784067085954,
          0.9433962264150944,
          0,
          0,
          0.46434116551081667,
          0.565794107289588,
          0.7264070896577731,
          0.8279187342009175,
          0.8883638511518015,
          0.9399377131840427,
          0.9528476821192053,
          0.9352869352869353,
          0,
          0,
          0.4615208428767751,
          0.547245409015025,
          0.7340013664313368,
          0.8281730572072996,
          0.8738422229319707,
          0.9344587884806356,
          0.9621503017004936,
          0.9539347408829175,
          0,
          0,
          0.3761153054221002,
          0.4840399728339963,
          0.6400477853335784,
          0.7733445724454435,
          0.8328298086606244,
          0.9121501948281969,
          0.9425837320574163,
          0.9344773790951638,
          0,
          0,
          0.42858680009146055,
          0.5226777746051475,
          0.6099794458482823,
          0.7200257099065543,
          0.8076751403925803,
          0.8842169824178819,
          0.9139784946236559,
          0.9153235225414623,
          0,
          0,
          0.1910732848232848,
          0.24862637362637363,
          0.35663821018545777,
          0.5511643282156762,
          0.6776760843613211,
          0.8425385023898035,
          0.8929298067141404,
          0.8891752577319587,
          0,
          0,
          0.40355819125277986,
          0.5177181767648694,
          0.6833060556464812,
          0.785387825395774,
          0.8509485094850948,
          0.9231884057971015,
          0.9478962818003914,
          0.9342105263157895,
          0,
          0,
          0.3837003886468025,
          0.4369079837618403,
          0.5316642120765832,
          0.6722883597883598,
          0.777422790202343,
          0.8621301775147929,
          0.9108378170637971,
          0.9012345679012346,
          0,
          0,
          0.44135564736363,
          0.5029386621072879,
          0.6049831530413193,
          0.7305316567394662,
          0.8102969747432694,
          0.8786670918367347,
          0.9123055162659123,
          0.9130982367758187,
          0,
          0,
          0.41510717931269137,
          0.5292932991578176,
          0.6869138008039303,
          0.7857142857142857,
          0.874714315395803,
          0.9338159255429163,
          0.9521149241819633,
          0.9489655172413793,
          0,
          0,
          0.3954022988505747,
          0.5092143549951503,
          0.7118537200504413,
          0.8046997389033943,
          0.8858965272856131,
          0.926224010731053,
          0.9720149253731343,
          0.9611650485436893,
          0,
          0,
          0.38018617021276596,
          0.4717890199061747,
          0.6329794968736367,
          0.7803889789303079,
          0.8753705815279361,
          0.9366375979688707,
          0.9618508491262614,
          0.9611111111111111,
          0,
          0,
          0.2343492586490939,
          0.3122983610788489,
          0.46145251396648046,
          0.6582109479305741,
          0.7735004476275739,
          0.8921911421911422,
          0.9377328366152209,
          0.8896321070234113,
          0,
          0,
          0.27835332606324975,
          0.3747775235189423,
          0.5387224420576597,
          0.7301088270858525,
          0.827596527985633,
          0.8979160374509212,
          0.9313725490196079,
          0.9424460431654677
         ]
        },
        {
         "name": "Andel 4 doser",
         "showlegend": true,
         "type": "bar",
         "x": [
          "Upplands Väsby",
          "Upplands Väsby",
          "Upplands Väsby",
          "Upplands Väsby",
          "Upplands Väsby",
          "Upplands Väsby",
          "Upplands Väsby",
          "Upplands Väsby",
          "Upplands Väsby",
          "Upplands Väsby",
          "Vallentuna",
          "Vallentuna",
          "Vallentuna",
          "Vallentuna",
          "Vallentuna",
          "Vallentuna",
          "Vallentuna",
          "Vallentuna",
          "Vallentuna",
          "Vallentuna",
          "Österåker",
          "Österåker",
          "Österåker",
          "Österåker",
          "Österåker",
          "Österåker",
          "Österåker",
          "Österåker",
          "Österåker",
          "Österåker",
          "Värmdö",
          "Värmdö",
          "Värmdö",
          "Värmdö",
          "Värmdö",
          "Värmdö",
          "Värmdö",
          "Värmdö",
          "Värmdö",
          "Värmdö",
          "Järfälla",
          "Järfälla",
          "Järfälla",
          "Järfälla",
          "Järfälla",
          "Järfälla",
          "Järfälla",
          "Järfälla",
          "Järfälla",
          "Järfälla",
          "Ekerö",
          "Ekerö",
          "Ekerö",
          "Ekerö",
          "Ekerö",
          "Ekerö",
          "Ekerö",
          "Ekerö",
          "Ekerö",
          "Ekerö",
          "Huddinge",
          "Huddinge",
          "Huddinge",
          "Huddinge",
          "Huddinge",
          "Huddinge",
          "Huddinge",
          "Huddinge",
          "Huddinge",
          "Huddinge",
          "Botkyrka",
          "Botkyrka",
          "Botkyrka",
          "Botkyrka",
          "Botkyrka",
          "Botkyrka",
          "Botkyrka",
          "Botkyrka",
          "Botkyrka",
          "Botkyrka",
          "Salem",
          "Salem",
          "Salem",
          "Salem",
          "Salem",
          "Salem",
          "Salem",
          "Salem",
          "Salem",
          "Salem",
          "Haninge",
          "Haninge",
          "Haninge",
          "Haninge",
          "Haninge",
          "Haninge",
          "Haninge",
          "Haninge",
          "Haninge",
          "Haninge",
          "Tyresö",
          "Tyresö",
          "Tyresö",
          "Tyresö",
          "Tyresö",
          "Tyresö",
          "Tyresö",
          "Tyresö",
          "Tyresö",
          "Tyresö",
          "Upplands-Bro",
          "Upplands-Bro",
          "Upplands-Bro",
          "Upplands-Bro",
          "Upplands-Bro",
          "Upplands-Bro",
          "Upplands-Bro",
          "Upplands-Bro",
          "Upplands-Bro",
          "Upplands-Bro",
          "Nykvarn",
          "Nykvarn",
          "Nykvarn",
          "Nykvarn",
          "Nykvarn",
          "Nykvarn",
          "Nykvarn",
          "Nykvarn",
          "Nykvarn",
          "Nykvarn",
          "Täby",
          "Täby",
          "Täby",
          "Täby",
          "Täby",
          "Täby",
          "Täby",
          "Täby",
          "Täby",
          "Täby",
          "Danderyd",
          "Danderyd",
          "Danderyd",
          "Danderyd",
          "Danderyd",
          "Danderyd",
          "Danderyd",
          "Danderyd",
          "Danderyd",
          "Danderyd",
          "Sollentuna",
          "Sollentuna",
          "Sollentuna",
          "Sollentuna",
          "Sollentuna",
          "Sollentuna",
          "Sollentuna",
          "Sollentuna",
          "Sollentuna",
          "Sollentuna",
          "Stockholm",
          "Stockholm",
          "Stockholm",
          "Stockholm",
          "Stockholm",
          "Stockholm",
          "Stockholm",
          "Stockholm",
          "Stockholm",
          "Stockholm",
          "Södertälje",
          "Södertälje",
          "Södertälje",
          "Södertälje",
          "Södertälje",
          "Södertälje",
          "Södertälje",
          "Södertälje",
          "Södertälje",
          "Södertälje",
          "Nacka",
          "Nacka",
          "Nacka",
          "Nacka",
          "Nacka",
          "Nacka",
          "Nacka",
          "Nacka",
          "Nacka",
          "Nacka",
          "Sundbyberg",
          "Sundbyberg",
          "Sundbyberg",
          "Sundbyberg",
          "Sundbyberg",
          "Sundbyberg",
          "Sundbyberg",
          "Sundbyberg",
          "Sundbyberg",
          "Sundbyberg",
          "Solna",
          "Solna",
          "Solna",
          "Solna",
          "Solna",
          "Solna",
          "Solna",
          "Solna",
          "Solna",
          "Solna",
          "Lidingö",
          "Lidingö",
          "Lidingö",
          "Lidingö",
          "Lidingö",
          "Lidingö",
          "Lidingö",
          "Lidingö",
          "Lidingö",
          "Lidingö",
          "Vaxholm",
          "Vaxholm",
          "Vaxholm",
          "Vaxholm",
          "Vaxholm",
          "Vaxholm",
          "Vaxholm",
          "Vaxholm",
          "Vaxholm",
          "Vaxholm",
          "Norrtälje",
          "Norrtälje",
          "Norrtälje",
          "Norrtälje",
          "Norrtälje",
          "Norrtälje",
          "Norrtälje",
          "Norrtälje",
          "Norrtälje",
          "Norrtälje",
          "Sigtuna",
          "Sigtuna",
          "Sigtuna",
          "Sigtuna",
          "Sigtuna",
          "Sigtuna",
          "Sigtuna",
          "Sigtuna",
          "Sigtuna",
          "Sigtuna",
          "Nynäshamn",
          "Nynäshamn",
          "Nynäshamn",
          "Nynäshamn",
          "Nynäshamn",
          "Nynäshamn",
          "Nynäshamn",
          "Nynäshamn",
          "Nynäshamn",
          "Nynäshamn"
         ],
         "y": [
          0,
          0,
          0,
          0,
          0,
          0,
          0,
          0.7652370203160271,
          0.8360910031023785,
          0.8219584569732937,
          0,
          0,
          0,
          0,
          0,
          0,
          0,
          0.8249717087891362,
          0.8477337110481586,
          0.8057851239669421,
          0,
          0,
          0,
          0,
          0,
          0,
          0,
          0.8376439904368616,
          0.8799031476997579,
          0.8517520215633423,
          0,
          0,
          0,
          0,
          0,
          0,
          0,
          0.8066604995374653,
          0.8539796529024536,
          0.7788461538461539,
          0,
          0,
          0,
          0,
          0,
          0,
          0,
          0.7519974933416889,
          0.8222287735849056,
          0.796423658872077,
          0,
          0,
          0,
          0,
          0,
          0,
          0,
          0.807478122513922,
          0.8910411622276029,
          0.9223744292237442,
          0,
          0,
          0,
          0,
          0,
          0,
          0,
          0.7189217482334468,
          0.7938055635216519,
          0.7924016282225237,
          0,
          0,
          0,
          0,
          0,
          0,
          0,
          0.6364313375037236,
          0.7019594362323822,
          0.6793168880455408,
          0,
          0,
          0,
          0,
          0,
          0,
          0,
          0.7892561983471075,
          0.8716452742123687,
          0.8333333333333334,
          0,
          0,
          0,
          0,
          0,
          0,
          0,
          0.7465686954110634,
          0.8102564102564103,
          0.815442561205273,
          0,
          0,
          0,
          0,
          0,
          0,
          0,
          0.8120281831907398,
          0.8448589626933576,
          0.8355855855855856,
          0,
          0,
          0,
          0,
          0,
          0,
          0,
          0.7715447154471544,
          0.8184584178498986,
          0.8142076502732241,
          0,
          0,
          0,
          0,
          0,
          0,
          0,
          0.7971602434077079,
          0.8176100628930818,
          0.8490566037735849,
          0,
          0,
          0,
          0,
          0,
          0,
          0,
          0.8462108853625983,
          0.8781456953642384,
          0.8522588522588522,
          0,
          0,
          0,
          0,
          0,
          0,
          0,
          0.8242303872889771,
          0.8782227098189797,
          0.7754318618042226,
          0,
          0,
          0,
          0,
          0,
          0,
          0,
          0.7888770811193766,
          0.8578263841421736,
          0.84399375975039,
          0,
          0,
          0,
          0,
          0,
          0,
          0,
          0.7569033664985689,
          0.8138340555288076,
          0.8109086661994861,
          0,
          0,
          0,
          0,
          0,
          0,
          0,
          0.6262612851832182,
          0.7321973550356052,
          0.7422680412371134,
          0,
          0,
          0,
          0,
          0,
          0,
          0,
          0.8202898550724638,
          0.8598336594911937,
          0.8451417004048583,
          0,
          0,
          0,
          0,
          0,
          0,
          0,
          0.7109467455621302,
          0.8039969254419678,
          0.7746913580246914,
          0,
          0,
          0,
          0,
          0,
          0,
          0,
          0.7413903061224489,
          0.791018387553041,
          0.8035264483627204,
          0,
          0,
          0,
          0,
          0,
          0,
          0,
          0.8179937952430196,
          0.8687150837988827,
          0.8675862068965517,
          0,
          0,
          0,
          0,
          0,
          0,
          0,
          0.8276324614352784,
          0.8638059701492538,
          0.8349514563106796,
          0,
          0,
          0,
          0,
          0,
          0,
          0,
          0.8300033116237996,
          0.8700467634752646,
          0.8866666666666667,
          0,
          0,
          0,
          0,
          0,
          0,
          0,
          0.7462121212121212,
          0.8435337945715806,
          0.782608695652174,
          0,
          0,
          0,
          0,
          0,
          0,
          0,
          0.721836303231652,
          0.8,
          0.7949640287769785
         ]
        }
       ],
       "layout": {
        "template": {
         "data": {
          "bar": [
           {
            "error_x": {
             "color": "#2a3f5f"
            },
            "error_y": {
             "color": "#2a3f5f"
            },
            "marker": {
             "line": {
              "color": "#E5ECF6",
              "width": 0.5
             },
             "pattern": {
              "fillmode": "overlay",
              "size": 10,
              "solidity": 0.2
             }
            },
            "type": "bar"
           }
          ],
          "barpolar": [
           {
            "marker": {
             "line": {
              "color": "#E5ECF6",
              "width": 0.5
             },
             "pattern": {
              "fillmode": "overlay",
              "size": 10,
              "solidity": 0.2
             }
            },
            "type": "barpolar"
           }
          ],
          "carpet": [
           {
            "aaxis": {
             "endlinecolor": "#2a3f5f",
             "gridcolor": "white",
             "linecolor": "white",
             "minorgridcolor": "white",
             "startlinecolor": "#2a3f5f"
            },
            "baxis": {
             "endlinecolor": "#2a3f5f",
             "gridcolor": "white",
             "linecolor": "white",
             "minorgridcolor": "white",
             "startlinecolor": "#2a3f5f"
            },
            "type": "carpet"
           }
          ],
          "choropleth": [
           {
            "colorbar": {
             "outlinewidth": 0,
             "ticks": ""
            },
            "type": "choropleth"
           }
          ],
          "contour": [
           {
            "colorbar": {
             "outlinewidth": 0,
             "ticks": ""
            },
            "colorscale": [
             [
              0,
              "#0d0887"
             ],
             [
              0.1111111111111111,
              "#46039f"
             ],
             [
              0.2222222222222222,
              "#7201a8"
             ],
             [
              0.3333333333333333,
              "#9c179e"
             ],
             [
              0.4444444444444444,
              "#bd3786"
             ],
             [
              0.5555555555555556,
              "#d8576b"
             ],
             [
              0.6666666666666666,
              "#ed7953"
             ],
             [
              0.7777777777777778,
              "#fb9f3a"
             ],
             [
              0.8888888888888888,
              "#fdca26"
             ],
             [
              1,
              "#f0f921"
             ]
            ],
            "type": "contour"
           }
          ],
          "contourcarpet": [
           {
            "colorbar": {
             "outlinewidth": 0,
             "ticks": ""
            },
            "type": "contourcarpet"
           }
          ],
          "heatmap": [
           {
            "colorbar": {
             "outlinewidth": 0,
             "ticks": ""
            },
            "colorscale": [
             [
              0,
              "#0d0887"
             ],
             [
              0.1111111111111111,
              "#46039f"
             ],
             [
              0.2222222222222222,
              "#7201a8"
             ],
             [
              0.3333333333333333,
              "#9c179e"
             ],
             [
              0.4444444444444444,
              "#bd3786"
             ],
             [
              0.5555555555555556,
              "#d8576b"
             ],
             [
              0.6666666666666666,
              "#ed7953"
             ],
             [
              0.7777777777777778,
              "#fb9f3a"
             ],
             [
              0.8888888888888888,
              "#fdca26"
             ],
             [
              1,
              "#f0f921"
             ]
            ],
            "type": "heatmap"
           }
          ],
          "heatmapgl": [
           {
            "colorbar": {
             "outlinewidth": 0,
             "ticks": ""
            },
            "colorscale": [
             [
              0,
              "#0d0887"
             ],
             [
              0.1111111111111111,
              "#46039f"
             ],
             [
              0.2222222222222222,
              "#7201a8"
             ],
             [
              0.3333333333333333,
              "#9c179e"
             ],
             [
              0.4444444444444444,
              "#bd3786"
             ],
             [
              0.5555555555555556,
              "#d8576b"
             ],
             [
              0.6666666666666666,
              "#ed7953"
             ],
             [
              0.7777777777777778,
              "#fb9f3a"
             ],
             [
              0.8888888888888888,
              "#fdca26"
             ],
             [
              1,
              "#f0f921"
             ]
            ],
            "type": "heatmapgl"
           }
          ],
          "histogram": [
           {
            "marker": {
             "pattern": {
              "fillmode": "overlay",
              "size": 10,
              "solidity": 0.2
             }
            },
            "type": "histogram"
           }
          ],
          "histogram2d": [
           {
            "colorbar": {
             "outlinewidth": 0,
             "ticks": ""
            },
            "colorscale": [
             [
              0,
              "#0d0887"
             ],
             [
              0.1111111111111111,
              "#46039f"
             ],
             [
              0.2222222222222222,
              "#7201a8"
             ],
             [
              0.3333333333333333,
              "#9c179e"
             ],
             [
              0.4444444444444444,
              "#bd3786"
             ],
             [
              0.5555555555555556,
              "#d8576b"
             ],
             [
              0.6666666666666666,
              "#ed7953"
             ],
             [
              0.7777777777777778,
              "#fb9f3a"
             ],
             [
              0.8888888888888888,
              "#fdca26"
             ],
             [
              1,
              "#f0f921"
             ]
            ],
            "type": "histogram2d"
           }
          ],
          "histogram2dcontour": [
           {
            "colorbar": {
             "outlinewidth": 0,
             "ticks": ""
            },
            "colorscale": [
             [
              0,
              "#0d0887"
             ],
             [
              0.1111111111111111,
              "#46039f"
             ],
             [
              0.2222222222222222,
              "#7201a8"
             ],
             [
              0.3333333333333333,
              "#9c179e"
             ],
             [
              0.4444444444444444,
              "#bd3786"
             ],
             [
              0.5555555555555556,
              "#d8576b"
             ],
             [
              0.6666666666666666,
              "#ed7953"
             ],
             [
              0.7777777777777778,
              "#fb9f3a"
             ],
             [
              0.8888888888888888,
              "#fdca26"
             ],
             [
              1,
              "#f0f921"
             ]
            ],
            "type": "histogram2dcontour"
           }
          ],
          "mesh3d": [
           {
            "colorbar": {
             "outlinewidth": 0,
             "ticks": ""
            },
            "type": "mesh3d"
           }
          ],
          "parcoords": [
           {
            "line": {
             "colorbar": {
              "outlinewidth": 0,
              "ticks": ""
             }
            },
            "type": "parcoords"
           }
          ],
          "pie": [
           {
            "automargin": true,
            "type": "pie"
           }
          ],
          "scatter": [
           {
            "fillpattern": {
             "fillmode": "overlay",
             "size": 10,
             "solidity": 0.2
            },
            "type": "scatter"
           }
          ],
          "scatter3d": [
           {
            "line": {
             "colorbar": {
              "outlinewidth": 0,
              "ticks": ""
             }
            },
            "marker": {
             "colorbar": {
              "outlinewidth": 0,
              "ticks": ""
             }
            },
            "type": "scatter3d"
           }
          ],
          "scattercarpet": [
           {
            "marker": {
             "colorbar": {
              "outlinewidth": 0,
              "ticks": ""
             }
            },
            "type": "scattercarpet"
           }
          ],
          "scattergeo": [
           {
            "marker": {
             "colorbar": {
              "outlinewidth": 0,
              "ticks": ""
             }
            },
            "type": "scattergeo"
           }
          ],
          "scattergl": [
           {
            "marker": {
             "colorbar": {
              "outlinewidth": 0,
              "ticks": ""
             }
            },
            "type": "scattergl"
           }
          ],
          "scattermapbox": [
           {
            "marker": {
             "colorbar": {
              "outlinewidth": 0,
              "ticks": ""
             }
            },
            "type": "scattermapbox"
           }
          ],
          "scatterpolar": [
           {
            "marker": {
             "colorbar": {
              "outlinewidth": 0,
              "ticks": ""
             }
            },
            "type": "scatterpolar"
           }
          ],
          "scatterpolargl": [
           {
            "marker": {
             "colorbar": {
              "outlinewidth": 0,
              "ticks": ""
             }
            },
            "type": "scatterpolargl"
           }
          ],
          "scatterternary": [
           {
            "marker": {
             "colorbar": {
              "outlinewidth": 0,
              "ticks": ""
             }
            },
            "type": "scatterternary"
           }
          ],
          "surface": [
           {
            "colorbar": {
             "outlinewidth": 0,
             "ticks": ""
            },
            "colorscale": [
             [
              0,
              "#0d0887"
             ],
             [
              0.1111111111111111,
              "#46039f"
             ],
             [
              0.2222222222222222,
              "#7201a8"
             ],
             [
              0.3333333333333333,
              "#9c179e"
             ],
             [
              0.4444444444444444,
              "#bd3786"
             ],
             [
              0.5555555555555556,
              "#d8576b"
             ],
             [
              0.6666666666666666,
              "#ed7953"
             ],
             [
              0.7777777777777778,
              "#fb9f3a"
             ],
             [
              0.8888888888888888,
              "#fdca26"
             ],
             [
              1,
              "#f0f921"
             ]
            ],
            "type": "surface"
           }
          ],
          "table": [
           {
            "cells": {
             "fill": {
              "color": "#EBF0F8"
             },
             "line": {
              "color": "white"
             }
            },
            "header": {
             "fill": {
              "color": "#C8D4E3"
             },
             "line": {
              "color": "white"
             }
            },
            "type": "table"
           }
          ]
         },
         "layout": {
          "annotationdefaults": {
           "arrowcolor": "#2a3f5f",
           "arrowhead": 0,
           "arrowwidth": 1
          },
          "autotypenumbers": "strict",
          "coloraxis": {
           "colorbar": {
            "outlinewidth": 0,
            "ticks": ""
           }
          },
          "colorscale": {
           "diverging": [
            [
             0,
             "#8e0152"
            ],
            [
             0.1,
             "#c51b7d"
            ],
            [
             0.2,
             "#de77ae"
            ],
            [
             0.3,
             "#f1b6da"
            ],
            [
             0.4,
             "#fde0ef"
            ],
            [
             0.5,
             "#f7f7f7"
            ],
            [
             0.6,
             "#e6f5d0"
            ],
            [
             0.7,
             "#b8e186"
            ],
            [
             0.8,
             "#7fbc41"
            ],
            [
             0.9,
             "#4d9221"
            ],
            [
             1,
             "#276419"
            ]
           ],
           "sequential": [
            [
             0,
             "#0d0887"
            ],
            [
             0.1111111111111111,
             "#46039f"
            ],
            [
             0.2222222222222222,
             "#7201a8"
            ],
            [
             0.3333333333333333,
             "#9c179e"
            ],
            [
             0.4444444444444444,
             "#bd3786"
            ],
            [
             0.5555555555555556,
             "#d8576b"
            ],
            [
             0.6666666666666666,
             "#ed7953"
            ],
            [
             0.7777777777777778,
             "#fb9f3a"
            ],
            [
             0.8888888888888888,
             "#fdca26"
            ],
            [
             1,
             "#f0f921"
            ]
           ],
           "sequentialminus": [
            [
             0,
             "#0d0887"
            ],
            [
             0.1111111111111111,
             "#46039f"
            ],
            [
             0.2222222222222222,
             "#7201a8"
            ],
            [
             0.3333333333333333,
             "#9c179e"
            ],
            [
             0.4444444444444444,
             "#bd3786"
            ],
            [
             0.5555555555555556,
             "#d8576b"
            ],
            [
             0.6666666666666666,
             "#ed7953"
            ],
            [
             0.7777777777777778,
             "#fb9f3a"
            ],
            [
             0.8888888888888888,
             "#fdca26"
            ],
            [
             1,
             "#f0f921"
            ]
           ]
          },
          "colorway": [
           "#636efa",
           "#EF553B",
           "#00cc96",
           "#ab63fa",
           "#FFA15A",
           "#19d3f3",
           "#FF6692",
           "#B6E880",
           "#FF97FF",
           "#FECB52"
          ],
          "font": {
           "color": "#2a3f5f"
          },
          "geo": {
           "bgcolor": "white",
           "lakecolor": "white",
           "landcolor": "#E5ECF6",
           "showlakes": true,
           "showland": true,
           "subunitcolor": "white"
          },
          "hoverlabel": {
           "align": "left"
          },
          "hovermode": "closest",
          "mapbox": {
           "style": "light"
          },
          "paper_bgcolor": "white",
          "plot_bgcolor": "#E5ECF6",
          "polar": {
           "angularaxis": {
            "gridcolor": "white",
            "linecolor": "white",
            "ticks": ""
           },
           "bgcolor": "#E5ECF6",
           "radialaxis": {
            "gridcolor": "white",
            "linecolor": "white",
            "ticks": ""
           }
          },
          "scene": {
           "xaxis": {
            "backgroundcolor": "#E5ECF6",
            "gridcolor": "white",
            "gridwidth": 2,
            "linecolor": "white",
            "showbackground": true,
            "ticks": "",
            "zerolinecolor": "white"
           },
           "yaxis": {
            "backgroundcolor": "#E5ECF6",
            "gridcolor": "white",
            "gridwidth": 2,
            "linecolor": "white",
            "showbackground": true,
            "ticks": "",
            "zerolinecolor": "white"
           },
           "zaxis": {
            "backgroundcolor": "#E5ECF6",
            "gridcolor": "white",
            "gridwidth": 2,
            "linecolor": "white",
            "showbackground": true,
            "ticks": "",
            "zerolinecolor": "white"
           }
          },
          "shapedefaults": {
           "line": {
            "color": "#2a3f5f"
           }
          },
          "ternary": {
           "aaxis": {
            "gridcolor": "white",
            "linecolor": "white",
            "ticks": ""
           },
           "baxis": {
            "gridcolor": "white",
            "linecolor": "white",
            "ticks": ""
           },
           "bgcolor": "#E5ECF6",
           "caxis": {
            "gridcolor": "white",
            "linecolor": "white",
            "ticks": ""
           }
          },
          "title": {
           "x": 0.05
          },
          "xaxis": {
           "automargin": true,
           "gridcolor": "white",
           "linecolor": "white",
           "ticks": "",
           "title": {
            "standoff": 15
           },
           "zerolinecolor": "white",
           "zerolinewidth": 2
          },
          "yaxis": {
           "automargin": true,
           "gridcolor": "white",
           "linecolor": "white",
           "ticks": "",
           "title": {
            "standoff": 15
           },
           "zerolinecolor": "white",
           "zerolinewidth": 2
          }
         }
        },
        "xaxis": {
         "anchor": "y",
         "domain": [
          0,
          1
         ]
        },
        "yaxis": {
         "anchor": "x",
         "domain": [
          0,
          1
         ]
        }
       }
      }
     },
     "metadata": {},
     "output_type": "display_data"
    }
   ],
   "source": [
    "plotter_alt(stockholm_län)"
   ]
  },
  {
   "cell_type": "code",
   "execution_count": null,
   "metadata": {},
   "outputs": [],
   "source": []
  }
 ],
 "metadata": {
  "kernelspec": {
   "display_name": "Python 3.9.13 ('data-behandlin-cyrille-kolle-IH-hno8Y')",
   "language": "python",
   "name": "python3"
  },
  "language_info": {
   "codemirror_mode": {
    "name": "ipython",
    "version": 3
   },
   "file_extension": ".py",
   "mimetype": "text/x-python",
   "name": "python",
   "nbconvert_exporter": "python",
   "pygments_lexer": "ipython3",
   "version": "3.9.13"
  },
  "orig_nbformat": 4,
  "vscode": {
   "interpreter": {
    "hash": "687cb790cab5c1df02f1d8017d39b24847b850bfcb98624e1903a6099427824d"
   }
  }
 },
 "nbformat": 4,
 "nbformat_minor": 2
}
